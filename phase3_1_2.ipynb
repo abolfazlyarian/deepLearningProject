{
  "cells": [
    {
      "attachments": {},
      "cell_type": "markdown",
      "metadata": {
        "id": "YEYU9YCUhGDh"
      },
      "source": [
        "`Adaptive Transformers for Learning Multimodal Representations`\\\n",
        "Vision-and-language reasoning requires an understanding of visual concepts, language semantics, and, most importantly, the alignment and relationships between these two modalities. We thus propose the LXMERT (Learning Cross-Modality Encoder Representations from Transformers) framework to learn these vision-and-language connections. In LXMERT, we build a large-scale Transformer model that consists of three encoders: an object relationship encoder, a language encoder, and a cross-modality encoder. Next, to endow our model with the capability of connecting vision and language semantics, we used pre-trained the model with large amounts of image-and-sentence pairs, via five diverse representative pre-training tasks: masked language modeling, masked object prediction (feature regression and label classification), cross-modality matching, and image question answering. These tasks help in learning both intra-modality and cross-modality relationships. Then fine-tunned this Model on our dataset in this project. \n",
        "\n",
        "<img src=\"https://drive.google.com/file/d/1_k94nRsBYbe5F1qeirTOYF3wROEtGEP_/view?usp=share_link\" alt=\": The LXMERT model for learning vision-and-language cross-modality representations.\" />"
      ]
    },
    {
      "cell_type": "markdown",
      "metadata": {
        "id": "fLms3tNca5BK"
      },
      "source": [
        "# install and import packages "
      ]
    },
    {
      "cell_type": "markdown",
      "metadata": {
        "id": "76uP5yUSbDIr"
      },
      "source": [
        "in this part for fast and robust training we extract faces from images\n",
        "ans store `bbox` ,`embedding feature`,`sentences`,`sentiment cls` as json file \n",
        "for trian ,test ,validation \\\n",
        "extraction and storing are in appendix section of this notebook"
      ]
    },
    {
      "cell_type": "code",
      "execution_count": 2,
      "metadata": {
        "colab": {
          "base_uri": "https://localhost:8080/"
        },
        "id": "vEb44p3X3GAI",
        "outputId": "c8f9ee2f-3645-4189-ac72-8ea985795a2e"
      },
      "outputs": [
        {
          "name": "stdout",
          "output_type": "stream",
          "text": [
            "Mounted at /content/drive/\n"
          ]
        }
      ],
      "source": [
        "from google.colab import drive\n",
        "drive.mount('/content/drive/')\n",
        "! cp -r /content/drive/MyDrive/Transfomer/* .\n",
        "# ! cp /content/drive/MyDrive/multidataset.zip .\n",
        "# !unzip ./multidataset.zip "
      ]
    },
    {
      "cell_type": "code",
      "execution_count": 7,
      "metadata": {
        "colab": {
          "base_uri": "https://localhost:8080/"
        },
        "id": "xeClh1f7SEtJ",
        "outputId": "13107cf2-b5de-4848-a85d-92779988291a"
      },
      "outputs": [
        {
          "name": "stdout",
          "output_type": "stream",
          "text": [
            "Archive:  ./multidataset.zip\n",
            "  inflating: content/drive/MyDrive/train_dataset.json  \n",
            "  inflating: content/drive/MyDrive/test_dataset.json  \n",
            "  inflating: content/drive/MyDrive/validation_dataset.json  \n"
          ]
        }
      ],
      "source": [
        "! cp /content/drive/MyDrive/multidataset.zip .\n",
        "!unzip ./multidataset.zip "
      ]
    },
    {
      "cell_type": "code",
      "execution_count": null,
      "metadata": {
        "id": "3R51cHYcLp_O"
      },
      "outputs": [],
      "source": [
        "# ! pip install transformers\n",
        "!pip install git+https://github.com/huggingface/transformers\n",
        "!pip install boto3"
      ]
    },
    {
      "cell_type": "code",
      "execution_count": null,
      "metadata": {
        "id": "xaB71irkwtWr"
      },
      "outputs": [],
      "source": [
        "# download pretrained transfomer\n",
        "!mkdir -p snap/pretrained \n",
        "!wget https://nlp.cs.unc.edu/data/model_LXRT.pth -P snap/pretrained"
      ]
    },
    {
      "cell_type": "markdown",
      "metadata": {
        "id": "g3cuhPLt3GAL"
      },
      "source": [
        "# Download and Load dataset,Loader"
      ]
    },
    {
      "cell_type": "code",
      "execution_count": 1,
      "metadata": {
        "id": "Vq2JvGNr3GAN"
      },
      "outputs": [],
      "source": [
        "import gdown\n",
        "from torch.utils.data import Dataset, DataLoader\n",
        "from torchvision.transforms import ToTensor, Resize\n",
        "import torch\n",
        "import torch.nn as nn\n",
        "from torchvision.transforms import ToTensor, Resize, Compose\n",
        "from torchvision.models import resnet50, ResNet50_Weights\n",
        "from sklearn.metrics import confusion_matrix\n",
        "from sklearn.metrics import classification_report\n",
        "import seaborn as sb\n",
        "import numpy as np\n",
        "import matplotlib.pyplot as plt\n",
        "import PIL \n",
        "import os\n",
        "import torch.utils.data as data\n",
        "import json\n",
        "from models.lxmert_adaptive import VQAModel_Adaptive\n",
        "from learner import Learner\n",
        "# gdown.download(id=\"16TKyvmy3JQfcJPo7oHHD4q8VS-ybHrRs\" ,output=\"multidataset.zip\", quiet=False, fuzzy=True, use_cookies=False)\n",
        "# gdown.download(id=\"1-7lKSz6bDLcBpBAYn7SIJzYgOLogAROW\" ,output=\"validation_dataset.json\", quiet=False, fuzzy=True, use_cookies=False)\n",
        "# gdown.download(id=\"1-7wBuOYhgQG5rR9BtW1nzxG_qUO9vf2q\" ,output=\"test_dataset.json\", quiet=False, fuzzy=True, use_cookies=False)"
      ]
    },
    {
      "cell_type": "code",
      "execution_count": 2,
      "metadata": {
        "id": "-R2gY94XGasN"
      },
      "outputs": [],
      "source": [
        "class Transfomer_Dataset(data.Dataset):\n",
        "    def __init__(self,root_dir='.',mode='train') -> None:\n",
        "        super(Transfomer_Dataset,self).__init__()\n",
        "        f = open(os.path.join(root_dir,mode+'_dataset.json'))\n",
        "        self.Dataset = json.load(f)\n",
        "\n",
        "    def __getitem__(self, index):\n",
        "\n",
        "        data=self.Dataset[str(index)]\n",
        "        \n",
        "        # Normalize the boxes (to 0 ~ 1)\n",
        "        img_h,img_w=data['size'][0:2]\n",
        "        boxes = np.array(data['pos'])\n",
        "        boxes = boxes.copy()\n",
        "        boxes[:, (0, 2)] /= img_w\n",
        "        boxes[:, (1, 3)] /= img_h\n",
        "        \n",
        "        feats = np.array(data['embedding']).copy()\n",
        "        dialog = data['text']\n",
        "        sentiment = data['sentiment_cls']\n",
        "        y_true=np.zeros(shape=(3,))\n",
        "        y_true[int(sentiment[0])]=1.0\n",
        "\n",
        "        if len(boxes) == 1:\n",
        "          pad_feats=np.repeat(feats,4,axis=0)\n",
        "          pad_boxes=np.repeat(boxes,4,axis =0)\n",
        "          return pad_boxes,pad_feats,dialog[0],y_true\n",
        "        if len(boxes) == 2:\n",
        "          pad_feats=np.repeat(feats,2,axis=0)\n",
        "          pad_boxes=np.repeat(boxes,2,axis =0)\n",
        "          return pad_boxes,pad_feats,dialog[0],y_true\n",
        "        \n",
        "        if len(boxes) == 3:\n",
        "          pad_feats=np.concatenate((feats[0:1],feats),axis=0)\n",
        "          pad_boxes=np.concatenate((boxes[0:1],boxes),axis =0)\n",
        "          return pad_boxes,pad_feats,dialog[0],y_true\n",
        "        else :\n",
        "          return boxes,feats,dialog[0],y_true\n",
        "\n",
        "       \n",
        "    def __len__(self):\n",
        "        return len(self.Dataset)"
      ]
    },
    {
      "cell_type": "code",
      "execution_count": 3,
      "metadata": {
        "id": "VzufcF8p3GAO"
      },
      "outputs": [],
      "source": [
        "# from dataset.Dataset_transfomer import Transfomer_Dataset\n",
        "\n",
        "\n",
        "ValidationDataset=Transfomer_Dataset(root_dir='content/drive/MyDrive/',mode='validation')\n",
        "TrainDataset=Transfomer_Dataset(root_dir='content/drive/MyDrive/',mode='train')\n"
      ]
    },
    {
      "cell_type": "code",
      "execution_count": 4,
      "metadata": {
        "id": "aPmmhI4iHzBA"
      },
      "outputs": [],
      "source": [
        "Train_loader = DataLoader(TrainDataset, shuffle=True, batch_size=128)\n",
        "Valid_loader =  DataLoader(ValidationDataset, shuffle=True, batch_size=128)\n"
      ]
    },
    {
      "cell_type": "code",
      "execution_count": null,
      "metadata": {
        "id": "xDPXUmKpH9Sc"
      },
      "outputs": [],
      "source": [
        "next(iter(Valid_loader))"
      ]
    },
    {
      "cell_type": "markdown",
      "metadata": {
        "id": "ciwVYZ5GTIhX"
      },
      "source": [
        "# Model"
      ]
    },
    {
      "cell_type": "markdown",
      "metadata": {
        "id": "2CKJPNayTX_N"
      },
      "source": [
        "## preparation"
      ]
    },
    {
      "cell_type": "code",
      "execution_count": 7,
      "metadata": {
        "colab": {
          "base_uri": "https://localhost:8080/"
        },
        "id": "SJSjw_1uPtUD",
        "outputId": "c0f905c7-8a14-4ae6-f2ed-35b84c473c25"
      },
      "outputs": [
        {
          "name": "stdout",
          "output_type": "stream",
          "text": [
            "LXRT encoder with 9 l_layers, 5 x_layers, and 5 r_layers.\n",
            "Using Adaptive Variant\n"
          ]
        }
      ],
      "source": [
        "# config parameter for training\n",
        "params = {\n",
        "    \"adapt_span_enabled\": True,\n",
        "    \"attn_span\": 1024,\n",
        "    \"adapt_span_loss_coeff\": 0.000005,\n",
        "    \"adapt_span_ramp\": 32,\n",
        "    \"adapt_span_init\": 0.002,\n",
        "    \"adapt_span_cache\": True,\n",
        "    \"nb_heads\": 12,\n",
        "    \"bs\": 1,\n",
        "    \"mask_size\": [20, 36],\n",
        "    \"sparse_enabled\": False,\n",
        "    \"num_attention_heads\": 4,\n",
        "    \"layer_sizes\": {\"lang\": 9, \"cross\": 5, \"vision\": 5},\n",
        "    \"from_scratch\": False,\n",
        "    \"layerdrop_enabled\": False,\n",
        "    \"layerdrop_num_layers\": 1,\n",
        "}\n",
        "model=VQAModel_Adaptive(3,params)"
      ]
    },
    {
      "cell_type": "code",
      "execution_count": 8,
      "metadata": {
        "colab": {
          "base_uri": "https://localhost:8080/"
        },
        "id": "7mIrO9tFQuX7",
        "outputId": "bc9af920-6309-48be-d947-71c5aac13cf3"
      },
      "outputs": [
        {
          "name": "stdout",
          "output_type": "stream",
          "text": [
            "Load QA pre-trained LXMERT from /content/snap/pretrained/model \n",
            "Loaded 0 answers from LXRTQA pre-training and 3 not\n",
            "\n",
            "Keys don't exactly match\n"
          ]
        }
      ],
      "source": [
        "data_tuple_dict = {\n",
        "    \"train\": Train_loader,\n",
        "    \"validation\": Valid_loader,\n",
        "    \"test\": None,\n",
        "}\n",
        "config = {\n",
        "    \"adaptive_enable\": True,\n",
        "    \"sparse_enable\": False,\n",
        "    \"measure_flops\": False,\n",
        "    \"load_model\": True,\n",
        "}\n",
        "learn = Learner(model, data_tuple_dict, config)"
      ]
    },
    {
      "cell_type": "markdown",
      "metadata": {
        "id": "wkH76UW5TSHN"
      },
      "source": [
        "## Training"
      ]
    },
    {
      "cell_type": "code",
      "execution_count": 9,
      "metadata": {
        "colab": {
          "base_uri": "https://localhost:8080/"
        },
        "id": "kwN2vTjrR5YK",
        "outputId": "98b44536-b5a9-4894-8da8-cc7292471805"
      },
      "outputs": [
        {
          "name": "stderr",
          "output_type": "stream",
          "text": [
            "\r  0%|          | 0/147 [00:00<?, ?it/s]/content/optimizers/lamb.py:88: UserWarning: This overload of add_ is deprecated:\n",
            "\tadd_(Number alpha, Tensor other)\n",
            "Consider using one of the following signatures instead:\n",
            "\tadd_(Tensor other, *, Number alpha) (Triggered internally at ../torch/csrc/utils/python_arg_parser.cpp:1420.)\n",
            "  exp_avg.mul_(beta1).add_(1 - beta1, grad)\n",
            "100%|██████████| 147/147 [02:10<00:00,  1.12it/s]\n"
          ]
        },
        {
          "name": "stdout",
          "output_type": "stream",
          "text": [
            "Epoch 0: Loss 1.8198037861845089 Accuracy : 49.25508623911999\n",
            "Predict in progress\n"
          ]
        },
        {
          "name": "stderr",
          "output_type": "stream",
          "text": [
            "100%|██████████| 37/37 [00:09<00:00,  4.00it/s]\n"
          ]
        },
        {
          "name": "stdout",
          "output_type": "stream",
          "text": [
            "143.23917365074158\n",
            "Epoch 0: Valid 60.12\n",
            "Epoch 0: Best 60.12\n",
            "Time elpased for epoch 143.239174\n",
            "Epoch 0: Valid 60.12\n",
            "Epoch 0: Best 60.12\n",
            "Time elpased for epoch 143.239174\n",
            "\n"
          ]
        },
        {
          "name": "stderr",
          "output_type": "stream",
          "text": [
            "100%|██████████| 147/147 [02:09<00:00,  1.13it/s]\n"
          ]
        },
        {
          "name": "stdout",
          "output_type": "stream",
          "text": [
            "Epoch 1: Loss 1.521507061650669 Accuracy : 64.9543439953009\n",
            "Predict in progress\n"
          ]
        },
        {
          "name": "stderr",
          "output_type": "stream",
          "text": [
            "100%|██████████| 37/37 [00:09<00:00,  4.10it/s]\n"
          ]
        },
        {
          "name": "stdout",
          "output_type": "stream",
          "text": [
            "142.40326714515686\n",
            "Epoch 1: Valid 61.14\n",
            "Epoch 1: Best 61.14\n",
            "Time elpased for epoch 142.403267\n",
            "Epoch 1: Valid 61.14\n",
            "Epoch 1: Best 61.14\n",
            "Time elpased for epoch 142.403267\n",
            "\n"
          ]
        },
        {
          "name": "stderr",
          "output_type": "stream",
          "text": [
            "100%|██████████| 147/147 [02:09<00:00,  1.14it/s]\n"
          ]
        },
        {
          "name": "stdout",
          "output_type": "stream",
          "text": [
            "Epoch 2: Loss 1.3843761036987718 Accuracy : 69.0446948256528\n",
            "Predict in progress\n"
          ]
        },
        {
          "name": "stderr",
          "output_type": "stream",
          "text": [
            "100%|██████████| 37/37 [00:09<00:00,  3.94it/s]\n"
          ]
        },
        {
          "name": "stdout",
          "output_type": "stream",
          "text": [
            "141.6281509399414\n",
            "Epoch 2: Valid 61.31\n",
            "Epoch 2: Best 61.31\n",
            "Time elpased for epoch 141.628151\n",
            "Epoch 2: Valid 61.31\n",
            "Epoch 2: Best 61.31\n",
            "Time elpased for epoch 141.628151\n",
            "\n"
          ]
        },
        {
          "name": "stderr",
          "output_type": "stream",
          "text": [
            "100%|██████████| 147/147 [02:12<00:00,  1.11it/s]\n"
          ]
        },
        {
          "name": "stdout",
          "output_type": "stream",
          "text": [
            "Epoch 3: Loss 1.2928924459804676 Accuracy : 71.74667592246489\n",
            "Predict in progress\n"
          ]
        },
        {
          "name": "stderr",
          "output_type": "stream",
          "text": [
            "100%|██████████| 37/37 [00:09<00:00,  4.07it/s]\n"
          ]
        },
        {
          "name": "stdout",
          "output_type": "stream",
          "text": [
            "141.2658772468567\n",
            "Epoch 3: Valid 60.88\n",
            "Epoch 3: Best 61.31\n",
            "Time elpased for epoch 141.265877\n",
            "Epoch 3: Valid 60.88\n",
            "Epoch 3: Best 61.31\n",
            "Time elpased for epoch 141.265877\n",
            "\n"
          ]
        },
        {
          "name": "stderr",
          "output_type": "stream",
          "text": [
            "100%|██████████| 147/147 [02:08<00:00,  1.15it/s]\n"
          ]
        },
        {
          "name": "stdout",
          "output_type": "stream",
          "text": [
            "Epoch 4: Loss 1.1985344674253962 Accuracy : 74.78506968548086\n",
            "Predict in progress\n"
          ]
        },
        {
          "name": "stderr",
          "output_type": "stream",
          "text": [
            "100%|██████████| 37/37 [00:09<00:00,  3.96it/s]\n"
          ]
        },
        {
          "name": "stdout",
          "output_type": "stream",
          "text": [
            "137.46756553649902\n",
            "Epoch 4: Valid 60.46\n",
            "Epoch 4: Best 61.31\n",
            "Time elpased for epoch 137.467566\n",
            "Epoch 4: Valid 60.46\n",
            "Epoch 4: Best 61.31\n",
            "Time elpased for epoch 137.467566\n",
            "\n"
          ]
        },
        {
          "name": "stderr",
          "output_type": "stream",
          "text": [
            "100%|██████████| 147/147 [02:11<00:00,  1.12it/s]\n"
          ]
        },
        {
          "name": "stdout",
          "output_type": "stream",
          "text": [
            "Epoch 5: Loss 1.1058701280680667 Accuracy : 77.56180915256047\n",
            "Predict in progress\n"
          ]
        },
        {
          "name": "stderr",
          "output_type": "stream",
          "text": [
            "100%|██████████| 37/37 [00:09<00:00,  3.88it/s]\n"
          ]
        },
        {
          "name": "stdout",
          "output_type": "stream",
          "text": [
            "140.78752446174622\n",
            "Epoch 5: Valid 61.22\n",
            "Epoch 5: Best 61.31\n",
            "Time elpased for epoch 140.787524\n",
            "Epoch 5: Valid 61.22\n",
            "Epoch 5: Best 61.31\n",
            "Time elpased for epoch 140.787524\n",
            "\n"
          ]
        },
        {
          "name": "stderr",
          "output_type": "stream",
          "text": [
            "100%|██████████| 147/147 [02:08<00:00,  1.15it/s]\n"
          ]
        },
        {
          "name": "stdout",
          "output_type": "stream",
          "text": [
            "Epoch 6: Loss 1.0190482680436734 Accuracy : 80.41330698990762\n",
            "Predict in progress\n"
          ]
        },
        {
          "name": "stderr",
          "output_type": "stream",
          "text": [
            "100%|██████████| 37/37 [00:09<00:00,  3.75it/s]\n"
          ]
        },
        {
          "name": "stdout",
          "output_type": "stream",
          "text": [
            "138.0096080303192\n",
            "Epoch 6: Valid 60.57\n",
            "Epoch 6: Best 61.31\n",
            "Time elpased for epoch 138.009608\n",
            "Epoch 6: Valid 60.57\n",
            "Epoch 6: Best 61.31\n",
            "Time elpased for epoch 138.009608\n",
            "\n"
          ]
        },
        {
          "name": "stderr",
          "output_type": "stream",
          "text": [
            "100%|██████████| 147/147 [02:08<00:00,  1.14it/s]\n"
          ]
        },
        {
          "name": "stdout",
          "output_type": "stream",
          "text": [
            "Epoch 7: Loss 0.9319076577162487 Accuracy : 82.56528007689433\n",
            "Predict in progress\n"
          ]
        },
        {
          "name": "stderr",
          "output_type": "stream",
          "text": [
            "100%|██████████| 37/37 [00:08<00:00,  4.17it/s]\n"
          ]
        },
        {
          "name": "stdout",
          "output_type": "stream",
          "text": [
            "137.44195890426636\n",
            "Epoch 7: Valid 60.19\n",
            "Epoch 7: Best 61.31\n",
            "Time elpased for epoch 137.441959\n",
            "Epoch 7: Valid 60.19\n",
            "Epoch 7: Best 61.31\n",
            "Time elpased for epoch 137.441959\n",
            "\n"
          ]
        },
        {
          "name": "stderr",
          "output_type": "stream",
          "text": [
            "100%|██████████| 147/147 [02:07<00:00,  1.16it/s]\n"
          ]
        },
        {
          "name": "stdout",
          "output_type": "stream",
          "text": [
            "Epoch 8: Loss 0.8473401736658895 Accuracy : 84.73861269824317\n",
            "Predict in progress\n"
          ]
        },
        {
          "name": "stderr",
          "output_type": "stream",
          "text": [
            "100%|██████████| 37/37 [00:09<00:00,  3.97it/s]\n"
          ]
        },
        {
          "name": "stdout",
          "output_type": "stream",
          "text": [
            "136.57204627990723\n",
            "Epoch 8: Valid 58.73\n",
            "Epoch 8: Best 61.31\n",
            "Time elpased for epoch 136.572046\n",
            "Epoch 8: Valid 58.73\n",
            "Epoch 8: Best 61.31\n",
            "Time elpased for epoch 136.572046\n",
            "\n"
          ]
        },
        {
          "name": "stderr",
          "output_type": "stream",
          "text": [
            "100%|██████████| 147/147 [02:07<00:00,  1.15it/s]\n"
          ]
        },
        {
          "name": "stdout",
          "output_type": "stream",
          "text": [
            "Epoch 9: Loss 0.7731219899180723 Accuracy : 86.44737544721525\n",
            "Predict in progress\n"
          ]
        },
        {
          "name": "stderr",
          "output_type": "stream",
          "text": [
            "100%|██████████| 37/37 [00:09<00:00,  4.09it/s]\n"
          ]
        },
        {
          "name": "stdout",
          "output_type": "stream",
          "text": [
            "136.6813678741455\n",
            "Epoch 9: Valid 59.38\n",
            "Epoch 9: Best 61.31\n",
            "Time elpased for epoch 136.681368\n",
            "Epoch 9: Valid 59.38\n",
            "Epoch 9: Best 61.31\n",
            "Time elpased for epoch 136.681368\n",
            "\n"
          ]
        }
      ],
      "source": [
        "learn.train(10)"
      ]
    },
    {
      "cell_type": "markdown",
      "metadata": {
        "id": "jw6k5wnVgNVz"
      },
      "source": [
        "# Test model on test dataset"
      ]
    },
    {
      "cell_type": "code",
      "execution_count": 3,
      "metadata": {
        "id": "81qUGHfKnw_3"
      },
      "outputs": [],
      "source": [
        "testDataset=Transfomer_Dataset(root_dir='content/drive/MyDrive/',mode='test')\n",
        "test_loader =  DataLoader(testDataset, shuffle=True, batch_size=128)"
      ]
    },
    {
      "cell_type": "code",
      "execution_count": 4,
      "metadata": {
        "colab": {
          "base_uri": "https://localhost:8080/"
        },
        "id": "OFLgdydfq6Df",
        "outputId": "82746d07-5a0f-434d-9daa-a21fbb8ba6eb"
      },
      "outputs": [
        {
          "name": "stdout",
          "output_type": "stream",
          "text": [
            "LXRT encoder with 9 l_layers, 5 x_layers, and 5 r_layers.\n",
            "Using Adaptive Variant\n"
          ]
        }
      ],
      "source": [
        "# config parameter for training\n",
        "params = {\n",
        "    \"adapt_span_enabled\": True,\n",
        "    \"attn_span\": 1024,\n",
        "    \"adapt_span_loss_coeff\": 0.000005,\n",
        "    \"adapt_span_ramp\": 32,\n",
        "    \"adapt_span_init\": 0.002,\n",
        "    \"adapt_span_cache\": True,\n",
        "    \"nb_heads\": 12,\n",
        "    \"bs\": 1,\n",
        "    \"mask_size\": [20, 36],\n",
        "    \"sparse_enabled\": False,\n",
        "    \"num_attention_heads\": 4,\n",
        "    \"layer_sizes\": {\"lang\": 9, \"cross\": 5, \"vision\": 5},\n",
        "    \"from_scratch\": False,\n",
        "    \"layerdrop_enabled\": False,\n",
        "    \"layerdrop_num_layers\": 1,\n",
        "}\n",
        "model=VQAModel_Adaptive(3,params)"
      ]
    },
    {
      "cell_type": "code",
      "execution_count": 5,
      "metadata": {
        "colab": {
          "base_uri": "https://localhost:8080/"
        },
        "id": "IIXWAdtAoFt6",
        "outputId": "18692480-e2f6-4705-a4b7-fbf10bdca7cb"
      },
      "outputs": [
        {
          "name": "stdout",
          "output_type": "stream",
          "text": [
            "loading best model\n"
          ]
        }
      ],
      "source": [
        "data_tuple_dict = {\n",
        "    \"train\": None,\n",
        "    \"validation\": None,\n",
        "    \"test\": test_loader,\n",
        "}\n",
        "config = {\n",
        "    \"adaptive_enable\": True,\n",
        "    \"sparse_enable\": False,\n",
        "    \"measure_flops\": False,\n",
        "    \"load_model\": False,\n",
        "    \"load_best\" : True\n",
        "}\n",
        "learn = Learner(model, data_tuple_dict, config)\n"
      ]
    },
    {
      "cell_type": "code",
      "execution_count": 7,
      "metadata": {
        "colab": {
          "base_uri": "https://localhost:8080/",
          "height": 334
        },
        "id": "GHzLtMsHrOjB",
        "outputId": "625705e4-f294-4c12-d51e-e7a3069a819a"
      },
      "outputs": [
        {
          "name": "stdout",
          "output_type": "stream",
          "text": [
            "Predict in progress\n"
          ]
        },
        {
          "name": "stderr",
          "output_type": "stream",
          "text": [
            "100%|██████████| 38/38 [00:08<00:00,  4.35it/s]\n"
          ]
        },
        {
          "name": "stdout",
          "output_type": "stream",
          "text": [
            "test acc is 61.586508432229856%\n"
          ]
        },
        {
          "data": {
            "image/png": "[encoded data removed]",
            "text/plain": [
              "<Figure size 432x288 with 2 Axes>"
            ]
          },
          "metadata": {
            "needs_background": "light"
          },
          "output_type": "display_data"
        }
      ],
      "source": [
        "acc,y_true,y_pred=learn.test()\n",
        "print(f\"test acc is {acc*100}%\")\n",
        "cf_matrix = confusion_matrix(y_true=y_true, y_pred=y_pred)\n",
        "\n",
        "sb.heatmap(cf_matrix,\n",
        "           annot=True,\n",
        "           fmt='d',\n",
        "           cmap='viridis',\n",
        "           xticklabels=['neutral','negative','positive'],\n",
        "           yticklabels=['neutral','negative','positive'])\n",
        "plt.xlabel('Predicted label')\n",
        "plt.ylabel('True label')\n",
        "plt.show()"
      ]
    },
    {
      "cell_type": "markdown",
      "metadata": {
        "id": "erusOLymdjWv"
      },
      "source": [
        "# Appendix"
      ]
    },
    {
      "cell_type": "code",
      "execution_count": null,
      "metadata": {
        "id": "Wlbu9AHudmNH"
      },
      "outputs": [],
      "source": [
        "import numpy as np\n",
        "import cv2\n",
        "import insightface\n",
        "from insightface.app import FaceAnalysis\n",
        "from insightface.data import get_image as ins_get_image\n",
        "import os\n",
        "from tqdm import tqdm\n",
        "from PIL import Image\n",
        "import json\n",
        "class faceExtractor():\n",
        "    def __init__(self,rootDir,mode=\"train\",max_num=4) -> None:\n",
        "        self.root=rootDir\n",
        "        self.mode=mode\n",
        "        self.max_num=max_num\n",
        "        if not os.path.exists(f\"{self.root}/FaceDataset\"):\n",
        "          os.mkdir(f\"{self.root}/FaceDataset\")\n",
        "        if not os.path.exists(f\"{self.root}/FaceDataset/faceImage\"):\n",
        "          os.mkdir(f\"{self.root}/FaceDataset/faceImage\")\n",
        "        if not os.path.exists(f\"{self.root}/FaceDataset/faceImage/\"+mode):\n",
        "          os.mkdir(f\"{self.root}/FaceDataset/faceImage/\"+mode)\n",
        "        # if not os.path.exists(f\"{self.root}/FaceDataset/labels\"):\n",
        "        #   os.mkdir(f\"{self.root}/FaceDataset/labels\")\n",
        "        self.fault=0\n",
        "        self.idx_fault=[]\n",
        "        self.max_len=0\n",
        "        self.app = FaceAnalysis(providers=['CUDAExecutionProvider', 'CPUExecutionProvider']) # ,allowed_modules=['detection']\n",
        "        self.Dataset={}\n",
        "    def run(self,Dataset):\n",
        "        self.app.prepare(ctx_id=0,det_thresh=0.25,det_size=(640,960))\n",
        "        index = 0\n",
        "        for img,dialog,sentiment,idx in tqdm(Dataset):\n",
        "            faces = self.app.get(img[0])\n",
        "            img_PIL=Image.fromarray(img[0].astype(np.uint8))\n",
        "          \n",
        "            face_count=len(faces)\n",
        "\n",
        "            if face_count > self.max_len:\n",
        "              self.max_len = face_count\n",
        "\n",
        "            if face_count==0:\n",
        "                self.fault+=1\n",
        "                self.idx_fault.append(idx)\n",
        "\n",
        "            else:\n",
        "\n",
        "\n",
        "              if face_count>self.max_num:\n",
        "                a = self.max_num\n",
        "              else :\n",
        "                a = face_count\n",
        "              pos=[]\n",
        "              embedding=[]\n",
        "              \n",
        "              for i,f in zip(range(a),faces):\n",
        "                  pos .append(f['bbox'].tolist()) \n",
        "                  embedding.append(f['embedding'].tolist())\n",
        "              \n",
        "              self.Dataset[index]={'pos':pos,'embedding':embedding,'text':dialog,'sentiment_cls':sentiment,'size':img[0].shape}\n",
        "                  # face=img_PIL.crop(f['bbox'])\n",
        "                  # face.save(f\"{self.root}/FaceDataset/faceImage/{self.mode}/\"+f'{idx}_{i}.jpg')\n",
        "              index+=1\n",
        "\n",
        "        return self.Dataset  \n"
      ]
    },
    {
      "cell_type": "code",
      "execution_count": null,
      "metadata": {
        "id": "TdtOs-Vgdoi0"
      },
      "outputs": [],
      "source": [
        "face_train=faceExtractor(rootDir=\".\",mode=\"train\")\n",
        "Dataset_dict=face_train.run(training_data)\n",
        "\n",
        "with open('/content/drive/MyDrive/train_dataset.json', 'w') as f:\n",
        "  json.dump(Dataset_dict,f)\n"
      ]
    },
    {
      "cell_type": "code",
      "execution_count": null,
      "metadata": {
        "id": "2JZerP9Edskv"
      },
      "outputs": [],
      "source": [
        "face_test=faceExtractor(rootDir=\".\",mode=\"test\")\n",
        "Dataset_dict=face_test.run(test_data)\n",
        "with open('/content/drive/MyDrive/test_dataset.json', 'w') as f:\n",
        "  json.dump(Dataset_dict,f)"
      ]
    }
  ],
  "metadata": {
    "accelerator": "GPU",
    "colab": {
      "collapsed_sections": [
        "fLms3tNca5BK",
        "g3cuhPLt3GAL",
        "2CKJPNayTX_N",
        "wkH76UW5TSHN",
        "jw6k5wnVgNVz",
        "erusOLymdjWv"
      ],
      "provenance": []
    },
    "gpuClass": "standard",
    "kernelspec": {
      "display_name": "Python 3",
      "language": "python",
      "name": "python3"
    },
    "language_info": {
      "codemirror_mode": {
        "name": "ipython",
        "version": 3
      },
      "file_extension": ".py",
      "mimetype": "text/x-python",
      "name": "python",
      "nbconvert_exporter": "python",
      "pygments_lexer": "ipython3",
      "version": "3.8.10"
    },
    "vscode": {
      "interpreter": {
        "hash": "570feb405e2e27c949193ac68f46852414290d515b0ba6e5d90d076ed2284471"
      }
    }
  },
  "nbformat": 4,
  "nbformat_minor": 0
}
