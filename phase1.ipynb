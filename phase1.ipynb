{
 "cells": [
  {
   "cell_type": "code",
   "execution_count": 1,
   "metadata": {},
   "outputs": [],
   "source": [
    "import warnings\n",
    "warnings.filterwarnings('ignore')"
   ]
  },
  {
   "cell_type": "code",
   "execution_count": 2,
   "metadata": {},
   "outputs": [],
   "source": [
    "from libs.MSCTDdataset import MSCTD\n",
    "from torchvision.transforms import Compose, CenterCrop, ToTensor, Resize,RandomApply,RandomRotation,RandomCrop, Normalize\n",
    "import seaborn as sb\n",
    "import numpy as np\n",
    "import matplotlib.pyplot as plt\n",
    "import cv2\n",
    "import pickle \n",
    "import torch\n",
    "import os\n",
    "from sklearn.metrics import confusion_matrix\n",
    "from sklearn.metrics import classification_report"
   ]
  },
  {
   "cell_type": "code",
   "execution_count": 3,
   "metadata": {},
   "outputs": [],
   "source": [
    "transforms = Compose([])\n",
    "\n",
    "root_dir = '.'\n",
    "\n",
    "training_data = MSCTD(\n",
    "        mode='train', \n",
    "        transformer=transforms,\n",
    "        download=False,\n",
    "        root_dir=root_dir,\n",
    "        read_mode=\"single\")\n",
    "\n",
    "valid_data = MSCTD(\n",
    "        mode='validation',\n",
    "        transformer=transforms,\n",
    "        download=False,\n",
    "        root_dir=root_dir,\n",
    "        read_mode=\"single\")\n",
    "\n",
    "test_data = MSCTD(\n",
    "        mode='test',\n",
    "        transformer=transforms,\n",
    "        download=False,\n",
    "        root_dir=root_dir,\n",
    "        read_mode=\"single\")"
   ]
  },
  {
   "attachments": {},
   "cell_type": "markdown",
   "metadata": {},
   "source": [
    "# A) Sentiment analysis with face"
   ]
  },
  {
   "attachments": {},
   "cell_type": "markdown",
   "metadata": {},
   "source": [
    "## part 1-1 & 2-1: Face Extraction with Data Augmentation"
   ]
  },
  {
   "cell_type": "code",
   "execution_count": null,
   "metadata": {},
   "outputs": [],
   "source": [
    "# face Extractor with data augmentation transforms\n",
    "from libs.faceExtractor import faceExtractor"
   ]
  },
  {
   "attachments": {},
   "cell_type": "markdown",
   "metadata": {},
   "source": [
    "In this part, we extract faces from images and apply all data augmentation transforms to the face of training images. then we save them in ./faceDatasets/ directory in separate\n",
    "\n",
    "In data augmentation, we use three stochastic transforms from PRIME ( spatial=`diffeo`, spectral=`filt`, color=`color` ) and apply them separately with different config in config.json"
   ]
  },
  {
   "cell_type": "code",
   "execution_count": 5,
   "metadata": {},
   "outputs": [
    {
     "name": "stdout",
     "output_type": "stream",
     "text": [
      "Applied providers: ['CPUExecutionProvider'], with options: {'CPUExecutionProvider': {}}\n",
      "model ignore: /home/user01/.insightface/models/buffalo_l/1k3d68.onnx landmark_3d_68\n",
      "Applied providers: ['CPUExecutionProvider'], with options: {'CPUExecutionProvider': {}}\n",
      "model ignore: /home/user01/.insightface/models/buffalo_l/2d106det.onnx landmark_2d_106\n",
      "Applied providers: ['CPUExecutionProvider'], with options: {'CPUExecutionProvider': {}}\n",
      "find model: /home/user01/.insightface/models/buffalo_l/det_10g.onnx detection [1, 3, '?', '?'] 127.5 128.0\n",
      "Applied providers: ['CPUExecutionProvider'], with options: {'CPUExecutionProvider': {}}\n",
      "model ignore: /home/user01/.insightface/models/buffalo_l/genderage.onnx genderage\n",
      "Applied providers: ['CPUExecutionProvider'], with options: {'CPUExecutionProvider': {}}\n",
      "model ignore: /home/user01/.insightface/models/buffalo_l/w600k_r50.onnx recognition\n",
      "set det-size: (640, 640)\n"
     ]
    },
    {
     "name": "stderr",
     "output_type": "stream",
     "text": [
      "100%|██████████| 20240/20240 [35:17<00:00,  9.56it/s] "
     ]
    },
    {
     "name": "stdout",
     "output_type": "stream",
     "text": [
      "[train] number of images that has no detected face in it :2200\n"
     ]
    },
    {
     "name": "stderr",
     "output_type": "stream",
     "text": [
      "\n"
     ]
    }
   ],
   "source": [
    "# face extraction from training image with their augmentaion\n",
    "face_train = faceExtractor(rootDir=root_dir, mode='train',augmentation=True)\n",
    "face_train.run(training_data)\n",
    "print(f\"[train] number of images that has no detected face in it :{face_train.fault}\")"
   ]
  },
  {
   "cell_type": "code",
   "execution_count": 5,
   "metadata": {},
   "outputs": [
    {
     "name": "stdout",
     "output_type": "stream",
     "text": [
      "Applied providers: ['CPUExecutionProvider'], with options: {'CPUExecutionProvider': {}}\n",
      "model ignore: /home/user01/.insightface/models/buffalo_l/1k3d68.onnx landmark_3d_68\n",
      "Applied providers: ['CPUExecutionProvider'], with options: {'CPUExecutionProvider': {}}\n",
      "model ignore: /home/user01/.insightface/models/buffalo_l/2d106det.onnx landmark_2d_106\n",
      "Applied providers: ['CPUExecutionProvider'], with options: {'CPUExecutionProvider': {}}\n",
      "find model: /home/user01/.insightface/models/buffalo_l/det_10g.onnx detection [1, 3, '?', '?'] 127.5 128.0\n",
      "Applied providers: ['CPUExecutionProvider'], with options: {'CPUExecutionProvider': {}}\n",
      "model ignore: /home/user01/.insightface/models/buffalo_l/genderage.onnx genderage\n",
      "Applied providers: ['CPUExecutionProvider'], with options: {'CPUExecutionProvider': {}}\n",
      "model ignore: /home/user01/.insightface/models/buffalo_l/w600k_r50.onnx recognition\n",
      "set det-size: (640, 640)\n"
     ]
    },
    {
     "name": "stderr",
     "output_type": "stream",
     "text": [
      "100%|██████████| 5063/5063 [03:47<00:00, 22.29it/s]"
     ]
    },
    {
     "name": "stdout",
     "output_type": "stream",
     "text": [
      "[validation] number of images that has no detected face in it :476\n"
     ]
    },
    {
     "name": "stderr",
     "output_type": "stream",
     "text": [
      "\n"
     ]
    }
   ],
   "source": [
    "# face extraction from validation image without their augmentaion\n",
    "face_validation = faceExtractor(rootDir=root_dir, mode='validation',augmentation=False)\n",
    "face_validation.run(valid_data)\n",
    "print(f\"[validation] number of images that has no detected face in it :{face_validation.fault}\")"
   ]
  },
  {
   "cell_type": "code",
   "execution_count": 6,
   "metadata": {},
   "outputs": [
    {
     "name": "stdout",
     "output_type": "stream",
     "text": [
      "Applied providers: ['CPUExecutionProvider'], with options: {'CPUExecutionProvider': {}}\n",
      "model ignore: /home/user01/.insightface/models/buffalo_l/1k3d68.onnx landmark_3d_68\n",
      "Applied providers: ['CPUExecutionProvider'], with options: {'CPUExecutionProvider': {}}\n",
      "model ignore: /home/user01/.insightface/models/buffalo_l/2d106det.onnx landmark_2d_106\n",
      "Applied providers: ['CPUExecutionProvider'], with options: {'CPUExecutionProvider': {}}\n",
      "find model: /home/user01/.insightface/models/buffalo_l/det_10g.onnx detection [1, 3, '?', '?'] 127.5 128.0\n",
      "Applied providers: ['CPUExecutionProvider'], with options: {'CPUExecutionProvider': {}}\n",
      "model ignore: /home/user01/.insightface/models/buffalo_l/genderage.onnx genderage\n",
      "Applied providers: ['CPUExecutionProvider'], with options: {'CPUExecutionProvider': {}}\n",
      "model ignore: /home/user01/.insightface/models/buffalo_l/w600k_r50.onnx recognition\n",
      "set det-size: (640, 640)\n"
     ]
    },
    {
     "name": "stderr",
     "output_type": "stream",
     "text": [
      "100%|██████████| 5067/5067 [04:16<00:00, 19.78it/s]"
     ]
    },
    {
     "name": "stdout",
     "output_type": "stream",
     "text": [
      "[test] number of images that has no detected face in it :390\n"
     ]
    },
    {
     "name": "stderr",
     "output_type": "stream",
     "text": [
      "\n"
     ]
    }
   ],
   "source": [
    "# face extraction from test image without their augmentaion\n",
    "face_test = faceExtractor(rootDir=root_dir, mode='test', augmentation=False)\n",
    "face_test.run(test_data)\n",
    "print(f\"[test] number of images that has no detected face in it :{face_test.fault}\")"
   ]
  },
  {
   "cell_type": "code",
   "execution_count": 32,
   "metadata": {},
   "outputs": [
    {
     "data": {
      "image/png": "[encoded data removed]",
      "text/plain": [
       "<Figure size 1600x1200 with 4 Axes>"
      ]
     },
     "metadata": {},
     "output_type": "display_data"
    }
   ],
   "source": [
    "image_num = 756 \n",
    "\n",
    "plt.figure(figsize=(16,12))\n",
    "plt.subplot(1,4,1)\n",
    "plt.imshow(cv2.cvtColor(cv2.imread(f\"{root_dir}/faceDataset/originalFace/train/{image_num}_0.jpg\"), cv2.COLOR_BGR2RGB));\n",
    "plt.title('original face')\n",
    "plt.axis('off');\n",
    "\n",
    "plt.subplot(1,4,2)\n",
    "plt.imshow(cv2.cvtColor(cv2.imread(f\"{root_dir}/faceDataset/augmentationFace/train/{image_num}_0_0.jpg\"), cv2.COLOR_BGR2RGB));\n",
    "plt.title('spatial transform')\n",
    "plt.axis('off');\n",
    "\n",
    "plt.subplot(1,4,3)\n",
    "plt.imshow(cv2.cvtColor(cv2.imread(f\"{root_dir}/faceDataset/augmentationFace/train/{image_num}_0_1.jpg\"), cv2.COLOR_BGR2RGB));\n",
    "plt.title('color transform')\n",
    "plt.axis('off');\n",
    "\n",
    "plt.subplot(1,4,4)\n",
    "plt.imshow(cv2.cvtColor(cv2.imread(f\"{root_dir}/faceDataset/augmentationFace/train/{image_num}_0_2.jpg\"), cv2.COLOR_BGR2RGB));\n",
    "plt.title('spectral transform')\n",
    "plt.axis('off');\n"
   ]
  },
  {
   "attachments": {},
   "cell_type": "markdown",
   "metadata": {},
   "source": [
    "## part 1-2: Training a CNN on face "
   ]
  },
  {
   "cell_type": "code",
   "execution_count": 9,
   "metadata": {},
   "outputs": [],
   "source": [
    "from faceAnalysis import faceSentiment"
   ]
  },
  {
   "cell_type": "code",
   "execution_count": 5,
   "metadata": {},
   "outputs": [
    {
     "name": "stdout",
     "output_type": "stream",
     "text": [
      "Whole train set size: 18256\n",
      "Validation set size: 4587\n"
     ]
    },
    {
     "name": "stderr",
     "output_type": "stream",
     "text": [
      "  0%|          | 0/20 [00:20<?, ?it/s]"
     ]
    },
    {
     "name": "stdout",
     "output_type": "stream",
     "text": [
      "[Epoch 1] Training accuracy: 0.3863. Loss: 2.089. LR 0.001000\n"
     ]
    },
    {
     "name": "stderr",
     "output_type": "stream",
     "text": [
      "  0%|          | 0/20 [00:24<?, ?it/s]"
     ]
    },
    {
     "name": "stdout",
     "output_type": "stream",
     "text": [
      "[Epoch 1] Validation accuracy:0.3658. bacc:0.3385. Loss:1.889\n",
      "best_acc:0.3658\n"
     ]
    },
    {
     "name": "stderr",
     "output_type": "stream",
     "text": [
      "  5%|▌         | 1/20 [00:24<07:46, 24.54s/it]"
     ]
    },
    {
     "name": "stdout",
     "output_type": "stream",
     "text": [
      "Model saved in : ./checkpoints/faceDAN.pth\n"
     ]
    },
    {
     "name": "stderr",
     "output_type": "stream",
     "text": [
      "  5%|▌         | 1/20 [00:43<07:46, 24.54s/it]"
     ]
    },
    {
     "name": "stdout",
     "output_type": "stream",
     "text": [
      "[Epoch 2] Training accuracy: 0.3935. Loss: 1.847. LR 0.000994\n"
     ]
    },
    {
     "name": "stderr",
     "output_type": "stream",
     "text": [
      " 10%|█         | 2/20 [00:46<06:54, 23.05s/it]"
     ]
    },
    {
     "name": "stdout",
     "output_type": "stream",
     "text": [
      "[Epoch 2] Validation accuracy:0.3623. bacc:0.3343. Loss:1.840\n",
      "best_acc:0.3658\n"
     ]
    },
    {
     "name": "stderr",
     "output_type": "stream",
     "text": [
      " 10%|█         | 2/20 [01:05<06:54, 23.05s/it]"
     ]
    },
    {
     "name": "stdout",
     "output_type": "stream",
     "text": [
      "[Epoch 3] Training accuracy: 0.3933. Loss: 1.806. LR 0.000976\n"
     ]
    },
    {
     "name": "stderr",
     "output_type": "stream",
     "text": [
      " 10%|█         | 2/20 [01:08<06:54, 23.05s/it]"
     ]
    },
    {
     "name": "stdout",
     "output_type": "stream",
     "text": [
      "[Epoch 3] Validation accuracy:0.3663. bacc:0.3383. Loss:1.813\n",
      "best_acc:0.3663\n"
     ]
    },
    {
     "name": "stderr",
     "output_type": "stream",
     "text": [
      " 15%|█▌        | 3/20 [01:09<06:29, 22.89s/it]"
     ]
    },
    {
     "name": "stdout",
     "output_type": "stream",
     "text": [
      "Model saved in : ./checkpoints/faceDAN.pth\n"
     ]
    },
    {
     "name": "stderr",
     "output_type": "stream",
     "text": [
      " 15%|█▌        | 3/20 [01:28<06:29, 22.89s/it]"
     ]
    },
    {
     "name": "stdout",
     "output_type": "stream",
     "text": [
      "[Epoch 4] Training accuracy: 0.3936. Loss: 1.778. LR 0.000946\n"
     ]
    },
    {
     "name": "stderr",
     "output_type": "stream",
     "text": [
      " 20%|██        | 4/20 [01:31<06:02, 22.65s/it]"
     ]
    },
    {
     "name": "stdout",
     "output_type": "stream",
     "text": [
      "[Epoch 4] Validation accuracy:0.3647. bacc:0.3364. Loss:1.786\n",
      "best_acc:0.3663\n"
     ]
    },
    {
     "name": "stderr",
     "output_type": "stream",
     "text": [
      " 20%|██        | 4/20 [01:50<06:02, 22.65s/it]"
     ]
    },
    {
     "name": "stdout",
     "output_type": "stream",
     "text": [
      "[Epoch 5] Training accuracy: 0.3954. Loss: 1.757. LR 0.000905\n"
     ]
    },
    {
     "name": "stderr",
     "output_type": "stream",
     "text": [
      " 20%|██        | 4/20 [01:53<06:02, 22.65s/it]"
     ]
    },
    {
     "name": "stdout",
     "output_type": "stream",
     "text": [
      "[Epoch 5] Validation accuracy:0.3695. bacc:0.3411. Loss:1.767\n",
      "best_acc:0.3695\n"
     ]
    },
    {
     "name": "stderr",
     "output_type": "stream",
     "text": [
      " 25%|██▌       | 5/20 [01:54<05:38, 22.60s/it]"
     ]
    },
    {
     "name": "stdout",
     "output_type": "stream",
     "text": [
      "Model saved in : ./checkpoints/faceDAN.pth\n"
     ]
    },
    {
     "name": "stderr",
     "output_type": "stream",
     "text": [
      " 25%|██▌       | 5/20 [02:12<05:38, 22.60s/it]"
     ]
    },
    {
     "name": "stdout",
     "output_type": "stream",
     "text": [
      "[Epoch 6] Training accuracy: 0.3953. Loss: 1.742. LR 0.000855\n"
     ]
    },
    {
     "name": "stderr",
     "output_type": "stream",
     "text": [
      " 25%|██▌       | 5/20 [02:16<05:38, 22.60s/it]"
     ]
    },
    {
     "name": "stdout",
     "output_type": "stream",
     "text": [
      "[Epoch 6] Validation accuracy:0.3702. bacc:0.3418. Loss:1.775\n",
      "best_acc:0.3702\n"
     ]
    },
    {
     "name": "stderr",
     "output_type": "stream",
     "text": [
      " 30%|███       | 6/20 [02:16<05:16, 22.61s/it]"
     ]
    },
    {
     "name": "stdout",
     "output_type": "stream",
     "text": [
      "Model saved in : ./checkpoints/faceDAN.pth\n"
     ]
    },
    {
     "name": "stderr",
     "output_type": "stream",
     "text": [
      " 30%|███       | 6/20 [02:35<05:16, 22.61s/it]"
     ]
    },
    {
     "name": "stdout",
     "output_type": "stream",
     "text": [
      "[Epoch 7] Training accuracy: 0.3951. Loss: 1.731. LR 0.000796\n"
     ]
    },
    {
     "name": "stderr",
     "output_type": "stream",
     "text": [
      " 35%|███▌      | 7/20 [02:39<04:53, 22.58s/it]"
     ]
    },
    {
     "name": "stdout",
     "output_type": "stream",
     "text": [
      "[Epoch 7] Validation accuracy:0.3658. bacc:0.3376. Loss:1.748\n",
      "best_acc:0.3702\n"
     ]
    },
    {
     "name": "stderr",
     "output_type": "stream",
     "text": [
      " 35%|███▌      | 7/20 [02:58<04:53, 22.58s/it]"
     ]
    },
    {
     "name": "stdout",
     "output_type": "stream",
     "text": [
      "[Epoch 8] Training accuracy: 0.3967. Loss: 1.721. LR 0.000730\n"
     ]
    },
    {
     "name": "stderr",
     "output_type": "stream",
     "text": [
      " 40%|████      | 8/20 [03:01<04:29, 22.42s/it]"
     ]
    },
    {
     "name": "stdout",
     "output_type": "stream",
     "text": [
      "[Epoch 8] Validation accuracy:0.3658. bacc:0.3376. Loss:1.745\n",
      "best_acc:0.3702\n"
     ]
    },
    {
     "name": "stderr",
     "output_type": "stream",
     "text": [
      " 40%|████      | 8/20 [03:20<04:29, 22.42s/it]"
     ]
    },
    {
     "name": "stdout",
     "output_type": "stream",
     "text": [
      "[Epoch 9] Training accuracy: 0.3977. Loss: 1.714. LR 0.000658\n"
     ]
    },
    {
     "name": "stderr",
     "output_type": "stream",
     "text": [
      " 45%|████▌     | 9/20 [03:23<04:06, 22.43s/it]"
     ]
    },
    {
     "name": "stdout",
     "output_type": "stream",
     "text": [
      "[Epoch 9] Validation accuracy:0.3663. bacc:0.3379. Loss:1.737\n",
      "best_acc:0.3702\n"
     ]
    },
    {
     "name": "stderr",
     "output_type": "stream",
     "text": [
      " 45%|████▌     | 9/20 [03:42<04:06, 22.43s/it]"
     ]
    },
    {
     "name": "stdout",
     "output_type": "stream",
     "text": [
      "[Epoch 10] Training accuracy: 0.3971. Loss: 1.708. LR 0.000582\n"
     ]
    },
    {
     "name": "stderr",
     "output_type": "stream",
     "text": [
      " 50%|█████     | 10/20 [03:46<03:44, 22.41s/it]"
     ]
    },
    {
     "name": "stdout",
     "output_type": "stream",
     "text": [
      "[Epoch 10] Validation accuracy:0.3669. bacc:0.3386. Loss:1.732\n",
      "best_acc:0.3702\n"
     ]
    },
    {
     "name": "stderr",
     "output_type": "stream",
     "text": [
      " 50%|█████     | 10/20 [04:05<03:44, 22.41s/it]"
     ]
    },
    {
     "name": "stdout",
     "output_type": "stream",
     "text": [
      "[Epoch 11] Training accuracy: 0.3982. Loss: 1.703. LR 0.000505\n"
     ]
    },
    {
     "name": "stderr",
     "output_type": "stream",
     "text": [
      " 55%|█████▌    | 11/20 [04:08<03:21, 22.36s/it]"
     ]
    },
    {
     "name": "stdout",
     "output_type": "stream",
     "text": [
      "[Epoch 11] Validation accuracy:0.3656. bacc:0.3373. Loss:1.731\n",
      "best_acc:0.3702\n"
     ]
    },
    {
     "name": "stderr",
     "output_type": "stream",
     "text": [
      " 55%|█████▌    | 11/20 [04:27<03:21, 22.36s/it]"
     ]
    },
    {
     "name": "stdout",
     "output_type": "stream",
     "text": [
      "[Epoch 12] Training accuracy: 0.3972. Loss: 1.700. LR 0.000428\n"
     ]
    },
    {
     "name": "stderr",
     "output_type": "stream",
     "text": [
      " 60%|██████    | 12/20 [04:30<02:58, 22.34s/it]"
     ]
    },
    {
     "name": "stdout",
     "output_type": "stream",
     "text": [
      "[Epoch 12] Validation accuracy:0.3634. bacc:0.3355. Loss:1.729\n",
      "best_acc:0.3702\n"
     ]
    },
    {
     "name": "stderr",
     "output_type": "stream",
     "text": [
      " 60%|██████    | 12/20 [04:49<02:58, 22.34s/it]"
     ]
    },
    {
     "name": "stdout",
     "output_type": "stream",
     "text": [
      "[Epoch 13] Training accuracy: 0.3970. Loss: 1.696. LR 0.000352\n"
     ]
    },
    {
     "name": "stderr",
     "output_type": "stream",
     "text": [
      " 60%|██████    | 12/20 [04:52<02:58, 22.34s/it]"
     ]
    },
    {
     "name": "stdout",
     "output_type": "stream",
     "text": [
      "[Epoch 13] Validation accuracy:0.3745. bacc:0.3462. Loss:1.725\n",
      "best_acc:0.3745\n"
     ]
    },
    {
     "name": "stderr",
     "output_type": "stream",
     "text": [
      " 65%|██████▌   | 13/20 [04:53<02:36, 22.38s/it]"
     ]
    },
    {
     "name": "stdout",
     "output_type": "stream",
     "text": [
      "Model saved in : ./checkpoints/faceDAN.pth\n"
     ]
    },
    {
     "name": "stderr",
     "output_type": "stream",
     "text": [
      " 65%|██████▌   | 13/20 [05:12<02:36, 22.38s/it]"
     ]
    },
    {
     "name": "stdout",
     "output_type": "stream",
     "text": [
      "[Epoch 14] Training accuracy: 0.3980. Loss: 1.695. LR 0.000280\n"
     ]
    },
    {
     "name": "stderr",
     "output_type": "stream",
     "text": [
      " 70%|███████   | 14/20 [05:15<02:14, 22.33s/it]"
     ]
    },
    {
     "name": "stdout",
     "output_type": "stream",
     "text": [
      "[Epoch 14] Validation accuracy:0.3623. bacc:0.3344. Loss:1.726\n",
      "best_acc:0.3745\n"
     ]
    },
    {
     "name": "stderr",
     "output_type": "stream",
     "text": [
      " 70%|███████   | 14/20 [05:34<02:14, 22.33s/it]"
     ]
    },
    {
     "name": "stdout",
     "output_type": "stream",
     "text": [
      "[Epoch 15] Training accuracy: 0.4005. Loss: 1.691. LR 0.000214\n"
     ]
    },
    {
     "name": "stderr",
     "output_type": "stream",
     "text": [
      " 70%|███████   | 14/20 [05:37<02:14, 22.33s/it]"
     ]
    },
    {
     "name": "stdout",
     "output_type": "stream",
     "text": [
      "[Epoch 15] Validation accuracy:0.3758. bacc:0.3474. Loss:1.723\n",
      "best_acc:0.3758\n"
     ]
    },
    {
     "name": "stderr",
     "output_type": "stream",
     "text": [
      " 75%|███████▌  | 15/20 [05:37<01:51, 22.35s/it]"
     ]
    },
    {
     "name": "stdout",
     "output_type": "stream",
     "text": [
      "Model saved in : ./checkpoints/faceDAN.pth\n"
     ]
    },
    {
     "name": "stderr",
     "output_type": "stream",
     "text": [
      " 75%|███████▌  | 15/20 [05:56<01:51, 22.35s/it]"
     ]
    },
    {
     "name": "stdout",
     "output_type": "stream",
     "text": [
      "[Epoch 16] Training accuracy: 0.3999. Loss: 1.689. LR 0.000155\n"
     ]
    },
    {
     "name": "stderr",
     "output_type": "stream",
     "text": [
      " 80%|████████  | 16/20 [05:59<01:29, 22.30s/it]"
     ]
    },
    {
     "name": "stdout",
     "output_type": "stream",
     "text": [
      "[Epoch 16] Validation accuracy:0.3680. bacc:0.3412. Loss:1.725\n",
      "best_acc:0.3758\n"
     ]
    },
    {
     "name": "stderr",
     "output_type": "stream",
     "text": [
      " 80%|████████  | 16/20 [06:18<01:29, 22.30s/it]"
     ]
    },
    {
     "name": "stdout",
     "output_type": "stream",
     "text": [
      "[Epoch 17] Training accuracy: 0.4031. Loss: 1.687. LR 0.000105\n"
     ]
    },
    {
     "name": "stderr",
     "output_type": "stream",
     "text": [
      " 85%|████████▌ | 17/20 [06:22<01:06, 22.28s/it]"
     ]
    },
    {
     "name": "stdout",
     "output_type": "stream",
     "text": [
      "[Epoch 17] Validation accuracy:0.3630. bacc:0.3355. Loss:1.723\n",
      "best_acc:0.3758\n"
     ]
    },
    {
     "name": "stderr",
     "output_type": "stream",
     "text": [
      " 85%|████████▌ | 17/20 [06:41<01:06, 22.28s/it]"
     ]
    },
    {
     "name": "stdout",
     "output_type": "stream",
     "text": [
      "[Epoch 18] Training accuracy: 0.4034. Loss: 1.686. LR 0.000064\n"
     ]
    },
    {
     "name": "stderr",
     "output_type": "stream",
     "text": [
      " 90%|█████████ | 18/20 [06:44<00:44, 22.25s/it]"
     ]
    },
    {
     "name": "stdout",
     "output_type": "stream",
     "text": [
      "[Epoch 18] Validation accuracy:0.3663. bacc:0.3387. Loss:1.725\n",
      "best_acc:0.3758\n"
     ]
    },
    {
     "name": "stderr",
     "output_type": "stream",
     "text": [
      " 90%|█████████ | 18/20 [07:03<00:44, 22.25s/it]"
     ]
    },
    {
     "name": "stdout",
     "output_type": "stream",
     "text": [
      "[Epoch 19] Training accuracy: 0.4085. Loss: 1.682. LR 0.000034\n"
     ]
    },
    {
     "name": "stderr",
     "output_type": "stream",
     "text": [
      " 95%|█████████▌| 19/20 [07:06<00:22, 22.32s/it]"
     ]
    },
    {
     "name": "stdout",
     "output_type": "stream",
     "text": [
      "[Epoch 19] Validation accuracy:0.3660. bacc:0.3391. Loss:1.725\n",
      "best_acc:0.3758\n"
     ]
    },
    {
     "name": "stderr",
     "output_type": "stream",
     "text": [
      " 95%|█████████▌| 19/20 [07:25<00:22, 22.32s/it]"
     ]
    },
    {
     "name": "stdout",
     "output_type": "stream",
     "text": [
      "[Epoch 20] Training accuracy: 0.4089. Loss: 1.680. LR 0.000016\n"
     ]
    },
    {
     "name": "stderr",
     "output_type": "stream",
     "text": [
      "100%|██████████| 20/20 [07:29<00:00, 22.46s/it]"
     ]
    },
    {
     "name": "stdout",
     "output_type": "stream",
     "text": [
      "[Epoch 20] Validation accuracy:0.3591. bacc:0.3350. Loss:1.728\n",
      "best_acc:0.3758\n"
     ]
    },
    {
     "name": "stderr",
     "output_type": "stream",
     "text": [
      "\n"
     ]
    }
   ],
   "source": [
    "faceSentiment.train(batch_size=128, lr=1.e-3, epochs=20, augmentation=[],\\\n",
    "                     workers=2, num_head=4, Facedataset_path='.',\\\n",
    "                        model_path=os.path.join(root_dir,\"checkpoints\"))"
   ]
  },
  {
   "cell_type": "code",
   "execution_count": 7,
   "metadata": {},
   "outputs": [
    {
     "name": "stdout",
     "output_type": "stream",
     "text": [
      "Test set size: 4683\n",
      "test accuracy:0.4012. bacc:0.3295\n"
     ]
    }
   ],
   "source": [
    "y_true, y_pred = faceSentiment.test(batch_size=128, workers=2, num_head=4, \\\n",
    "                                    model_path=os.path.join(root_dir,\"checkpoints\",\"faceDAN.pth\"), Facedataset_path='.')"
   ]
  },
  {
   "cell_type": "code",
   "execution_count": 8,
   "metadata": {},
   "outputs": [
    {
     "name": "stdout",
     "output_type": "stream",
     "text": [
      "              precision    recall  f1-score   support\n",
      "\n",
      "     neutral       0.22      0.15      0.18      1165\n",
      "    negative       0.44      0.84      0.57      2032\n",
      "    positive       0.00      0.00      0.00      1486\n",
      "\n",
      "    accuracy                           0.40      4683\n",
      "   macro avg       0.22      0.33      0.25      4683\n",
      "weighted avg       0.25      0.40      0.29      4683\n",
      "\n"
     ]
    }
   ],
   "source": [
    "print(classification_report(y_true=y_true, y_pred=y_pred, target_names=['neutral','negative','positive']))"
   ]
  },
  {
   "cell_type": "code",
   "execution_count": 9,
   "metadata": {},
   "outputs": [
    {
     "data": {
      "image/png": "[encoded data removed]",
      "text/plain": [
       "<Figure size 640x480 with 2 Axes>"
      ]
     },
     "metadata": {},
     "output_type": "display_data"
    }
   ],
   "source": [
    "cf_matrix = confusion_matrix(y_true=y_true, y_pred=y_pred)\n",
    "\n",
    "sb.heatmap(cf_matrix,\n",
    "           annot=True,\n",
    "           fmt='d',\n",
    "           cmap='viridis',\n",
    "           xticklabels=['neutral','negative','positive'],\n",
    "           yticklabels=['neutral','negative','positive'])\n",
    "plt.xlabel('Predicted label')\n",
    "plt.ylabel('True label')\n",
    "plt.show()"
   ]
  },
  {
   "attachments": {},
   "cell_type": "markdown",
   "metadata": {},
   "source": [
    "## part 1-3: Connect two networks and obtain the final result"
   ]
  },
  {
   "cell_type": "code",
   "execution_count": 4,
   "metadata": {},
   "outputs": [],
   "source": [
    "from faceAnalysis import ModelPip"
   ]
  },
  {
   "cell_type": "code",
   "execution_count": 34,
   "metadata": {},
   "outputs": [
    {
     "name": "stdout",
     "output_type": "stream",
     "text": [
      "Whole train set size: 20240\n",
      "Validation set size: 5063\n"
     ]
    },
    {
     "name": "stderr",
     "output_type": "stream",
     "text": [
      "  0%|          | 0/20 [02:48<?, ?it/s]"
     ]
    },
    {
     "name": "stdout",
     "output_type": "stream",
     "text": [
      "[Epoch 1] Training accuracy: 0.3511. Loss: 1.089. LR 0.001000\n"
     ]
    },
    {
     "name": "stderr",
     "output_type": "stream",
     "text": [
      "  5%|▌         | 1/20 [03:14<1:01:29, 194.17s/it]"
     ]
    },
    {
     "name": "stdout",
     "output_type": "stream",
     "text": [
      "[Epoch 1] Validation accuracy:0.3612. bacc:0.3334. Loss:1.097\n",
      "best_acc:0.3612\n",
      "Model saved in : ./checkpoints/facePipModel.pth\n"
     ]
    },
    {
     "name": "stderr",
     "output_type": "stream",
     "text": [
      "  5%|▌         | 1/20 [06:29<1:01:29, 194.17s/it]"
     ]
    },
    {
     "name": "stdout",
     "output_type": "stream",
     "text": [
      "[Epoch 2] Training accuracy: 0.3513. Loss: 1.087. LR 0.000994\n"
     ]
    },
    {
     "name": "stderr",
     "output_type": "stream",
     "text": [
      " 10%|█         | 2/20 [06:51<1:02:24, 208.01s/it]"
     ]
    },
    {
     "name": "stdout",
     "output_type": "stream",
     "text": [
      "[Epoch 2] Validation accuracy:0.3599. bacc:0.3321. Loss:1.096\n",
      "best_acc:0.3612\n"
     ]
    },
    {
     "name": "stderr",
     "output_type": "stream",
     "text": [
      " 10%|█         | 2/20 [09:56<1:02:24, 208.01s/it]"
     ]
    },
    {
     "name": "stdout",
     "output_type": "stream",
     "text": [
      "[Epoch 3] Training accuracy: 0.3527. Loss: 1.087. LR 0.000976\n"
     ]
    },
    {
     "name": "stderr",
     "output_type": "stream",
     "text": [
      " 15%|█▌        | 3/20 [10:20<59:04, 208.48s/it]  "
     ]
    },
    {
     "name": "stdout",
     "output_type": "stream",
     "text": [
      "[Epoch 3] Validation accuracy:0.3586. bacc:0.3309. Loss:1.096\n",
      "best_acc:0.3612\n"
     ]
    },
    {
     "name": "stderr",
     "output_type": "stream",
     "text": [
      " 15%|█▌        | 3/20 [13:31<59:04, 208.48s/it]"
     ]
    },
    {
     "name": "stdout",
     "output_type": "stream",
     "text": [
      "[Epoch 4] Training accuracy: 0.3528. Loss: 1.087. LR 0.000946\n"
     ]
    },
    {
     "name": "stderr",
     "output_type": "stream",
     "text": [
      " 20%|██        | 4/20 [13:54<56:04, 210.31s/it]"
     ]
    },
    {
     "name": "stdout",
     "output_type": "stream",
     "text": [
      "[Epoch 4] Validation accuracy:0.3615. bacc:0.3336. Loss:1.095\n",
      "best_acc:0.3615\n",
      "Model saved in : ./checkpoints/facePipModel.pth\n"
     ]
    },
    {
     "name": "stderr",
     "output_type": "stream",
     "text": [
      " 20%|██        | 4/20 [17:00<56:04, 210.31s/it]"
     ]
    },
    {
     "name": "stdout",
     "output_type": "stream",
     "text": [
      "[Epoch 5] Training accuracy: 0.3510. Loss: 1.087. LR 0.000905\n"
     ]
    },
    {
     "name": "stderr",
     "output_type": "stream",
     "text": [
      " 25%|██▌       | 5/20 [17:25<52:43, 210.89s/it]"
     ]
    },
    {
     "name": "stdout",
     "output_type": "stream",
     "text": [
      "[Epoch 5] Validation accuracy:0.3604. bacc:0.3325. Loss:1.095\n",
      "best_acc:0.3615\n"
     ]
    },
    {
     "name": "stderr",
     "output_type": "stream",
     "text": [
      " 25%|██▌       | 5/20 [20:38<52:43, 210.89s/it]"
     ]
    },
    {
     "name": "stdout",
     "output_type": "stream",
     "text": [
      "[Epoch 6] Training accuracy: 0.3531. Loss: 1.086. LR 0.000855\n"
     ]
    },
    {
     "name": "stderr",
     "output_type": "stream",
     "text": [
      " 25%|██▌       | 5/20 [21:04<52:43, 210.89s/it]"
     ]
    },
    {
     "name": "stdout",
     "output_type": "stream",
     "text": [
      "[Epoch 6] Validation accuracy:0.3625. bacc:0.3346. Loss:1.095\n",
      "best_acc:0.3625\n"
     ]
    },
    {
     "name": "stderr",
     "output_type": "stream",
     "text": [
      " 30%|███       | 6/20 [21:09<50:12, 215.19s/it]"
     ]
    },
    {
     "name": "stdout",
     "output_type": "stream",
     "text": [
      "Model saved in : ./checkpoints/facePipModel.pth\n"
     ]
    },
    {
     "name": "stderr",
     "output_type": "stream",
     "text": [
      " 30%|███       | 6/20 [24:23<50:12, 215.19s/it]"
     ]
    },
    {
     "name": "stdout",
     "output_type": "stream",
     "text": [
      "[Epoch 7] Training accuracy: 0.3535. Loss: 1.087. LR 0.000796\n"
     ]
    },
    {
     "name": "stderr",
     "output_type": "stream",
     "text": [
      " 35%|███▌      | 7/20 [24:48<46:54, 216.51s/it]"
     ]
    },
    {
     "name": "stdout",
     "output_type": "stream",
     "text": [
      "[Epoch 7] Validation accuracy:0.3628. bacc:0.3348. Loss:1.095\n",
      "best_acc:0.3628\n",
      "Model saved in : ./checkpoints/facePipModel.pth\n"
     ]
    },
    {
     "name": "stderr",
     "output_type": "stream",
     "text": [
      " 35%|███▌      | 7/20 [27:35<46:54, 216.51s/it]"
     ]
    },
    {
     "name": "stdout",
     "output_type": "stream",
     "text": [
      "[Epoch 8] Training accuracy: 0.3527. Loss: 1.086. LR 0.000730\n"
     ]
    },
    {
     "name": "stderr",
     "output_type": "stream",
     "text": [
      " 40%|████      | 8/20 [28:00<41:42, 208.56s/it]"
     ]
    },
    {
     "name": "stdout",
     "output_type": "stream",
     "text": [
      "[Epoch 8] Validation accuracy:0.3595. bacc:0.3317. Loss:1.095\n",
      "best_acc:0.3628\n"
     ]
    },
    {
     "name": "stderr",
     "output_type": "stream",
     "text": [
      " 40%|████      | 8/20 [31:05<41:42, 208.56s/it]"
     ]
    },
    {
     "name": "stdout",
     "output_type": "stream",
     "text": [
      "[Epoch 9] Training accuracy: 0.3522. Loss: 1.086. LR 0.000658\n"
     ]
    },
    {
     "name": "stderr",
     "output_type": "stream",
     "text": [
      " 45%|████▌     | 9/20 [31:31<38:23, 209.39s/it]"
     ]
    },
    {
     "name": "stdout",
     "output_type": "stream",
     "text": [
      "[Epoch 9] Validation accuracy:0.3601. bacc:0.3323. Loss:1.095\n",
      "best_acc:0.3628\n"
     ]
    },
    {
     "name": "stderr",
     "output_type": "stream",
     "text": [
      " 45%|████▌     | 9/20 [34:41<38:23, 209.39s/it]"
     ]
    },
    {
     "name": "stdout",
     "output_type": "stream",
     "text": [
      "[Epoch 10] Training accuracy: 0.3520. Loss: 1.087. LR 0.000582\n"
     ]
    },
    {
     "name": "stderr",
     "output_type": "stream",
     "text": [
      " 50%|█████     | 10/20 [35:07<35:14, 211.47s/it]"
     ]
    },
    {
     "name": "stdout",
     "output_type": "stream",
     "text": [
      "[Epoch 10] Validation accuracy:0.3621. bacc:0.3342. Loss:1.095\n",
      "best_acc:0.3628\n"
     ]
    },
    {
     "name": "stderr",
     "output_type": "stream",
     "text": [
      " 50%|█████     | 10/20 [38:08<35:14, 211.47s/it]"
     ]
    },
    {
     "name": "stdout",
     "output_type": "stream",
     "text": [
      "[Epoch 11] Training accuracy: 0.3539. Loss: 1.086. LR 0.000505\n"
     ]
    },
    {
     "name": "stderr",
     "output_type": "stream",
     "text": [
      " 55%|█████▌    | 11/20 [38:30<31:20, 208.97s/it]"
     ]
    },
    {
     "name": "stdout",
     "output_type": "stream",
     "text": [
      "[Epoch 11] Validation accuracy:0.3610. bacc:0.3332. Loss:1.095\n",
      "best_acc:0.3628\n"
     ]
    },
    {
     "name": "stderr",
     "output_type": "stream",
     "text": [
      " 55%|█████▌    | 11/20 [41:31<31:20, 208.97s/it]"
     ]
    },
    {
     "name": "stdout",
     "output_type": "stream",
     "text": [
      "[Epoch 12] Training accuracy: 0.3531. Loss: 1.087. LR 0.000428\n"
     ]
    },
    {
     "name": "stderr",
     "output_type": "stream",
     "text": [
      " 60%|██████    | 12/20 [41:57<27:46, 208.31s/it]"
     ]
    },
    {
     "name": "stdout",
     "output_type": "stream",
     "text": [
      "[Epoch 12] Validation accuracy:0.3595. bacc:0.3318. Loss:1.095\n",
      "best_acc:0.3628\n"
     ]
    },
    {
     "name": "stderr",
     "output_type": "stream",
     "text": [
      " 60%|██████    | 12/20 [45:03<27:46, 208.31s/it]"
     ]
    },
    {
     "name": "stdout",
     "output_type": "stream",
     "text": [
      "[Epoch 13] Training accuracy: 0.3539. Loss: 1.086. LR 0.000352\n"
     ]
    },
    {
     "name": "stderr",
     "output_type": "stream",
     "text": [
      " 65%|██████▌   | 13/20 [45:29<24:26, 209.45s/it]"
     ]
    },
    {
     "name": "stdout",
     "output_type": "stream",
     "text": [
      "[Epoch 13] Validation accuracy:0.3595. bacc:0.3318. Loss:1.095\n",
      "best_acc:0.3628\n"
     ]
    },
    {
     "name": "stderr",
     "output_type": "stream",
     "text": [
      " 65%|██████▌   | 13/20 [48:30<24:26, 209.45s/it]"
     ]
    },
    {
     "name": "stdout",
     "output_type": "stream",
     "text": [
      "[Epoch 14] Training accuracy: 0.3541. Loss: 1.086. LR 0.000280\n"
     ]
    },
    {
     "name": "stderr",
     "output_type": "stream",
     "text": [
      " 70%|███████   | 14/20 [48:56<20:52, 208.77s/it]"
     ]
    },
    {
     "name": "stdout",
     "output_type": "stream",
     "text": [
      "[Epoch 14] Validation accuracy:0.3608. bacc:0.3330. Loss:1.096\n",
      "best_acc:0.3628\n"
     ]
    },
    {
     "name": "stderr",
     "output_type": "stream",
     "text": [
      "Premature end of JPEG file\n",
      " 70%|███████   | 14/20 [52:01<20:52, 208.77s/it]"
     ]
    },
    {
     "name": "stdout",
     "output_type": "stream",
     "text": [
      "[Epoch 15] Training accuracy: 0.3541. Loss: 1.086. LR 0.000214\n"
     ]
    },
    {
     "name": "stderr",
     "output_type": "stream",
     "text": [
      " 75%|███████▌  | 15/20 [52:23<17:20, 208.06s/it]"
     ]
    },
    {
     "name": "stdout",
     "output_type": "stream",
     "text": [
      "[Epoch 15] Validation accuracy:0.3595. bacc:0.3318. Loss:1.096\n",
      "best_acc:0.3628\n"
     ]
    },
    {
     "name": "stderr",
     "output_type": "stream",
     "text": [
      " 75%|███████▌  | 15/20 [55:19<17:20, 208.06s/it]"
     ]
    },
    {
     "name": "stdout",
     "output_type": "stream",
     "text": [
      "[Epoch 16] Training accuracy: 0.3543. Loss: 1.086. LR 0.000155\n"
     ]
    },
    {
     "name": "stderr",
     "output_type": "stream",
     "text": [
      " 80%|████████  | 16/20 [55:43<13:42, 205.56s/it]"
     ]
    },
    {
     "name": "stdout",
     "output_type": "stream",
     "text": [
      "[Epoch 16] Validation accuracy:0.3597. bacc:0.3320. Loss:1.096\n",
      "best_acc:0.3628\n"
     ]
    },
    {
     "name": "stderr",
     "output_type": "stream",
     "text": [
      " 80%|████████  | 16/20 [58:25<13:42, 205.56s/it]"
     ]
    },
    {
     "name": "stdout",
     "output_type": "stream",
     "text": [
      "[Epoch 17] Training accuracy: 0.3537. Loss: 1.086. LR 0.000105\n"
     ]
    },
    {
     "name": "stderr",
     "output_type": "stream",
     "text": [
      " 85%|████████▌ | 17/20 [58:50<10:00, 200.09s/it]"
     ]
    },
    {
     "name": "stdout",
     "output_type": "stream",
     "text": [
      "[Epoch 17] Validation accuracy:0.3601. bacc:0.3324. Loss:1.095\n",
      "best_acc:0.3628\n"
     ]
    },
    {
     "name": "stderr",
     "output_type": "stream",
     "text": [
      " 85%|████████▌ | 17/20 [1:02:11<10:00, 200.09s/it]"
     ]
    },
    {
     "name": "stdout",
     "output_type": "stream",
     "text": [
      "[Epoch 18] Training accuracy: 0.3537. Loss: 1.086. LR 0.000064\n"
     ]
    },
    {
     "name": "stderr",
     "output_type": "stream",
     "text": [
      " 90%|█████████ | 18/20 [1:02:36<06:55, 207.84s/it]"
     ]
    },
    {
     "name": "stdout",
     "output_type": "stream",
     "text": [
      "[Epoch 18] Validation accuracy:0.3595. bacc:0.3318. Loss:1.095\n",
      "best_acc:0.3628\n"
     ]
    },
    {
     "name": "stderr",
     "output_type": "stream",
     "text": [
      " 90%|█████████ | 18/20 [1:05:43<06:55, 207.84s/it]"
     ]
    },
    {
     "name": "stdout",
     "output_type": "stream",
     "text": [
      "[Epoch 19] Training accuracy: 0.3544. Loss: 1.086. LR 0.000034\n"
     ]
    },
    {
     "name": "stderr",
     "output_type": "stream",
     "text": [
      " 95%|█████████▌| 19/20 [1:06:22<03:33, 213.22s/it]"
     ]
    },
    {
     "name": "stdout",
     "output_type": "stream",
     "text": [
      "[Epoch 19] Validation accuracy:0.3597. bacc:0.3320. Loss:1.095\n",
      "best_acc:0.3628\n"
     ]
    },
    {
     "name": "stderr",
     "output_type": "stream",
     "text": [
      " 95%|█████████▌| 19/20 [1:09:04<03:33, 213.22s/it]"
     ]
    },
    {
     "name": "stdout",
     "output_type": "stream",
     "text": [
      "[Epoch 20] Training accuracy: 0.3532. Loss: 1.086. LR 0.000016\n"
     ]
    },
    {
     "name": "stderr",
     "output_type": "stream",
     "text": [
      "100%|██████████| 20/20 [1:09:28<00:00, 208.43s/it]"
     ]
    },
    {
     "name": "stdout",
     "output_type": "stream",
     "text": [
      "[Epoch 20] Validation accuracy:0.3597. bacc:0.3320. Loss:1.095\n",
      "best_acc:0.3628\n"
     ]
    },
    {
     "name": "stderr",
     "output_type": "stream",
     "text": [
      "\n"
     ]
    }
   ],
   "source": [
    "ModelPip.train(batch_size=128, lr=1.e-3, epochs=20, workers=2, num_head=4, MSCTD_path='.',\\\n",
    "                model_path=os.path.join(root_dir,\"checkpoints\"))"
   ]
  },
  {
   "cell_type": "code",
   "execution_count": 5,
   "metadata": {},
   "outputs": [
    {
     "name": "stdout",
     "output_type": "stream",
     "text": [
      "Test set size: 5067\n"
     ]
    },
    {
     "name": "stderr",
     "output_type": "stream",
     "text": [
      "100%|██████████| 40/40 [00:25<00:00,  1.58it/s]"
     ]
    },
    {
     "name": "stdout",
     "output_type": "stream",
     "text": [
      "test accuracy:0.4245. bacc:0.3418. Loss:2.485\n",
      "best_acc:0.4245\n"
     ]
    },
    {
     "name": "stderr",
     "output_type": "stream",
     "text": [
      "\n"
     ]
    }
   ],
   "source": [
    "y_true, y_pred = ModelPip.test(batch_size=128, workers=2, num_head=4, Facedataset_path='.',\\\n",
    "                                DAN_path=os.path.join(root_dir,\"checkpoints\",\"faceDAN.pth\"),\\\n",
    "                                mixFace_path=os.path.join(root_dir,\"checkpoints\",\"facePipModel.pth\"))"
   ]
  },
  {
   "cell_type": "code",
   "execution_count": 6,
   "metadata": {},
   "outputs": [
    {
     "name": "stdout",
     "output_type": "stream",
     "text": [
      "              precision    recall  f1-score   support\n",
      "\n",
      "     neutral       0.33      0.06      0.10      1298\n",
      "    negative       0.43      0.94      0.59      2163\n",
      "    positive       0.33      0.02      0.05      1606\n",
      "\n",
      "    accuracy                           0.42      5067\n",
      "   macro avg       0.36      0.34      0.25      5067\n",
      "weighted avg       0.37      0.42      0.29      5067\n",
      "\n"
     ]
    }
   ],
   "source": [
    "print(classification_report(y_true=y_true, y_pred=y_pred, target_names=['neutral','negative','positive']))"
   ]
  },
  {
   "cell_type": "code",
   "execution_count": 7,
   "metadata": {},
   "outputs": [
    {
     "data": {
      "image/png": "[encoded data removed]",
      "text/plain": [
       "<Figure size 640x480 with 2 Axes>"
      ]
     },
     "metadata": {},
     "output_type": "display_data"
    }
   ],
   "source": [
    "cf_matrix = confusion_matrix(y_true=y_true, y_pred=y_pred)\n",
    "\n",
    "sb.heatmap(cf_matrix,\n",
    "           annot=True,\n",
    "           fmt='d',\n",
    "           cmap='viridis',\n",
    "           xticklabels=['neutral','negative','positive'],\n",
    "           yticklabels=['neutral','negative','positive'])\n",
    "plt.xlabel('Predicted label')\n",
    "plt.ylabel('True label')\n",
    "plt.show()"
   ]
  },
  {
   "attachments": {},
   "cell_type": "markdown",
   "metadata": {},
   "source": [
    "## part 2-2: Test network with face augmentation"
   ]
  },
  {
   "cell_type": "code",
   "execution_count": 10,
   "metadata": {},
   "outputs": [
    {
     "name": "stdout",
     "output_type": "stream",
     "text": [
      "Test set size: 54120\n",
      "test accuracy:0.3968. bacc:0.3499\n"
     ]
    }
   ],
   "source": [
    "y_true, y_pred = faceSentiment.test(batch_size=128, workers=2, num_head=4, augmentation=['diffeo', 'color', 'filt'],\\\n",
    "                                    model_path=os.path.join(root_dir,\"checkpoints\",\"faceDAN.pth\"), Facedataset_path='.')"
   ]
  },
  {
   "cell_type": "code",
   "execution_count": 11,
   "metadata": {},
   "outputs": [
    {
     "name": "stdout",
     "output_type": "stream",
     "text": [
      "              precision    recall  f1-score   support\n",
      "\n",
      "     neutral       0.37      0.25      0.30     18183\n",
      "    negative       0.41      0.79      0.54     21246\n",
      "    positive       0.25      0.01      0.02     14691\n",
      "\n",
      "    accuracy                           0.40     54120\n",
      "   macro avg       0.34      0.35      0.28     54120\n",
      "weighted avg       0.35      0.40      0.32     54120\n",
      "\n"
     ]
    }
   ],
   "source": [
    "print(classification_report(y_true=y_true, y_pred=y_pred, target_names=['neutral','negative','positive']))"
   ]
  },
  {
   "cell_type": "code",
   "execution_count": 12,
   "metadata": {},
   "outputs": [
    {
     "data": {
      "image/png": "[encoded data removed]",
      "text/plain": [
       "<Figure size 640x480 with 2 Axes>"
      ]
     },
     "metadata": {},
     "output_type": "display_data"
    }
   ],
   "source": [
    "cf_matrix = confusion_matrix(y_true=y_true, y_pred=y_pred)\n",
    "\n",
    "sb.heatmap(cf_matrix,\n",
    "           annot=True,\n",
    "           fmt='d',\n",
    "           cmap='viridis',\n",
    "           xticklabels=['neutral','negative','positive'],\n",
    "           yticklabels=['neutral','negative','positive'])\n",
    "plt.xlabel('Predicted label')\n",
    "plt.ylabel('True label')\n",
    "plt.show()"
   ]
  },
  {
   "attachments": {},
   "cell_type": "markdown",
   "metadata": {},
   "source": [
    "## part 2-3: Training CNN with original and augmentation faces"
   ]
  },
  {
   "cell_type": "code",
   "execution_count": 13,
   "metadata": {},
   "outputs": [
    {
     "name": "stdout",
     "output_type": "stream",
     "text": [
      "Whole train set size: 72376\n",
      "Validation set size: 4587\n"
     ]
    },
    {
     "name": "stderr",
     "output_type": "stream",
     "text": [
      "  0%|          | 0/20 [01:13<?, ?it/s]"
     ]
    },
    {
     "name": "stdout",
     "output_type": "stream",
     "text": [
      "[Epoch 1] Training accuracy: 0.3912. Loss: 1.840. LR 0.001000\n"
     ]
    },
    {
     "name": "stderr",
     "output_type": "stream",
     "text": [
      "  0%|          | 0/20 [01:16<?, ?it/s]"
     ]
    },
    {
     "name": "stdout",
     "output_type": "stream",
     "text": [
      "[Epoch 1] Validation accuracy:0.3658. bacc:0.3379. Loss:1.778\n",
      "best_acc:0.3658\n"
     ]
    },
    {
     "name": "stderr",
     "output_type": "stream",
     "text": [
      "  5%|▌         | 1/20 [01:17<24:25, 77.13s/it]"
     ]
    },
    {
     "name": "stdout",
     "output_type": "stream",
     "text": [
      "Model saved in : ./checkpoints/faceDAN_aug.pth\n"
     ]
    },
    {
     "name": "stderr",
     "output_type": "stream",
     "text": [
      "  5%|▌         | 1/20 [02:30<24:25, 77.13s/it]"
     ]
    },
    {
     "name": "stdout",
     "output_type": "stream",
     "text": [
      "[Epoch 2] Training accuracy: 0.3937. Loss: 1.731. LR 0.000994\n"
     ]
    },
    {
     "name": "stderr",
     "output_type": "stream",
     "text": [
      " 10%|█         | 2/20 [02:33<22:59, 76.63s/it]"
     ]
    },
    {
     "name": "stdout",
     "output_type": "stream",
     "text": [
      "[Epoch 2] Validation accuracy:0.3652. bacc:0.3369. Loss:1.735\n",
      "best_acc:0.3658\n"
     ]
    },
    {
     "name": "stderr",
     "output_type": "stream",
     "text": [
      " 10%|█         | 2/20 [03:46<22:59, 76.63s/it]"
     ]
    },
    {
     "name": "stdout",
     "output_type": "stream",
     "text": [
      "[Epoch 3] Training accuracy: 0.3941. Loss: 1.698. LR 0.000976\n"
     ]
    },
    {
     "name": "stderr",
     "output_type": "stream",
     "text": [
      " 15%|█▌        | 3/20 [03:50<21:42, 76.61s/it]"
     ]
    },
    {
     "name": "stdout",
     "output_type": "stream",
     "text": [
      "[Epoch 3] Validation accuracy:0.3654. bacc:0.3371. Loss:1.720\n",
      "best_acc:0.3658\n"
     ]
    },
    {
     "name": "stderr",
     "output_type": "stream",
     "text": [
      " 15%|█▌        | 3/20 [05:03<21:42, 76.61s/it]"
     ]
    },
    {
     "name": "stdout",
     "output_type": "stream",
     "text": [
      "[Epoch 4] Training accuracy: 0.3939. Loss: 1.684. LR 0.000946\n"
     ]
    },
    {
     "name": "stderr",
     "output_type": "stream",
     "text": [
      " 20%|██        | 4/20 [05:06<20:27, 76.69s/it]"
     ]
    },
    {
     "name": "stdout",
     "output_type": "stream",
     "text": [
      "[Epoch 4] Validation accuracy:0.3608. bacc:0.3327. Loss:1.720\n",
      "best_acc:0.3658\n"
     ]
    },
    {
     "name": "stderr",
     "output_type": "stream",
     "text": [
      " 20%|██        | 4/20 [06:20<20:27, 76.69s/it]"
     ]
    },
    {
     "name": "stdout",
     "output_type": "stream",
     "text": [
      "[Epoch 5] Training accuracy: 0.3935. Loss: 1.679. LR 0.000905\n"
     ]
    },
    {
     "name": "stderr",
     "output_type": "stream",
     "text": [
      " 20%|██        | 4/20 [06:23<20:27, 76.69s/it]"
     ]
    },
    {
     "name": "stdout",
     "output_type": "stream",
     "text": [
      "[Epoch 5] Validation accuracy:0.3660. bacc:0.3377. Loss:1.716\n",
      "best_acc:0.366\n"
     ]
    },
    {
     "name": "stderr",
     "output_type": "stream",
     "text": [
      " 25%|██▌       | 5/20 [06:23<19:12, 76.80s/it]"
     ]
    },
    {
     "name": "stdout",
     "output_type": "stream",
     "text": [
      "Model saved in : ./checkpoints/faceDAN_aug.pth\n"
     ]
    },
    {
     "name": "stderr",
     "output_type": "stream",
     "text": [
      " 25%|██▌       | 5/20 [07:37<19:12, 76.80s/it]"
     ]
    },
    {
     "name": "stdout",
     "output_type": "stream",
     "text": [
      "[Epoch 6] Training accuracy: 0.3940. Loss: 1.677. LR 0.000855\n"
     ]
    },
    {
     "name": "stderr",
     "output_type": "stream",
     "text": [
      " 30%|███       | 6/20 [07:40<17:56, 76.87s/it]"
     ]
    },
    {
     "name": "stdout",
     "output_type": "stream",
     "text": [
      "[Epoch 6] Validation accuracy:0.3564. bacc:0.3296. Loss:1.719\n",
      "best_acc:0.366\n"
     ]
    },
    {
     "name": "stderr",
     "output_type": "stream",
     "text": [
      " 30%|███       | 6/20 [08:54<17:56, 76.87s/it]"
     ]
    },
    {
     "name": "stdout",
     "output_type": "stream",
     "text": [
      "[Epoch 7] Training accuracy: 0.3929. Loss: 1.675. LR 0.000796\n"
     ]
    },
    {
     "name": "stderr",
     "output_type": "stream",
     "text": [
      " 35%|███▌      | 7/20 [08:57<16:39, 76.87s/it]"
     ]
    },
    {
     "name": "stdout",
     "output_type": "stream",
     "text": [
      "[Epoch 7] Validation accuracy:0.3654. bacc:0.3371. Loss:1.713\n",
      "best_acc:0.366\n"
     ]
    },
    {
     "name": "stderr",
     "output_type": "stream",
     "text": [
      " 35%|███▌      | 7/20 [10:11<16:39, 76.87s/it]"
     ]
    },
    {
     "name": "stdout",
     "output_type": "stream",
     "text": [
      "[Epoch 8] Training accuracy: 0.3937. Loss: 1.674. LR 0.000730\n"
     ]
    },
    {
     "name": "stderr",
     "output_type": "stream",
     "text": [
      " 40%|████      | 8/20 [10:14<15:22, 76.87s/it]"
     ]
    },
    {
     "name": "stdout",
     "output_type": "stream",
     "text": [
      "[Epoch 8] Validation accuracy:0.3625. bacc:0.3344. Loss:1.720\n",
      "best_acc:0.366\n"
     ]
    },
    {
     "name": "stderr",
     "output_type": "stream",
     "text": [
      " 40%|████      | 8/20 [11:28<15:22, 76.87s/it]"
     ]
    },
    {
     "name": "stdout",
     "output_type": "stream",
     "text": [
      "[Epoch 9] Training accuracy: 0.3932. Loss: 1.673. LR 0.000658\n"
     ]
    },
    {
     "name": "stderr",
     "output_type": "stream",
     "text": [
      " 45%|████▌     | 9/20 [11:31<14:06, 76.92s/it]"
     ]
    },
    {
     "name": "stdout",
     "output_type": "stream",
     "text": [
      "[Epoch 9] Validation accuracy:0.3615. bacc:0.3334. Loss:1.720\n",
      "best_acc:0.366\n"
     ]
    },
    {
     "name": "stderr",
     "output_type": "stream",
     "text": [
      " 45%|████▌     | 9/20 [12:45<14:06, 76.92s/it]"
     ]
    },
    {
     "name": "stdout",
     "output_type": "stream",
     "text": [
      "[Epoch 10] Training accuracy: 0.3946. Loss: 1.673. LR 0.000582\n"
     ]
    },
    {
     "name": "stderr",
     "output_type": "stream",
     "text": [
      " 50%|█████     | 10/20 [12:48<12:49, 76.96s/it]"
     ]
    },
    {
     "name": "stdout",
     "output_type": "stream",
     "text": [
      "[Epoch 10] Validation accuracy:0.3612. bacc:0.3337. Loss:1.712\n",
      "best_acc:0.366\n"
     ]
    },
    {
     "name": "stderr",
     "output_type": "stream",
     "text": [
      " 50%|█████     | 10/20 [14:02<12:49, 76.96s/it]"
     ]
    },
    {
     "name": "stdout",
     "output_type": "stream",
     "text": [
      "[Epoch 11] Training accuracy: 0.3972. Loss: 1.672. LR 0.000505\n"
     ]
    },
    {
     "name": "stderr",
     "output_type": "stream",
     "text": [
      " 50%|█████     | 10/20 [14:05<12:49, 76.96s/it]"
     ]
    },
    {
     "name": "stdout",
     "output_type": "stream",
     "text": [
      "[Epoch 11] Validation accuracy:0.3713. bacc:0.3428. Loss:1.723\n",
      "best_acc:0.3713\n"
     ]
    },
    {
     "name": "stderr",
     "output_type": "stream",
     "text": [
      " 55%|█████▌    | 11/20 [14:05<11:33, 77.05s/it]"
     ]
    },
    {
     "name": "stdout",
     "output_type": "stream",
     "text": [
      "Model saved in : ./checkpoints/faceDAN_aug.pth\n"
     ]
    },
    {
     "name": "stderr",
     "output_type": "stream",
     "text": [
      " 55%|█████▌    | 11/20 [15:19<11:33, 77.05s/it]"
     ]
    },
    {
     "name": "stdout",
     "output_type": "stream",
     "text": [
      "[Epoch 12] Training accuracy: 0.3975. Loss: 1.670. LR 0.000428\n"
     ]
    },
    {
     "name": "stderr",
     "output_type": "stream",
     "text": [
      " 60%|██████    | 12/20 [15:22<10:15, 76.99s/it]"
     ]
    },
    {
     "name": "stdout",
     "output_type": "stream",
     "text": [
      "[Epoch 12] Validation accuracy:0.3578. bacc:0.3301. Loss:1.723\n",
      "best_acc:0.3713\n"
     ]
    },
    {
     "name": "stderr",
     "output_type": "stream",
     "text": [
      " 60%|██████    | 12/20 [16:36<10:15, 76.99s/it]"
     ]
    },
    {
     "name": "stdout",
     "output_type": "stream",
     "text": [
      "[Epoch 13] Training accuracy: 0.3972. Loss: 1.669. LR 0.000352\n"
     ]
    },
    {
     "name": "stderr",
     "output_type": "stream",
     "text": [
      " 65%|██████▌   | 13/20 [16:39<08:58, 76.90s/it]"
     ]
    },
    {
     "name": "stdout",
     "output_type": "stream",
     "text": [
      "[Epoch 13] Validation accuracy:0.3564. bacc:0.3296. Loss:1.719\n",
      "best_acc:0.3713\n"
     ]
    },
    {
     "name": "stderr",
     "output_type": "stream",
     "text": [
      " 65%|██████▌   | 13/20 [17:52<08:58, 76.90s/it]"
     ]
    },
    {
     "name": "stdout",
     "output_type": "stream",
     "text": [
      "[Epoch 14] Training accuracy: 0.4013. Loss: 1.667. LR 0.000280\n"
     ]
    },
    {
     "name": "stderr",
     "output_type": "stream",
     "text": [
      " 70%|███████   | 14/20 [17:56<07:41, 76.87s/it]"
     ]
    },
    {
     "name": "stdout",
     "output_type": "stream",
     "text": [
      "[Epoch 14] Validation accuracy:0.3586. bacc:0.3326. Loss:1.722\n",
      "best_acc:0.3713\n"
     ]
    },
    {
     "name": "stderr",
     "output_type": "stream",
     "text": [
      " 70%|███████   | 14/20 [19:09<07:41, 76.87s/it]"
     ]
    },
    {
     "name": "stdout",
     "output_type": "stream",
     "text": [
      "[Epoch 15] Training accuracy: 0.4040. Loss: 1.665. LR 0.000214\n"
     ]
    },
    {
     "name": "stderr",
     "output_type": "stream",
     "text": [
      " 75%|███████▌  | 15/20 [19:13<06:24, 76.88s/it]"
     ]
    },
    {
     "name": "stdout",
     "output_type": "stream",
     "text": [
      "[Epoch 15] Validation accuracy:0.3628. bacc:0.3379. Loss:1.719\n",
      "best_acc:0.3713\n"
     ]
    },
    {
     "name": "stderr",
     "output_type": "stream",
     "text": [
      " 75%|███████▌  | 15/20 [20:26<06:24, 76.88s/it]"
     ]
    },
    {
     "name": "stdout",
     "output_type": "stream",
     "text": [
      "[Epoch 16] Training accuracy: 0.4060. Loss: 1.663. LR 0.000155\n"
     ]
    },
    {
     "name": "stderr",
     "output_type": "stream",
     "text": [
      " 80%|████████  | 16/20 [20:29<05:07, 76.85s/it]"
     ]
    },
    {
     "name": "stdout",
     "output_type": "stream",
     "text": [
      "[Epoch 16] Validation accuracy:0.3571. bacc:0.3369. Loss:1.727\n",
      "best_acc:0.3713\n"
     ]
    },
    {
     "name": "stderr",
     "output_type": "stream",
     "text": [
      " 80%|████████  | 16/20 [21:43<05:07, 76.85s/it]"
     ]
    },
    {
     "name": "stdout",
     "output_type": "stream",
     "text": [
      "[Epoch 17] Training accuracy: 0.4097. Loss: 1.658. LR 0.000105\n"
     ]
    },
    {
     "name": "stderr",
     "output_type": "stream",
     "text": [
      " 85%|████████▌ | 17/20 [21:46<03:50, 76.88s/it]"
     ]
    },
    {
     "name": "stdout",
     "output_type": "stream",
     "text": [
      "[Epoch 17] Validation accuracy:0.3673. bacc:0.3418. Loss:1.727\n",
      "best_acc:0.3713\n"
     ]
    },
    {
     "name": "stderr",
     "output_type": "stream",
     "text": [
      " 85%|████████▌ | 17/20 [23:00<03:50, 76.88s/it]"
     ]
    },
    {
     "name": "stdout",
     "output_type": "stream",
     "text": [
      "[Epoch 18] Training accuracy: 0.4153. Loss: 1.654. LR 0.000064\n"
     ]
    },
    {
     "name": "stderr",
     "output_type": "stream",
     "text": [
      " 90%|█████████ | 18/20 [23:03<02:33, 76.87s/it]"
     ]
    },
    {
     "name": "stdout",
     "output_type": "stream",
     "text": [
      "[Epoch 18] Validation accuracy:0.3615. bacc:0.3402. Loss:1.727\n",
      "best_acc:0.3713\n"
     ]
    },
    {
     "name": "stderr",
     "output_type": "stream",
     "text": [
      " 90%|█████████ | 18/20 [24:17<02:33, 76.87s/it]"
     ]
    },
    {
     "name": "stdout",
     "output_type": "stream",
     "text": [
      "[Epoch 19] Training accuracy: 0.4168. Loss: 1.651. LR 0.000034\n"
     ]
    },
    {
     "name": "stderr",
     "output_type": "stream",
     "text": [
      " 95%|█████████▌| 19/20 [24:20<01:16, 76.83s/it]"
     ]
    },
    {
     "name": "stdout",
     "output_type": "stream",
     "text": [
      "[Epoch 19] Validation accuracy:0.3667. bacc:0.3452. Loss:1.728\n",
      "best_acc:0.3713\n"
     ]
    },
    {
     "name": "stderr",
     "output_type": "stream",
     "text": [
      " 95%|█████████▌| 19/20 [25:34<01:16, 76.83s/it]"
     ]
    },
    {
     "name": "stdout",
     "output_type": "stream",
     "text": [
      "[Epoch 20] Training accuracy: 0.4225. Loss: 1.648. LR 0.000016\n"
     ]
    },
    {
     "name": "stderr",
     "output_type": "stream",
     "text": [
      "100%|██████████| 20/20 [25:37<00:00, 76.86s/it]"
     ]
    },
    {
     "name": "stdout",
     "output_type": "stream",
     "text": [
      "[Epoch 20] Validation accuracy:0.3601. bacc:0.3390. Loss:1.730\n",
      "best_acc:0.3713\n"
     ]
    },
    {
     "name": "stderr",
     "output_type": "stream",
     "text": [
      "\n"
     ]
    }
   ],
   "source": [
    "faceSentiment.train(batch_size=128, lr=1.e-3, epochs=20, augmentation=['diffeo', 'color', 'filt'],\\\n",
    "                     workers=2, num_head=4, Facedataset_path='.',\\\n",
    "                        model_path=os.path.join(root_dir,\"checkpoints\"))"
   ]
  },
  {
   "cell_type": "code",
   "execution_count": 14,
   "metadata": {},
   "outputs": [
    {
     "name": "stdout",
     "output_type": "stream",
     "text": [
      "Test set size: 5067\n"
     ]
    },
    {
     "name": "stderr",
     "output_type": "stream",
     "text": [
      "100%|██████████| 40/40 [00:26<00:00,  1.49it/s]"
     ]
    },
    {
     "name": "stdout",
     "output_type": "stream",
     "text": [
      "test accuracy:0.4198. bacc:0.3386. Loss:2.476\n",
      "best_acc:0.4198\n"
     ]
    },
    {
     "name": "stderr",
     "output_type": "stream",
     "text": [
      "\n"
     ]
    }
   ],
   "source": [
    "y_true, y_pred = ModelPip.test(batch_size=128, workers=2, num_head=4, Facedataset_path='.',\\\n",
    "                               DAN_path=os.path.join(root_dir,\"checkpoints\",\"faceDAN_aug.pth\"),\\\n",
    "                               mixFace_path=os.path.join(root_dir,\"checkpoints\",\"facePipModel.pth\"))"
   ]
  },
  {
   "cell_type": "code",
   "execution_count": 15,
   "metadata": {},
   "outputs": [
    {
     "name": "stdout",
     "output_type": "stream",
     "text": [
      "              precision    recall  f1-score   support\n",
      "\n",
      "     neutral       0.28      0.06      0.10      1298\n",
      "    negative       0.43      0.93      0.59      2163\n",
      "    positive       0.32      0.03      0.05      1606\n",
      "\n",
      "    accuracy                           0.42      5067\n",
      "   macro avg       0.34      0.34      0.25      5067\n",
      "weighted avg       0.36      0.42      0.29      5067\n",
      "\n"
     ]
    }
   ],
   "source": [
    "print(classification_report(y_true=y_true, y_pred=y_pred, target_names=['neutral','negative','positive']))"
   ]
  },
  {
   "cell_type": "code",
   "execution_count": 16,
   "metadata": {},
   "outputs": [
    {
     "data": {
      "image/png": "[encoded data removed]",
      "text/plain": [
       "<Figure size 640x480 with 2 Axes>"
      ]
     },
     "metadata": {},
     "output_type": "display_data"
    }
   ],
   "source": [
    "cf_matrix = confusion_matrix(y_true=y_true, y_pred=y_pred)\n",
    "\n",
    "sb.heatmap(cf_matrix,\n",
    "           annot=True,\n",
    "           fmt='d',\n",
    "           cmap='viridis',\n",
    "           xticklabels=['neutral','negative','positive'],\n",
    "           yticklabels=['neutral','negative','positive'])\n",
    "plt.xlabel('Predicted label')\n",
    "plt.ylabel('True label')\n",
    "plt.show()"
   ]
  },
  {
   "attachments": {},
   "cell_type": "markdown",
   "metadata": {},
   "source": [
    "> ANALYSIS ???????????????????????????"
   ]
  },
  {
   "attachments": {},
   "cell_type": "markdown",
   "metadata": {},
   "source": [
    "# B) Sentiment anlysis with image's feature"
   ]
  },
  {
   "cell_type": "code",
   "execution_count": 17,
   "metadata": {},
   "outputs": [],
   "source": [
    "import torch\n",
    "import torch.nn as nn\n",
    "from torch.utils.data import Dataset, DataLoader\n",
    "from torchvision.models import resnet50, ResNet50_Weights\n",
    "from torchsummary import summary"
   ]
  },
  {
   "cell_type": "code",
   "execution_count": 18,
   "metadata": {},
   "outputs": [
    {
     "name": "stdout",
     "output_type": "stream",
     "text": [
      "cuda\n"
     ]
    }
   ],
   "source": [
    "device = \"cuda\" if torch.cuda.is_available() else \"cpu\"\n",
    "print(device)"
   ]
  },
  {
   "cell_type": "code",
   "execution_count": 32,
   "metadata": {},
   "outputs": [],
   "source": [
    "training_data.transformer = Compose([ToTensor(), Resize((224,224))])\n",
    "valid_data.transformer = Compose([ToTensor(), Resize((224,224))])\n",
    "test_data.transformer = Compose([ToTensor(), Resize((224,224))])"
   ]
  },
  {
   "cell_type": "code",
   "execution_count": 33,
   "metadata": {},
   "outputs": [],
   "source": [
    "batch_size = 128\n",
    "train_dataloader = DataLoader(training_data, batch_size=batch_size, shuffle=True)\n",
    "valid_dataloader = DataLoader(valid_data, batch_size=batch_size, shuffle=True)\n",
    "test_dataloader = DataLoader(test_data, batch_size=batch_size, shuffle=True)"
   ]
  },
  {
   "cell_type": "code",
   "execution_count": 34,
   "metadata": {},
   "outputs": [
    {
     "data": {
      "text/plain": [
       "ResNet(\n",
       "  (conv1): Conv2d(3, 64, kernel_size=(7, 7), stride=(2, 2), padding=(3, 3), bias=False)\n",
       "  (bn1): BatchNorm2d(64, eps=1e-05, momentum=0.1, affine=True, track_running_stats=True)\n",
       "  (relu): ReLU(inplace=True)\n",
       "  (maxpool): MaxPool2d(kernel_size=3, stride=2, padding=1, dilation=1, ceil_mode=False)\n",
       "  (layer1): Sequential(\n",
       "    (0): Bottleneck(\n",
       "      (conv1): Conv2d(64, 64, kernel_size=(1, 1), stride=(1, 1), bias=False)\n",
       "      (bn1): BatchNorm2d(64, eps=1e-05, momentum=0.1, affine=True, track_running_stats=True)\n",
       "      (conv2): Conv2d(64, 64, kernel_size=(3, 3), stride=(1, 1), padding=(1, 1), bias=False)\n",
       "      (bn2): BatchNorm2d(64, eps=1e-05, momentum=0.1, affine=True, track_running_stats=True)\n",
       "      (conv3): Conv2d(64, 256, kernel_size=(1, 1), stride=(1, 1), bias=False)\n",
       "      (bn3): BatchNorm2d(256, eps=1e-05, momentum=0.1, affine=True, track_running_stats=True)\n",
       "      (relu): ReLU(inplace=True)\n",
       "      (downsample): Sequential(\n",
       "        (0): Conv2d(64, 256, kernel_size=(1, 1), stride=(1, 1), bias=False)\n",
       "        (1): BatchNorm2d(256, eps=1e-05, momentum=0.1, affine=True, track_running_stats=True)\n",
       "      )\n",
       "    )\n",
       "    (1): Bottleneck(\n",
       "      (conv1): Conv2d(256, 64, kernel_size=(1, 1), stride=(1, 1), bias=False)\n",
       "      (bn1): BatchNorm2d(64, eps=1e-05, momentum=0.1, affine=True, track_running_stats=True)\n",
       "      (conv2): Conv2d(64, 64, kernel_size=(3, 3), stride=(1, 1), padding=(1, 1), bias=False)\n",
       "      (bn2): BatchNorm2d(64, eps=1e-05, momentum=0.1, affine=True, track_running_stats=True)\n",
       "      (conv3): Conv2d(64, 256, kernel_size=(1, 1), stride=(1, 1), bias=False)\n",
       "      (bn3): BatchNorm2d(256, eps=1e-05, momentum=0.1, affine=True, track_running_stats=True)\n",
       "      (relu): ReLU(inplace=True)\n",
       "    )\n",
       "    (2): Bottleneck(\n",
       "      (conv1): Conv2d(256, 64, kernel_size=(1, 1), stride=(1, 1), bias=False)\n",
       "      (bn1): BatchNorm2d(64, eps=1e-05, momentum=0.1, affine=True, track_running_stats=True)\n",
       "      (conv2): Conv2d(64, 64, kernel_size=(3, 3), stride=(1, 1), padding=(1, 1), bias=False)\n",
       "      (bn2): BatchNorm2d(64, eps=1e-05, momentum=0.1, affine=True, track_running_stats=True)\n",
       "      (conv3): Conv2d(64, 256, kernel_size=(1, 1), stride=(1, 1), bias=False)\n",
       "      (bn3): BatchNorm2d(256, eps=1e-05, momentum=0.1, affine=True, track_running_stats=True)\n",
       "      (relu): ReLU(inplace=True)\n",
       "    )\n",
       "  )\n",
       "  (layer2): Sequential(\n",
       "    (0): Bottleneck(\n",
       "      (conv1): Conv2d(256, 128, kernel_size=(1, 1), stride=(1, 1), bias=False)\n",
       "      (bn1): BatchNorm2d(128, eps=1e-05, momentum=0.1, affine=True, track_running_stats=True)\n",
       "      (conv2): Conv2d(128, 128, kernel_size=(3, 3), stride=(2, 2), padding=(1, 1), bias=False)\n",
       "      (bn2): BatchNorm2d(128, eps=1e-05, momentum=0.1, affine=True, track_running_stats=True)\n",
       "      (conv3): Conv2d(128, 512, kernel_size=(1, 1), stride=(1, 1), bias=False)\n",
       "      (bn3): BatchNorm2d(512, eps=1e-05, momentum=0.1, affine=True, track_running_stats=True)\n",
       "      (relu): ReLU(inplace=True)\n",
       "      (downsample): Sequential(\n",
       "        (0): Conv2d(256, 512, kernel_size=(1, 1), stride=(2, 2), bias=False)\n",
       "        (1): BatchNorm2d(512, eps=1e-05, momentum=0.1, affine=True, track_running_stats=True)\n",
       "      )\n",
       "    )\n",
       "    (1): Bottleneck(\n",
       "      (conv1): Conv2d(512, 128, kernel_size=(1, 1), stride=(1, 1), bias=False)\n",
       "      (bn1): BatchNorm2d(128, eps=1e-05, momentum=0.1, affine=True, track_running_stats=True)\n",
       "      (conv2): Conv2d(128, 128, kernel_size=(3, 3), stride=(1, 1), padding=(1, 1), bias=False)\n",
       "      (bn2): BatchNorm2d(128, eps=1e-05, momentum=0.1, affine=True, track_running_stats=True)\n",
       "      (conv3): Conv2d(128, 512, kernel_size=(1, 1), stride=(1, 1), bias=False)\n",
       "      (bn3): BatchNorm2d(512, eps=1e-05, momentum=0.1, affine=True, track_running_stats=True)\n",
       "      (relu): ReLU(inplace=True)\n",
       "    )\n",
       "    (2): Bottleneck(\n",
       "      (conv1): Conv2d(512, 128, kernel_size=(1, 1), stride=(1, 1), bias=False)\n",
       "      (bn1): BatchNorm2d(128, eps=1e-05, momentum=0.1, affine=True, track_running_stats=True)\n",
       "      (conv2): Conv2d(128, 128, kernel_size=(3, 3), stride=(1, 1), padding=(1, 1), bias=False)\n",
       "      (bn2): BatchNorm2d(128, eps=1e-05, momentum=0.1, affine=True, track_running_stats=True)\n",
       "      (conv3): Conv2d(128, 512, kernel_size=(1, 1), stride=(1, 1), bias=False)\n",
       "      (bn3): BatchNorm2d(512, eps=1e-05, momentum=0.1, affine=True, track_running_stats=True)\n",
       "      (relu): ReLU(inplace=True)\n",
       "    )\n",
       "    (3): Bottleneck(\n",
       "      (conv1): Conv2d(512, 128, kernel_size=(1, 1), stride=(1, 1), bias=False)\n",
       "      (bn1): BatchNorm2d(128, eps=1e-05, momentum=0.1, affine=True, track_running_stats=True)\n",
       "      (conv2): Conv2d(128, 128, kernel_size=(3, 3), stride=(1, 1), padding=(1, 1), bias=False)\n",
       "      (bn2): BatchNorm2d(128, eps=1e-05, momentum=0.1, affine=True, track_running_stats=True)\n",
       "      (conv3): Conv2d(128, 512, kernel_size=(1, 1), stride=(1, 1), bias=False)\n",
       "      (bn3): BatchNorm2d(512, eps=1e-05, momentum=0.1, affine=True, track_running_stats=True)\n",
       "      (relu): ReLU(inplace=True)\n",
       "    )\n",
       "  )\n",
       "  (layer3): Sequential(\n",
       "    (0): Bottleneck(\n",
       "      (conv1): Conv2d(512, 256, kernel_size=(1, 1), stride=(1, 1), bias=False)\n",
       "      (bn1): BatchNorm2d(256, eps=1e-05, momentum=0.1, affine=True, track_running_stats=True)\n",
       "      (conv2): Conv2d(256, 256, kernel_size=(3, 3), stride=(2, 2), padding=(1, 1), bias=False)\n",
       "      (bn2): BatchNorm2d(256, eps=1e-05, momentum=0.1, affine=True, track_running_stats=True)\n",
       "      (conv3): Conv2d(256, 1024, kernel_size=(1, 1), stride=(1, 1), bias=False)\n",
       "      (bn3): BatchNorm2d(1024, eps=1e-05, momentum=0.1, affine=True, track_running_stats=True)\n",
       "      (relu): ReLU(inplace=True)\n",
       "      (downsample): Sequential(\n",
       "        (0): Conv2d(512, 1024, kernel_size=(1, 1), stride=(2, 2), bias=False)\n",
       "        (1): BatchNorm2d(1024, eps=1e-05, momentum=0.1, affine=True, track_running_stats=True)\n",
       "      )\n",
       "    )\n",
       "    (1): Bottleneck(\n",
       "      (conv1): Conv2d(1024, 256, kernel_size=(1, 1), stride=(1, 1), bias=False)\n",
       "      (bn1): BatchNorm2d(256, eps=1e-05, momentum=0.1, affine=True, track_running_stats=True)\n",
       "      (conv2): Conv2d(256, 256, kernel_size=(3, 3), stride=(1, 1), padding=(1, 1), bias=False)\n",
       "      (bn2): BatchNorm2d(256, eps=1e-05, momentum=0.1, affine=True, track_running_stats=True)\n",
       "      (conv3): Conv2d(256, 1024, kernel_size=(1, 1), stride=(1, 1), bias=False)\n",
       "      (bn3): BatchNorm2d(1024, eps=1e-05, momentum=0.1, affine=True, track_running_stats=True)\n",
       "      (relu): ReLU(inplace=True)\n",
       "    )\n",
       "    (2): Bottleneck(\n",
       "      (conv1): Conv2d(1024, 256, kernel_size=(1, 1), stride=(1, 1), bias=False)\n",
       "      (bn1): BatchNorm2d(256, eps=1e-05, momentum=0.1, affine=True, track_running_stats=True)\n",
       "      (conv2): Conv2d(256, 256, kernel_size=(3, 3), stride=(1, 1), padding=(1, 1), bias=False)\n",
       "      (bn2): BatchNorm2d(256, eps=1e-05, momentum=0.1, affine=True, track_running_stats=True)\n",
       "      (conv3): Conv2d(256, 1024, kernel_size=(1, 1), stride=(1, 1), bias=False)\n",
       "      (bn3): BatchNorm2d(1024, eps=1e-05, momentum=0.1, affine=True, track_running_stats=True)\n",
       "      (relu): ReLU(inplace=True)\n",
       "    )\n",
       "    (3): Bottleneck(\n",
       "      (conv1): Conv2d(1024, 256, kernel_size=(1, 1), stride=(1, 1), bias=False)\n",
       "      (bn1): BatchNorm2d(256, eps=1e-05, momentum=0.1, affine=True, track_running_stats=True)\n",
       "      (conv2): Conv2d(256, 256, kernel_size=(3, 3), stride=(1, 1), padding=(1, 1), bias=False)\n",
       "      (bn2): BatchNorm2d(256, eps=1e-05, momentum=0.1, affine=True, track_running_stats=True)\n",
       "      (conv3): Conv2d(256, 1024, kernel_size=(1, 1), stride=(1, 1), bias=False)\n",
       "      (bn3): BatchNorm2d(1024, eps=1e-05, momentum=0.1, affine=True, track_running_stats=True)\n",
       "      (relu): ReLU(inplace=True)\n",
       "    )\n",
       "    (4): Bottleneck(\n",
       "      (conv1): Conv2d(1024, 256, kernel_size=(1, 1), stride=(1, 1), bias=False)\n",
       "      (bn1): BatchNorm2d(256, eps=1e-05, momentum=0.1, affine=True, track_running_stats=True)\n",
       "      (conv2): Conv2d(256, 256, kernel_size=(3, 3), stride=(1, 1), padding=(1, 1), bias=False)\n",
       "      (bn2): BatchNorm2d(256, eps=1e-05, momentum=0.1, affine=True, track_running_stats=True)\n",
       "      (conv3): Conv2d(256, 1024, kernel_size=(1, 1), stride=(1, 1), bias=False)\n",
       "      (bn3): BatchNorm2d(1024, eps=1e-05, momentum=0.1, affine=True, track_running_stats=True)\n",
       "      (relu): ReLU(inplace=True)\n",
       "    )\n",
       "    (5): Bottleneck(\n",
       "      (conv1): Conv2d(1024, 256, kernel_size=(1, 1), stride=(1, 1), bias=False)\n",
       "      (bn1): BatchNorm2d(256, eps=1e-05, momentum=0.1, affine=True, track_running_stats=True)\n",
       "      (conv2): Conv2d(256, 256, kernel_size=(3, 3), stride=(1, 1), padding=(1, 1), bias=False)\n",
       "      (bn2): BatchNorm2d(256, eps=1e-05, momentum=0.1, affine=True, track_running_stats=True)\n",
       "      (conv3): Conv2d(256, 1024, kernel_size=(1, 1), stride=(1, 1), bias=False)\n",
       "      (bn3): BatchNorm2d(1024, eps=1e-05, momentum=0.1, affine=True, track_running_stats=True)\n",
       "      (relu): ReLU(inplace=True)\n",
       "    )\n",
       "  )\n",
       "  (layer4): Sequential(\n",
       "    (0): Bottleneck(\n",
       "      (conv1): Conv2d(1024, 512, kernel_size=(1, 1), stride=(1, 1), bias=False)\n",
       "      (bn1): BatchNorm2d(512, eps=1e-05, momentum=0.1, affine=True, track_running_stats=True)\n",
       "      (conv2): Conv2d(512, 512, kernel_size=(3, 3), stride=(2, 2), padding=(1, 1), bias=False)\n",
       "      (bn2): BatchNorm2d(512, eps=1e-05, momentum=0.1, affine=True, track_running_stats=True)\n",
       "      (conv3): Conv2d(512, 2048, kernel_size=(1, 1), stride=(1, 1), bias=False)\n",
       "      (bn3): BatchNorm2d(2048, eps=1e-05, momentum=0.1, affine=True, track_running_stats=True)\n",
       "      (relu): ReLU(inplace=True)\n",
       "      (downsample): Sequential(\n",
       "        (0): Conv2d(1024, 2048, kernel_size=(1, 1), stride=(2, 2), bias=False)\n",
       "        (1): BatchNorm2d(2048, eps=1e-05, momentum=0.1, affine=True, track_running_stats=True)\n",
       "      )\n",
       "    )\n",
       "    (1): Bottleneck(\n",
       "      (conv1): Conv2d(2048, 512, kernel_size=(1, 1), stride=(1, 1), bias=False)\n",
       "      (bn1): BatchNorm2d(512, eps=1e-05, momentum=0.1, affine=True, track_running_stats=True)\n",
       "      (conv2): Conv2d(512, 512, kernel_size=(3, 3), stride=(1, 1), padding=(1, 1), bias=False)\n",
       "      (bn2): BatchNorm2d(512, eps=1e-05, momentum=0.1, affine=True, track_running_stats=True)\n",
       "      (conv3): Conv2d(512, 2048, kernel_size=(1, 1), stride=(1, 1), bias=False)\n",
       "      (bn3): BatchNorm2d(2048, eps=1e-05, momentum=0.1, affine=True, track_running_stats=True)\n",
       "      (relu): ReLU(inplace=True)\n",
       "    )\n",
       "    (2): Bottleneck(\n",
       "      (conv1): Conv2d(2048, 512, kernel_size=(1, 1), stride=(1, 1), bias=False)\n",
       "      (bn1): BatchNorm2d(512, eps=1e-05, momentum=0.1, affine=True, track_running_stats=True)\n",
       "      (conv2): Conv2d(512, 512, kernel_size=(3, 3), stride=(1, 1), padding=(1, 1), bias=False)\n",
       "      (bn2): BatchNorm2d(512, eps=1e-05, momentum=0.1, affine=True, track_running_stats=True)\n",
       "      (conv3): Conv2d(512, 2048, kernel_size=(1, 1), stride=(1, 1), bias=False)\n",
       "      (bn3): BatchNorm2d(2048, eps=1e-05, momentum=0.1, affine=True, track_running_stats=True)\n",
       "      (relu): ReLU(inplace=True)\n",
       "    )\n",
       "  )\n",
       "  (avgpool): AdaptiveAvgPool2d(output_size=(1, 1))\n",
       "  (fc): Linear(in_features=2048, out_features=1000, bias=True)\n",
       ")"
      ]
     },
     "execution_count": 34,
     "metadata": {},
     "output_type": "execute_result"
    }
   ],
   "source": [
    "weights = ResNet50_Weights.DEFAULT\n",
    "model = resnet50(weights=weights)\n",
    "model"
   ]
  },
  {
   "cell_type": "code",
   "execution_count": 35,
   "metadata": {},
   "outputs": [],
   "source": [
    "class MLP(nn.Module):\n",
    "    def __init__(self):\n",
    "        super(MLP, self).__init__()\n",
    "        self.linear_relu_stack = nn.Sequential(\n",
    "\n",
    "            nn.Linear(2048, 256),\n",
    "            nn.ReLU(),\n",
    "            nn.Dropout(0.5),\n",
    "\n",
    "            nn.Linear(256, 64),\n",
    "            nn.ReLU(),\n",
    "            nn.Dropout(0.5),\n",
    "            \n",
    "            nn.Linear(64, 16),\n",
    "            nn.ReLU(),\n",
    "            nn.Dropout(0.5),\n",
    "            \n",
    "            nn.Linear(16, 3),\n",
    "        )\n",
    "        \n",
    "    def forward(self, x):\n",
    "        logits = self.linear_relu_stack(x)\n",
    "        return logits"
   ]
  },
  {
   "cell_type": "code",
   "execution_count": 36,
   "metadata": {},
   "outputs": [],
   "source": [
    "model.fc = MLP()\n",
    "\n",
    "for param in model.parameters():\n",
    "    param.requires_grad = False\n",
    "\n",
    "for name, param in model.named_parameters():\n",
    "    if 'layer4' in name:\n",
    "        param.requires_grad = True\n",
    "    if 'fc' in name:\n",
    "        param.requires_grad = True\n",
    "\n",
    "# for name, param in model.named_parameters():\n",
    "#     print(name, param.requires_grad)"
   ]
  },
  {
   "cell_type": "code",
   "execution_count": 37,
   "metadata": {},
   "outputs": [
    {
     "name": "stdout",
     "output_type": "stream",
     "text": [
      "----------------------------------------------------------------\n",
      "        Layer (type)               Output Shape         Param #\n",
      "================================================================\n",
      "            Conv2d-1         [-1, 64, 112, 112]           9,408\n",
      "       BatchNorm2d-2         [-1, 64, 112, 112]             128\n",
      "              ReLU-3         [-1, 64, 112, 112]               0\n",
      "         MaxPool2d-4           [-1, 64, 56, 56]               0\n",
      "            Conv2d-5           [-1, 64, 56, 56]           4,096\n",
      "       BatchNorm2d-6           [-1, 64, 56, 56]             128\n",
      "              ReLU-7           [-1, 64, 56, 56]               0\n",
      "            Conv2d-8           [-1, 64, 56, 56]          36,864\n",
      "       BatchNorm2d-9           [-1, 64, 56, 56]             128\n",
      "             ReLU-10           [-1, 64, 56, 56]               0\n",
      "           Conv2d-11          [-1, 256, 56, 56]          16,384\n",
      "      BatchNorm2d-12          [-1, 256, 56, 56]             512\n",
      "           Conv2d-13          [-1, 256, 56, 56]          16,384\n",
      "      BatchNorm2d-14          [-1, 256, 56, 56]             512\n",
      "             ReLU-15          [-1, 256, 56, 56]               0\n",
      "       Bottleneck-16          [-1, 256, 56, 56]               0\n",
      "           Conv2d-17           [-1, 64, 56, 56]          16,384\n",
      "      BatchNorm2d-18           [-1, 64, 56, 56]             128\n",
      "             ReLU-19           [-1, 64, 56, 56]               0\n",
      "           Conv2d-20           [-1, 64, 56, 56]          36,864\n",
      "      BatchNorm2d-21           [-1, 64, 56, 56]             128\n",
      "             ReLU-22           [-1, 64, 56, 56]               0\n",
      "           Conv2d-23          [-1, 256, 56, 56]          16,384\n",
      "      BatchNorm2d-24          [-1, 256, 56, 56]             512\n",
      "             ReLU-25          [-1, 256, 56, 56]               0\n",
      "       Bottleneck-26          [-1, 256, 56, 56]               0\n",
      "           Conv2d-27           [-1, 64, 56, 56]          16,384\n",
      "      BatchNorm2d-28           [-1, 64, 56, 56]             128\n",
      "             ReLU-29           [-1, 64, 56, 56]               0\n",
      "           Conv2d-30           [-1, 64, 56, 56]          36,864\n",
      "      BatchNorm2d-31           [-1, 64, 56, 56]             128\n",
      "             ReLU-32           [-1, 64, 56, 56]               0\n",
      "           Conv2d-33          [-1, 256, 56, 56]          16,384\n",
      "      BatchNorm2d-34          [-1, 256, 56, 56]             512\n",
      "             ReLU-35          [-1, 256, 56, 56]               0\n",
      "       Bottleneck-36          [-1, 256, 56, 56]               0\n",
      "           Conv2d-37          [-1, 128, 56, 56]          32,768\n",
      "      BatchNorm2d-38          [-1, 128, 56, 56]             256\n",
      "             ReLU-39          [-1, 128, 56, 56]               0\n",
      "           Conv2d-40          [-1, 128, 28, 28]         147,456\n",
      "      BatchNorm2d-41          [-1, 128, 28, 28]             256\n",
      "             ReLU-42          [-1, 128, 28, 28]               0\n",
      "           Conv2d-43          [-1, 512, 28, 28]          65,536\n",
      "      BatchNorm2d-44          [-1, 512, 28, 28]           1,024\n",
      "           Conv2d-45          [-1, 512, 28, 28]         131,072\n",
      "      BatchNorm2d-46          [-1, 512, 28, 28]           1,024\n",
      "             ReLU-47          [-1, 512, 28, 28]               0\n",
      "       Bottleneck-48          [-1, 512, 28, 28]               0\n",
      "           Conv2d-49          [-1, 128, 28, 28]          65,536\n",
      "      BatchNorm2d-50          [-1, 128, 28, 28]             256\n",
      "             ReLU-51          [-1, 128, 28, 28]               0\n",
      "           Conv2d-52          [-1, 128, 28, 28]         147,456\n",
      "      BatchNorm2d-53          [-1, 128, 28, 28]             256\n",
      "             ReLU-54          [-1, 128, 28, 28]               0\n",
      "           Conv2d-55          [-1, 512, 28, 28]          65,536\n",
      "      BatchNorm2d-56          [-1, 512, 28, 28]           1,024\n",
      "             ReLU-57          [-1, 512, 28, 28]               0\n",
      "       Bottleneck-58          [-1, 512, 28, 28]               0\n",
      "           Conv2d-59          [-1, 128, 28, 28]          65,536\n",
      "      BatchNorm2d-60          [-1, 128, 28, 28]             256\n",
      "             ReLU-61          [-1, 128, 28, 28]               0\n",
      "           Conv2d-62          [-1, 128, 28, 28]         147,456\n",
      "      BatchNorm2d-63          [-1, 128, 28, 28]             256\n",
      "             ReLU-64          [-1, 128, 28, 28]               0\n",
      "           Conv2d-65          [-1, 512, 28, 28]          65,536\n",
      "      BatchNorm2d-66          [-1, 512, 28, 28]           1,024\n",
      "             ReLU-67          [-1, 512, 28, 28]               0\n",
      "       Bottleneck-68          [-1, 512, 28, 28]               0\n",
      "           Conv2d-69          [-1, 128, 28, 28]          65,536\n",
      "      BatchNorm2d-70          [-1, 128, 28, 28]             256\n",
      "             ReLU-71          [-1, 128, 28, 28]               0\n",
      "           Conv2d-72          [-1, 128, 28, 28]         147,456\n",
      "      BatchNorm2d-73          [-1, 128, 28, 28]             256\n",
      "             ReLU-74          [-1, 128, 28, 28]               0\n",
      "           Conv2d-75          [-1, 512, 28, 28]          65,536\n",
      "      BatchNorm2d-76          [-1, 512, 28, 28]           1,024\n",
      "             ReLU-77          [-1, 512, 28, 28]               0\n",
      "       Bottleneck-78          [-1, 512, 28, 28]               0\n",
      "           Conv2d-79          [-1, 256, 28, 28]         131,072\n",
      "      BatchNorm2d-80          [-1, 256, 28, 28]             512\n",
      "             ReLU-81          [-1, 256, 28, 28]               0\n",
      "           Conv2d-82          [-1, 256, 14, 14]         589,824\n",
      "      BatchNorm2d-83          [-1, 256, 14, 14]             512\n",
      "             ReLU-84          [-1, 256, 14, 14]               0\n",
      "           Conv2d-85         [-1, 1024, 14, 14]         262,144\n",
      "      BatchNorm2d-86         [-1, 1024, 14, 14]           2,048\n",
      "           Conv2d-87         [-1, 1024, 14, 14]         524,288\n",
      "      BatchNorm2d-88         [-1, 1024, 14, 14]           2,048\n",
      "             ReLU-89         [-1, 1024, 14, 14]               0\n",
      "       Bottleneck-90         [-1, 1024, 14, 14]               0\n",
      "           Conv2d-91          [-1, 256, 14, 14]         262,144\n",
      "      BatchNorm2d-92          [-1, 256, 14, 14]             512\n",
      "             ReLU-93          [-1, 256, 14, 14]               0\n",
      "           Conv2d-94          [-1, 256, 14, 14]         589,824\n",
      "      BatchNorm2d-95          [-1, 256, 14, 14]             512\n",
      "             ReLU-96          [-1, 256, 14, 14]               0\n",
      "           Conv2d-97         [-1, 1024, 14, 14]         262,144\n",
      "      BatchNorm2d-98         [-1, 1024, 14, 14]           2,048\n",
      "             ReLU-99         [-1, 1024, 14, 14]               0\n",
      "      Bottleneck-100         [-1, 1024, 14, 14]               0\n",
      "          Conv2d-101          [-1, 256, 14, 14]         262,144\n",
      "     BatchNorm2d-102          [-1, 256, 14, 14]             512\n",
      "            ReLU-103          [-1, 256, 14, 14]               0\n",
      "          Conv2d-104          [-1, 256, 14, 14]         589,824\n",
      "     BatchNorm2d-105          [-1, 256, 14, 14]             512\n",
      "            ReLU-106          [-1, 256, 14, 14]               0\n",
      "          Conv2d-107         [-1, 1024, 14, 14]         262,144\n",
      "     BatchNorm2d-108         [-1, 1024, 14, 14]           2,048\n",
      "            ReLU-109         [-1, 1024, 14, 14]               0\n",
      "      Bottleneck-110         [-1, 1024, 14, 14]               0\n",
      "          Conv2d-111          [-1, 256, 14, 14]         262,144\n",
      "     BatchNorm2d-112          [-1, 256, 14, 14]             512\n",
      "            ReLU-113          [-1, 256, 14, 14]               0\n",
      "          Conv2d-114          [-1, 256, 14, 14]         589,824\n",
      "     BatchNorm2d-115          [-1, 256, 14, 14]             512\n",
      "            ReLU-116          [-1, 256, 14, 14]               0\n",
      "          Conv2d-117         [-1, 1024, 14, 14]         262,144\n",
      "     BatchNorm2d-118         [-1, 1024, 14, 14]           2,048\n",
      "            ReLU-119         [-1, 1024, 14, 14]               0\n",
      "      Bottleneck-120         [-1, 1024, 14, 14]               0\n",
      "          Conv2d-121          [-1, 256, 14, 14]         262,144\n",
      "     BatchNorm2d-122          [-1, 256, 14, 14]             512\n",
      "            ReLU-123          [-1, 256, 14, 14]               0\n",
      "          Conv2d-124          [-1, 256, 14, 14]         589,824\n",
      "     BatchNorm2d-125          [-1, 256, 14, 14]             512\n",
      "            ReLU-126          [-1, 256, 14, 14]               0\n",
      "          Conv2d-127         [-1, 1024, 14, 14]         262,144\n",
      "     BatchNorm2d-128         [-1, 1024, 14, 14]           2,048\n",
      "            ReLU-129         [-1, 1024, 14, 14]               0\n",
      "      Bottleneck-130         [-1, 1024, 14, 14]               0\n",
      "          Conv2d-131          [-1, 256, 14, 14]         262,144\n",
      "     BatchNorm2d-132          [-1, 256, 14, 14]             512\n",
      "            ReLU-133          [-1, 256, 14, 14]               0\n",
      "          Conv2d-134          [-1, 256, 14, 14]         589,824\n",
      "     BatchNorm2d-135          [-1, 256, 14, 14]             512\n",
      "            ReLU-136          [-1, 256, 14, 14]               0\n",
      "          Conv2d-137         [-1, 1024, 14, 14]         262,144\n",
      "     BatchNorm2d-138         [-1, 1024, 14, 14]           2,048\n",
      "            ReLU-139         [-1, 1024, 14, 14]               0\n",
      "      Bottleneck-140         [-1, 1024, 14, 14]               0\n",
      "          Conv2d-141          [-1, 512, 14, 14]         524,288\n",
      "     BatchNorm2d-142          [-1, 512, 14, 14]           1,024\n",
      "            ReLU-143          [-1, 512, 14, 14]               0\n",
      "          Conv2d-144            [-1, 512, 7, 7]       2,359,296\n",
      "     BatchNorm2d-145            [-1, 512, 7, 7]           1,024\n",
      "            ReLU-146            [-1, 512, 7, 7]               0\n",
      "          Conv2d-147           [-1, 2048, 7, 7]       1,048,576\n",
      "     BatchNorm2d-148           [-1, 2048, 7, 7]           4,096\n",
      "          Conv2d-149           [-1, 2048, 7, 7]       2,097,152\n",
      "     BatchNorm2d-150           [-1, 2048, 7, 7]           4,096\n",
      "            ReLU-151           [-1, 2048, 7, 7]               0\n",
      "      Bottleneck-152           [-1, 2048, 7, 7]               0\n",
      "          Conv2d-153            [-1, 512, 7, 7]       1,048,576\n",
      "     BatchNorm2d-154            [-1, 512, 7, 7]           1,024\n",
      "            ReLU-155            [-1, 512, 7, 7]               0\n",
      "          Conv2d-156            [-1, 512, 7, 7]       2,359,296\n",
      "     BatchNorm2d-157            [-1, 512, 7, 7]           1,024\n",
      "            ReLU-158            [-1, 512, 7, 7]               0\n",
      "          Conv2d-159           [-1, 2048, 7, 7]       1,048,576\n",
      "     BatchNorm2d-160           [-1, 2048, 7, 7]           4,096\n",
      "            ReLU-161           [-1, 2048, 7, 7]               0\n",
      "      Bottleneck-162           [-1, 2048, 7, 7]               0\n",
      "          Conv2d-163            [-1, 512, 7, 7]       1,048,576\n",
      "     BatchNorm2d-164            [-1, 512, 7, 7]           1,024\n",
      "            ReLU-165            [-1, 512, 7, 7]               0\n",
      "          Conv2d-166            [-1, 512, 7, 7]       2,359,296\n",
      "     BatchNorm2d-167            [-1, 512, 7, 7]           1,024\n",
      "            ReLU-168            [-1, 512, 7, 7]               0\n",
      "          Conv2d-169           [-1, 2048, 7, 7]       1,048,576\n",
      "     BatchNorm2d-170           [-1, 2048, 7, 7]           4,096\n",
      "            ReLU-171           [-1, 2048, 7, 7]               0\n",
      "      Bottleneck-172           [-1, 2048, 7, 7]               0\n",
      "AdaptiveAvgPool2d-173           [-1, 2048, 1, 1]               0\n",
      "          Linear-174                  [-1, 256]         524,544\n",
      "            ReLU-175                  [-1, 256]               0\n",
      "         Dropout-176                  [-1, 256]               0\n",
      "          Linear-177                   [-1, 64]          16,448\n",
      "            ReLU-178                   [-1, 64]               0\n",
      "         Dropout-179                   [-1, 64]               0\n",
      "          Linear-180                   [-1, 16]           1,040\n",
      "            ReLU-181                   [-1, 16]               0\n",
      "         Dropout-182                   [-1, 16]               0\n",
      "          Linear-183                    [-1, 3]              51\n",
      "             MLP-184                    [-1, 3]               0\n",
      "================================================================\n",
      "Total params: 24,050,115\n",
      "Trainable params: 15,506,819\n",
      "Non-trainable params: 8,543,296\n",
      "----------------------------------------------------------------\n",
      "Input size (MB): 0.57\n",
      "Forward/backward pass size (MB): 286.56\n",
      "Params size (MB): 91.74\n",
      "Estimated Total Size (MB): 378.88\n",
      "----------------------------------------------------------------\n"
     ]
    }
   ],
   "source": [
    "model.to(device)\n",
    "summary(model,(3,224,224))"
   ]
  },
  {
   "cell_type": "code",
   "execution_count": 38,
   "metadata": {},
   "outputs": [],
   "source": [
    "learning_rate = 1e-3\n",
    "\n",
    "loss_fn = nn.CrossEntropyLoss()\n",
    "optimizer = torch.optim.Adam(model.parameters(), lr=learning_rate)"
   ]
  },
  {
   "cell_type": "code",
   "execution_count": 39,
   "metadata": {},
   "outputs": [],
   "source": [
    "from tqdm import tqdm\n",
    "def train_loop(epoch, dataloader, model, loss_fn, optimizer):\n",
    "    size = len(dataloader.dataset)\n",
    "    avgLoss = 0\n",
    "    avgCorrect = 0\n",
    "    model.train()\n",
    "    with tqdm(dataloader, unit=\"batch\") as tepoch:\n",
    "        for  (X, text, y, idx) in tepoch:\n",
    "            tepoch.set_description(f\"Epoch {epoch+1}\")\n",
    "            # Compute prediction and loss\n",
    "            size_batch = X[0].shape[0]\n",
    "            X = X[0].to(device)\n",
    "            y = torch.squeeze(torch.Tensor(np.array(y).astype(int)).to(torch.long))\n",
    "            y = y.to(device)\n",
    "            pred = model(X)\n",
    "            loss = loss_fn(pred, y)\n",
    "            avgLoss += loss.item()\n",
    "            correct = (pred.argmax(1) == y).type(torch.float).sum().item()\n",
    "            avgCorrect += correct\n",
    "            \n",
    "            # Backpropagation\n",
    "            optimizer.zero_grad()\n",
    "            loss.backward()\n",
    "            optimizer.step()\n",
    "    \n",
    "            correct = correct / size_batch\n",
    "            \n",
    "            tepoch.set_postfix(batch_loss=loss.item(), batch_accuracy=100. * correct)\n",
    "            \n",
    "    avgLoss /= size\n",
    "    avgCorrect /= size\n",
    "    print(f\" -Training Accuracy (Avg) = {(100*avgCorrect):>0.1f}%, Avg loss = {avgLoss:>8f} \\n\")\n",
    "    return avgCorrect, avgLoss\n",
    "\n",
    "def test_loop(dataloader, model, loss_fn, error):\n",
    "    size = len(dataloader.dataset)\n",
    "    avgLoss = 0\n",
    "    avgCorrect = 0\n",
    "    model.eval()\n",
    "    with torch.no_grad():\n",
    "        for (X, text, y, idx) in dataloader:\n",
    "            # Compute prediction and loss\n",
    "            X = X[0].to(device)\n",
    "            y = torch.squeeze(torch.Tensor(np.array(y).astype(int)).to(torch.long))\n",
    "            y = y.to(device)\n",
    "            pred = model(X)\n",
    "            avgLoss += loss_fn(pred, y).item()\n",
    "            avgCorrect += (pred.argmax(1) == y).type(torch.float).sum().item()\n",
    "\n",
    "    avgLoss /= size\n",
    "    avgCorrect /= size\n",
    "    print(f\" -{error} : Accuracy = {(100*avgCorrect):>0.1f}%, Avg loss = {avgLoss:>8f} \\n\")\n",
    "    return avgCorrect, avgLoss"
   ]
  },
  {
   "cell_type": "code",
   "execution_count": 40,
   "metadata": {},
   "outputs": [
    {
     "name": "stdout",
     "output_type": "stream",
     "text": [
      " Epoch 1 -------------------------------\n"
     ]
    },
    {
     "name": "stderr",
     "output_type": "stream",
     "text": [
      "Epoch 1: 100%|██████████| 159/159 [03:47<00:00,  1.43s/batch, batch_accuracy=37.5, batch_loss=1.12]\n"
     ]
    },
    {
     "name": "stdout",
     "output_type": "stream",
     "text": [
      " -Training Accuracy (Avg) = 38.6%, Avg loss = 0.008570 \n",
      "\n",
      " -Validation : Accuracy = 36.5%, Avg loss = 0.008660 \n",
      "\n",
      " Epoch 2 -------------------------------\n"
     ]
    },
    {
     "name": "stderr",
     "output_type": "stream",
     "text": [
      "Epoch 2: 100%|██████████| 159/159 [03:44<00:00,  1.41s/batch, batch_accuracy=25, batch_loss=1.13]  \n"
     ]
    },
    {
     "name": "stdout",
     "output_type": "stream",
     "text": [
      " -Training Accuracy (Avg) = 40.2%, Avg loss = 0.008530 \n",
      "\n",
      " -Validation : Accuracy = 36.6%, Avg loss = 0.008657 \n",
      "\n",
      " Epoch 3 -------------------------------\n"
     ]
    },
    {
     "name": "stderr",
     "output_type": "stream",
     "text": [
      "Epoch 3: 100%|██████████| 159/159 [03:49<00:00,  1.44s/batch, batch_accuracy=31.2, batch_loss=1.1] \n"
     ]
    },
    {
     "name": "stdout",
     "output_type": "stream",
     "text": [
      " -Training Accuracy (Avg) = 43.1%, Avg loss = 0.008404 \n",
      "\n",
      " -Validation : Accuracy = 36.8%, Avg loss = 0.008703 \n",
      "\n",
      " Epoch 4 -------------------------------\n"
     ]
    },
    {
     "name": "stderr",
     "output_type": "stream",
     "text": [
      "Epoch 4:  70%|███████   | 112/159 [02:48<01:15,  1.61s/batch, batch_accuracy=44.5, batch_loss=1.06] Premature end of JPEG file\n",
      "Epoch 4: 100%|██████████| 159/159 [04:23<00:00,  1.65s/batch, batch_accuracy=56.2, batch_loss=0.925]\n"
     ]
    },
    {
     "name": "stdout",
     "output_type": "stream",
     "text": [
      " -Training Accuracy (Avg) = 47.9%, Avg loss = 0.008068 \n",
      "\n",
      " -Validation : Accuracy = 36.8%, Avg loss = 0.008937 \n",
      "\n",
      " Epoch 5 -------------------------------\n"
     ]
    },
    {
     "name": "stderr",
     "output_type": "stream",
     "text": [
      "Epoch 5: 100%|██████████| 159/159 [04:29<00:00,  1.69s/batch, batch_accuracy=56.2, batch_loss=0.862]\n"
     ]
    },
    {
     "name": "stdout",
     "output_type": "stream",
     "text": [
      " -Training Accuracy (Avg) = 54.3%, Avg loss = 0.007373 \n",
      "\n",
      " -Validation : Accuracy = 36.5%, Avg loss = 0.009356 \n",
      "\n",
      "Done!\n"
     ]
    }
   ],
   "source": [
    "from torch.utils.tensorboard import SummaryWriter\n",
    "writer = SummaryWriter(log_dir='tensorboard/ResNet50')\n",
    "\n",
    "epochs = 5\n",
    "for e in range(epochs):\n",
    "    print(f\" Epoch {e+1} -------------------------------\")\n",
    "    trainAcc, trainLoss = train_loop(e, train_dataloader, model, loss_fn, optimizer)\n",
    "    writer.add_scalar('Accuracy/train', trainAcc, e)\n",
    "    writer.add_scalar('Loss/train', trainLoss, e)\n",
    "\n",
    "    valAcc, valLoss = test_loop(valid_dataloader, model, loss_fn, 'Validation')\n",
    "    writer.add_scalar('Accuracy/validation', valAcc, e)\n",
    "    writer.add_scalar('Loss/validation', valLoss, e)\n",
    "    \n",
    "print(\"Done!\")"
   ]
  },
  {
   "cell_type": "code",
   "execution_count": 41,
   "metadata": {},
   "outputs": [
    {
     "name": "stdout",
     "output_type": "stream",
     "text": [
      " -Test : Accuracy = 40.1%, Avg loss = 0.008979 \n",
      "\n"
     ]
    }
   ],
   "source": [
    "test_loop(test_dataloader, model, loss_fn, 'Test');"
   ]
  },
  {
   "cell_type": "code",
   "execution_count": 42,
   "metadata": {},
   "outputs": [],
   "source": [
    "y_pred = []\n",
    "y_true = []\n",
    "\n",
    "with torch.no_grad():\n",
    "    for (X, temp1, y, temp2)  in test_dataloader:\n",
    "        X = X[0].to(device)\n",
    "        y = torch.squeeze(torch.Tensor(np.array(y).astype(int)).to(torch.long))\n",
    "        y = y.to(device)\n",
    "        pred = model(X)\n",
    "        output = pred.argmax(1).cpu().numpy()\n",
    "        y_pred.extend(output)\n",
    "        label = y.cpu().numpy()\n",
    "        y_true.extend(label)"
   ]
  },
  {
   "cell_type": "code",
   "execution_count": 43,
   "metadata": {},
   "outputs": [
    {
     "name": "stdout",
     "output_type": "stream",
     "text": [
      "              precision    recall  f1-score   support\n",
      "\n",
      "     neutral       0.26      0.17      0.20      1298\n",
      "    negative       0.43      0.84      0.57      2163\n",
      "    positive       0.00      0.00      0.00      1606\n",
      "\n",
      "    accuracy                           0.40      5067\n",
      "   macro avg       0.23      0.34      0.26      5067\n",
      "weighted avg       0.25      0.40      0.29      5067\n",
      "\n"
     ]
    }
   ],
   "source": [
    "print(classification_report(y_true=y_true, y_pred=y_pred, target_names=['neutral','negative','positive']))"
   ]
  },
  {
   "cell_type": "code",
   "execution_count": 44,
   "metadata": {},
   "outputs": [
    {
     "data": {
      "image/png": "[encoded data removed]",
      "text/plain": [
       "<Figure size 640x480 with 2 Axes>"
      ]
     },
     "metadata": {},
     "output_type": "display_data"
    }
   ],
   "source": [
    "cf_matrix = confusion_matrix(y_true=y_true, y_pred=y_pred)\n",
    "\n",
    "sb.heatmap(cf_matrix,\n",
    "           annot=True,\n",
    "           fmt='d',\n",
    "           cmap='viridis',\n",
    "           xticklabels=['neutral','negative','positive'],\n",
    "           yticklabels=['neutral','negative','positive'])\n",
    "plt.xlabel('Predicted label')\n",
    "plt.ylabel('True label')\n",
    "plt.show()"
   ]
  },
  {
   "cell_type": "code",
   "execution_count": 45,
   "metadata": {},
   "outputs": [],
   "source": [
    "torch.save(model.state_dict(), 'checkpoints/imageResNet50.pth')"
   ]
  },
  {
   "attachments": {},
   "cell_type": "markdown",
   "metadata": {},
   "source": [
    "> We get better accuracy because the model uses whole images instead of faces.??????????????????????????????????????????????????????????????????????????????????????????????????????????????????????????????????????????????????????????????????"
   ]
  },
  {
   "attachments": {},
   "cell_type": "markdown",
   "metadata": {},
   "source": [
    "# C) Sentiment analysis using the combination of the two last parts"
   ]
  },
  {
   "cell_type": "code",
   "execution_count": 54,
   "metadata": {},
   "outputs": [],
   "source": [
    "from libs.mergeImageFaceNetworks import mergeImageFaceNetwork"
   ]
  },
  {
   "cell_type": "code",
   "execution_count": 55,
   "metadata": {},
   "outputs": [],
   "source": [
    "training_data.transformer = Compose([])\n",
    "test_data.transformer = Compose([])"
   ]
  },
  {
   "cell_type": "code",
   "execution_count": 58,
   "metadata": {},
   "outputs": [
    {
     "name": "stdout",
     "output_type": "stream",
     "text": [
      "Applied providers: ['CPUExecutionProvider'], with options: {'CPUExecutionProvider': {}}\n",
      "model ignore: /home/user01/.insightface/models/buffalo_l/1k3d68.onnx landmark_3d_68\n",
      "Applied providers: ['CPUExecutionProvider'], with options: {'CPUExecutionProvider': {}}\n",
      "model ignore: /home/user01/.insightface/models/buffalo_l/2d106det.onnx landmark_2d_106\n",
      "Applied providers: ['CPUExecutionProvider'], with options: {'CPUExecutionProvider': {}}\n",
      "find model: /home/user01/.insightface/models/buffalo_l/det_10g.onnx detection [1, 3, '?', '?'] 127.5 128.0\n",
      "Applied providers: ['CPUExecutionProvider'], with options: {'CPUExecutionProvider': {}}\n",
      "model ignore: /home/user01/.insightface/models/buffalo_l/genderage.onnx genderage\n",
      "Applied providers: ['CPUExecutionProvider'], with options: {'CPUExecutionProvider': {}}\n",
      "model ignore: /home/user01/.insightface/models/buffalo_l/w600k_r50.onnx recognition\n",
      "set det-size: (640, 640)\n"
     ]
    }
   ],
   "source": [
    "merge2networks = mergeImageFaceNetwork(modelPath_image='checkpoints/imageResNet50.pth',modelPath_face='checkpoints/facePipModel.pth')"
   ]
  },
  {
   "cell_type": "code",
   "execution_count": null,
   "metadata": {},
   "outputs": [],
   "source": [
    "merge2networks.train(training_data, modelPath_pred='checkpoints/prediction.pth')"
   ]
  },
  {
   "cell_type": "code",
   "execution_count": 59,
   "metadata": {},
   "outputs": [
    {
     "name": "stderr",
     "output_type": "stream",
     "text": [
      "100%|██████████| 5067/5067 [08:25<00:00, 10.03it/s]\n"
     ]
    },
    {
     "name": "stdout",
     "output_type": "stream",
     "text": [
      " - Test Accuracy = 42.4\n",
      "\n"
     ]
    },
    {
     "data": {
      "text/plain": [
       "[tensor([-0.2771,  0.4826, -0.9164], device='cuda:0'),\n",
       " tensor([-0.3660,  0.6852, -0.6667], device='cuda:0'),\n",
       " tensor([-0.4683,  0.6842, -0.6462], device='cuda:0'),\n",
       " tensor([-0.4277,  0.5882, -0.7531], device='cuda:0'),\n",
       " tensor([-0.5359,  0.7505, -0.5752], device='cuda:0'),\n",
       " tensor([-0.3749,  0.4407, -0.9126], device='cuda:0'),\n",
       " tensor([-0.2625,  0.4595, -0.9617], device='cuda:0'),\n",
       " tensor([-0.3434,  0.5950, -0.7752], device='cuda:0'),\n",
       " tensor([-0.1821,  0.4264, -0.9126], device='cuda:0'),\n",
       " tensor([ 0.4729,  0.5275, -1.1597], device='cuda:0'),\n",
       " tensor([-0.3733,  0.5900, -0.7652], device='cuda:0'),\n",
       " tensor([-0.0880,  0.4577, -0.9856], device='cuda:0'),\n",
       " tensor([-0.4388,  0.7069, -0.6284], device='cuda:0'),\n",
       " tensor([-0.3161,  0.4417, -0.9226], device='cuda:0'),\n",
       " tensor([-0.2956,  0.5529, -0.8562], device='cuda:0'),\n",
       " tensor([-0.1988,  0.2267, -0.0935], device='cuda:0'),\n",
       " tensor([-0.5715,  0.8386, -0.4765], device='cuda:0'),\n",
       " tensor([-0.4746,  0.6380, -0.7000], device='cuda:0'),\n",
       " tensor([-0.2788,  0.4532,  0.1612], device='cuda:0'),\n",
       " tensor([-0.3911,  0.6836, -0.6523], device='cuda:0'),\n",
       " tensor([ 0.0572,  0.3735, -1.1197], device='cuda:0'),\n",
       " tensor([-0.2072,  0.4962, -0.9378], device='cuda:0'),\n",
       " tensor([-0.2388,  0.5250, -0.8975], device='cuda:0'),\n",
       " tensor([-0.3523,  0.6960, -0.6875], device='cuda:0'),\n",
       " tensor([-0.3258,  0.4309, -0.9261], device='cuda:0'),\n",
       " tensor([-0.3983,  0.5440, -0.8401], device='cuda:0'),\n",
       " tensor([-0.4376,  0.5973, -0.7440], device='cuda:0'),\n",
       " tensor([-0.3185,  0.4542, -0.9493], device='cuda:0'),\n",
       " tensor([-0.3750,  0.5677, -0.7882], device='cuda:0'),\n",
       " tensor([-0.3511,  0.5825, -0.7864], device='cuda:0'),\n",
       " tensor([-0.2679,  0.4281, -1.0127], device='cuda:0'),\n",
       " tensor([-0.4777,  0.8872, -0.4156], device='cuda:0'),\n",
       " tensor([-0.4161,  0.5365, -0.8124], device='cuda:0'),\n",
       " tensor([-0.4202,  0.6812, -0.6681], device='cuda:0'),\n",
       " tensor([-0.3682,  0.4730, -0.9204], device='cuda:0'),\n",
       " tensor([-0.0612,  0.5535, -0.9638], device='cuda:0'),\n",
       " tensor([-0.3683,  0.5568, -0.8096], device='cuda:0'),\n",
       " tensor([-0.4253,  0.5624, -0.7832], device='cuda:0'),\n",
       " tensor([-0.4128,  0.4871, -0.8690], device='cuda:0'),\n",
       " tensor([-0.3844,  0.4466, -0.9135], device='cuda:0'),\n",
       " tensor([-0.4760,  0.5773, -0.7701], device='cuda:0'),\n",
       " tensor([-0.3690,  0.5004, -0.8775], device='cuda:0'),\n",
       " tensor([-0.3577,  0.5995, -0.7643], device='cuda:0'),\n",
       " tensor([-0.3359,  0.4459, -0.9093], device='cuda:0'),\n",
       " tensor([-0.4179,  0.6399, -0.7092], device='cuda:0'),\n",
       " tensor([-0.4187,  0.8674, -0.4707], device='cuda:0'),\n",
       " tensor([-0.4110,  0.4944, -0.8691], device='cuda:0'),\n",
       " tensor([-0.3640,  0.6360, -0.7252], device='cuda:0'),\n",
       " tensor([-0.3757,  0.5979, -0.7386], device='cuda:0'),\n",
       " tensor([-0.5368,  0.7669, -0.5563], device='cuda:0'),\n",
       " tensor([-0.3719,  0.4491, -0.9274], device='cuda:0'),\n",
       " tensor([-0.3892,  0.6887, -0.6456], device='cuda:0'),\n",
       " tensor([-0.2337,  0.4256, -0.9677], device='cuda:0'),\n",
       " tensor([-0.3568,  0.4904, -0.8858], device='cuda:0'),\n",
       " tensor([-0.4426,  0.8033, -0.5541], device='cuda:0'),\n",
       " tensor([-0.4541,  0.8290, -0.5030], device='cuda:0'),\n",
       " tensor([-0.2718,  0.5489, -0.8721], device='cuda:0'),\n",
       " tensor([-0.3266,  0.5230, -0.8420], device='cuda:0'),\n",
       " tensor([-0.5400,  0.7571, -0.5679], device='cuda:0'),\n",
       " tensor([-0.4219,  0.5148, -0.8345], device='cuda:0'),\n",
       " tensor([ 0.0260,  0.3381, -1.0818], device='cuda:0'),\n",
       " tensor([-0.3610,  0.7495, -0.6002], device='cuda:0'),\n",
       " tensor([-0.3477,  0.6124, -0.7263], device='cuda:0'),\n",
       " tensor([-0.4127,  0.7340, -0.6056], device='cuda:0'),\n",
       " tensor([-0.4061,  0.4934, -0.8612], device='cuda:0'),\n",
       " tensor([-0.3650,  0.6973, -0.6542], device='cuda:0'),\n",
       " tensor([-0.1645,  0.4359, -1.0159], device='cuda:0'),\n",
       " tensor([-0.3780,  0.4403, -0.9183], device='cuda:0'),\n",
       " tensor([-0.3655,  0.6907, -0.6610], device='cuda:0'),\n",
       " tensor([-0.2699,  0.5144, -0.9050], device='cuda:0'),\n",
       " tensor([-0.3641,  0.5455, -0.8081], device='cuda:0'),\n",
       " tensor([-0.3593,  0.5773, -0.7869], device='cuda:0'),\n",
       " tensor([-0.4225,  0.5010, -0.8538], device='cuda:0'),\n",
       " tensor([-0.3817,  0.4471, -0.9165], device='cuda:0'),\n",
       " tensor([-0.3621,  0.6384, -0.7133], device='cuda:0'),\n",
       " tensor([-0.4875,  0.8462, -0.4792], device='cuda:0'),\n",
       " tensor([-0.1806,  0.4742, -0.9430], device='cuda:0'),\n",
       " tensor([-0.4352,  0.7335, -0.6049], device='cuda:0'),\n",
       " tensor([-0.4855,  0.9563, -0.3668], device='cuda:0'),\n",
       " tensor([ 0.1189,  0.5062, -1.0872], device='cuda:0'),\n",
       " tensor([-0.4100,  0.5213, -0.8280], device='cuda:0'),\n",
       " tensor([-0.4022,  0.4760, -0.8799], device='cuda:0'),\n",
       " tensor([-0.4455,  0.8139, -0.5203], device='cuda:0'),\n",
       " tensor([-0.1410,  0.3901, -0.9552], device='cuda:0'),\n",
       " tensor([-0.3223,  0.5157, -0.8392], device='cuda:0'),\n",
       " tensor([-0.5729,  0.8319, -0.4843], device='cuda:0'),\n",
       " tensor([-0.4536,  0.6426, -0.6931], device='cuda:0'),\n",
       " tensor([-0.2353,  0.6312,  0.3389], device='cuda:0'),\n",
       " tensor([-0.2588,  0.3123,  0.0003], device='cuda:0'),\n",
       " tensor([-0.2311,  0.4890,  0.1888], device='cuda:0'),\n",
       " tensor([-0.0167,  0.2623, -1.2229], device='cuda:0'),\n",
       " tensor([ 0.6995,  0.1383, -0.7511], device='cuda:0'),\n",
       " tensor([ 0.2728,  0.1650, -0.2535], device='cuda:0'),\n",
       " tensor([-0.3376,  0.6046, -0.7837], device='cuda:0'),\n",
       " tensor([-0.4598,  0.7950, -0.5368], device='cuda:0'),\n",
       " tensor([-0.2318,  0.5066,  0.1826], device='cuda:0'),\n",
       " tensor([-0.4076,  0.6476, -0.6977], device='cuda:0'),\n",
       " tensor([-0.5536,  0.7890, -0.5322], device='cuda:0'),\n",
       " tensor([-0.3184,  0.6139, -0.7399], device='cuda:0'),\n",
       " tensor([-0.3705,  0.6267, -0.7272], device='cuda:0'),\n",
       " tensor([-0.1692,  0.3904,  0.0813], device='cuda:0'),\n",
       " tensor([-0.2530,  0.5120, -0.9221], device='cuda:0'),\n",
       " tensor([-0.3179,  0.4690, -0.9399], device='cuda:0'),\n",
       " tensor([-0.4578,  0.6121, -0.7285], device='cuda:0'),\n",
       " tensor([-0.4276,  0.5081, -0.8460], device='cuda:0'),\n",
       " tensor([-0.3477,  0.6156, -0.7523], device='cuda:0'),\n",
       " tensor([-0.3844,  0.4466, -0.9135], device='cuda:0'),\n",
       " tensor([-0.4352,  0.5903, -0.7518], device='cuda:0'),\n",
       " tensor([-0.4312,  0.5133, -0.8403], device='cuda:0'),\n",
       " tensor([-0.3590,  0.5996, -0.7598], device='cuda:0'),\n",
       " tensor([-0.3320,  0.4290, -0.8805], device='cuda:0'),\n",
       " tensor([-0.3687,  0.6024, -0.7750], device='cuda:0'),\n",
       " tensor([-0.0908,  0.2907, -0.0659], device='cuda:0'),\n",
       " tensor([-0.3862,  0.4789, -0.8890], device='cuda:0'),\n",
       " tensor([-0.3844,  0.4466, -0.9135], device='cuda:0'),\n",
       " tensor([-0.4969,  0.6831, -0.6498], device='cuda:0'),\n",
       " tensor([-0.3204,  0.4277, -0.9575], device='cuda:0'),\n",
       " tensor([-0.3689,  0.6763, -0.6705], device='cuda:0'),\n",
       " tensor([-0.3844,  0.4466, -0.9135], device='cuda:0'),\n",
       " tensor([-0.2741,  0.5064, -0.9594], device='cuda:0'),\n",
       " tensor([ 0.1728,  0.2218, -0.1053], device='cuda:0'),\n",
       " tensor([-0.3552,  0.6988, -0.6656], device='cuda:0'),\n",
       " tensor([-0.4390,  0.6013, -0.7395], device='cuda:0'),\n",
       " tensor([-0.2462,  0.5393,  0.2303], device='cuda:0'),\n",
       " tensor([-0.4482,  0.6273, -0.7102], device='cuda:0'),\n",
       " tensor([-0.4568,  1.0584, -0.2556], device='cuda:0'),\n",
       " tensor([-0.3665,  0.6778, -0.6744], device='cuda:0'),\n",
       " tensor([-0.3869,  0.6402, -0.7118], device='cuda:0'),\n",
       " tensor([-0.3672,  0.5913, -0.7549], device='cuda:0'),\n",
       " tensor([-0.4207,  0.6953, -0.6509], device='cuda:0'),\n",
       " tensor([-0.1326,  0.4834, -0.8597], device='cuda:0'),\n",
       " tensor([-0.4918,  0.7495, -0.5715], device='cuda:0'),\n",
       " tensor([-0.3446,  0.4763, -0.8867], device='cuda:0'),\n",
       " tensor([-0.1799,  0.2891, -0.0262], device='cuda:0'),\n",
       " tensor([-0.3765,  0.4482, -0.9223], device='cuda:0'),\n",
       " tensor([-0.5314,  0.7469, -0.5789], device='cuda:0'),\n",
       " tensor([-0.3586,  0.7809, -0.5678], device='cuda:0'),\n",
       " tensor([-0.3638,  0.7130, -0.6380], device='cuda:0'),\n",
       " tensor([-0.4483,  0.5883, -0.7450], device='cuda:0'),\n",
       " tensor([-0.2855,  0.6211, -0.8061], device='cuda:0'),\n",
       " tensor([-0.3492,  0.5274, -0.8396], device='cuda:0'),\n",
       " tensor([-0.4147,  0.5009, -0.8544], device='cuda:0'),\n",
       " tensor([-0.2687,  0.4341, -0.9908], device='cuda:0'),\n",
       " tensor([-0.3218,  0.5236, -0.8815], device='cuda:0'),\n",
       " tensor([-0.4318,  0.5807, -0.7627], device='cuda:0'),\n",
       " tensor([-0.3679,  0.6608, -0.6920], device='cuda:0'),\n",
       " tensor([-0.5313,  0.7401, -0.5868], device='cuda:0'),\n",
       " tensor([-0.3268,  0.4419, -0.9542], device='cuda:0'),\n",
       " tensor([-0.3981,  0.6365, -0.7132], device='cuda:0'),\n",
       " tensor([-0.4572,  0.7171, -0.6150], device='cuda:0'),\n",
       " tensor([-0.3028,  0.5532, -0.8367], device='cuda:0'),\n",
       " tensor([-0.3695,  0.6390, -0.7144], device='cuda:0'),\n",
       " tensor([-0.2229,  0.4990,  0.2180], device='cuda:0'),\n",
       " tensor([-0.2035,  0.4091,  0.1081], device='cuda:0'),\n",
       " tensor([-0.3962,  0.6778, -0.6630], device='cuda:0'),\n",
       " tensor([-0.2180,  0.2742, -0.0424], device='cuda:0'),\n",
       " tensor([-0.1202,  0.3993,  0.0709], device='cuda:0'),\n",
       " tensor([-0.1866,  0.5028, -0.9147], device='cuda:0'),\n",
       " tensor([-0.1000,  0.3330, -0.0010], device='cuda:0'),\n",
       " tensor([-0.4718,  0.6234, -0.7166], device='cuda:0'),\n",
       " tensor([ 0.0809,  0.4112, -1.0366], device='cuda:0'),\n",
       " tensor([-0.2550,  0.3951, -1.0323], device='cuda:0'),\n",
       " tensor([-0.3230,  0.5187, -0.8660], device='cuda:0'),\n",
       " tensor([-0.4959,  0.9000, -0.4260], device='cuda:0'),\n",
       " tensor([ 0.0290,  0.3778, -1.0589], device='cuda:0'),\n",
       " tensor([-0.2746,  0.5661, -0.8644], device='cuda:0'),\n",
       " tensor([-0.3714,  0.6151, -0.7393], device='cuda:0'),\n",
       " tensor([-0.3815,  0.5297, -0.8708], device='cuda:0'),\n",
       " tensor([-0.2036,  0.3917, -1.0846], device='cuda:0'),\n",
       " tensor([-0.3715,  0.5970, -0.7869], device='cuda:0'),\n",
       " tensor([-0.3706,  0.6251, -0.7289], device='cuda:0'),\n",
       " tensor([-0.3844,  0.4466, -0.9135], device='cuda:0'),\n",
       " tensor([ 0.1596,  0.4152, -0.9736], device='cuda:0'),\n",
       " tensor([-0.2559,  0.4329, -0.9939], device='cuda:0'),\n",
       " tensor([-0.5284,  1.0641, -0.2505], device='cuda:0'),\n",
       " tensor([-0.3699,  0.6344, -0.7192], device='cuda:0'),\n",
       " tensor([-0.4777,  0.6362, -0.7023], device='cuda:0'),\n",
       " tensor([-0.1524,  0.5039, -0.9032], device='cuda:0'),\n",
       " tensor([-0.1097,  0.4359, -1.0137], device='cuda:0'),\n",
       " tensor([-0.3305,  0.6031, -0.7688], device='cuda:0'),\n",
       " tensor([-0.2707,  0.3812, -0.9988], device='cuda:0'),\n",
       " tensor([-0.4070,  0.5146, -0.8377], device='cuda:0'),\n",
       " tensor([-0.0628,  0.5677, -0.9153], device='cuda:0'),\n",
       " tensor([-0.2722,  0.4259, -0.9759], device='cuda:0'),\n",
       " tensor([-0.3858,  0.6537, -0.7086], device='cuda:0'),\n",
       " tensor([ 0.4327,  0.3527, -1.1978], device='cuda:0'),\n",
       " tensor([-0.4986,  0.8872, -0.4380], device='cuda:0'),\n",
       " tensor([-0.3448,  0.4255, -0.9252], device='cuda:0'),\n",
       " tensor([-0.4404,  0.6052, -0.7351], device='cuda:0'),\n",
       " tensor([-0.4209,  0.7138, -0.6193], device='cuda:0'),\n",
       " tensor([-0.4118,  0.6688, -0.6800], device='cuda:0'),\n",
       " tensor([-0.3976,  0.6468, -0.6922], device='cuda:0'),\n",
       " tensor([-0.3619,  0.5771, -0.7840], device='cuda:0'),\n",
       " tensor([-0.4134,  0.7567, -0.5816], device='cuda:0'),\n",
       " tensor([-0.4146,  0.5457, -0.8130], device='cuda:0'),\n",
       " tensor([-0.3728,  0.5009, -0.8516], device='cuda:0'),\n",
       " tensor([-0.2000,  0.3967, -0.9357], device='cuda:0'),\n",
       " tensor([-0.3798,  0.5650, -0.8414], device='cuda:0'),\n",
       " tensor([-0.5091,  0.6244, -0.7184], device='cuda:0'),\n",
       " tensor([-0.4253,  0.5624, -0.7833], device='cuda:0'),\n",
       " tensor([-0.3218,  0.6560, -0.7306], device='cuda:0'),\n",
       " tensor([-0.3921,  0.5608, -0.7963], device='cuda:0'),\n",
       " tensor([-0.4481,  0.6269, -0.7107], device='cuda:0'),\n",
       " tensor([-0.3752,  0.5583, -0.7987], device='cuda:0'),\n",
       " tensor([-0.4404,  0.5795, -0.7648], device='cuda:0'),\n",
       " tensor([-0.2970,  0.5683, -0.8225], device='cuda:0'),\n",
       " tensor([-0.1712,  0.3996, -0.9924], device='cuda:0'),\n",
       " tensor([-0.5470,  0.7788, -0.5434], device='cuda:0'),\n",
       " tensor([-0.3043,  0.5510, -0.8338], device='cuda:0'),\n",
       " tensor([-0.3079,  0.4995, -0.8634], device='cuda:0'),\n",
       " tensor([-0.4462,  0.5886, -0.7545], device='cuda:0'),\n",
       " tensor([-0.4086,  0.4811, -0.8756], device='cuda:0'),\n",
       " tensor([-0.1639,  0.4331, -1.0425], device='cuda:0'),\n",
       " tensor([-0.4665,  0.9139, -0.4207], device='cuda:0'),\n",
       " tensor([-0.4232,  0.8122, -0.5213], device='cuda:0'),\n",
       " tensor([-0.2671,  0.3848, -0.9561], device='cuda:0'),\n",
       " tensor([-0.4684,  0.8347, -0.4971], device='cuda:0'),\n",
       " tensor([-0.2836,  0.5979, -0.8051], device='cuda:0'),\n",
       " tensor([-0.4643,  0.7660, -0.5692], device='cuda:0'),\n",
       " tensor([-0.2650,  0.5087, -0.8929], device='cuda:0'),\n",
       " tensor([-0.3417,  0.5328, -0.8387], device='cuda:0'),\n",
       " tensor([-0.0188,  0.5503, -0.9758], device='cuda:0'),\n",
       " tensor([-0.4277,  0.7842, -0.5743], device='cuda:0'),\n",
       " tensor([-0.4427,  0.5297, -0.8223], device='cuda:0'),\n",
       " tensor([-0.3844,  0.4466, -0.9135], device='cuda:0'),\n",
       " tensor([-0.3696,  0.4497, -0.9289], device='cuda:0'),\n",
       " tensor([-0.4703,  0.6145, -0.7268], device='cuda:0'),\n",
       " tensor([-0.4407,  0.7750, -0.5603], device='cuda:0'),\n",
       " tensor([-0.3862,  0.5146, -0.8183], device='cuda:0'),\n",
       " tensor([-0.4416,  0.7434, -0.6000], device='cuda:0'),\n",
       " tensor([-0.3514,  0.6629, -0.6968], device='cuda:0'),\n",
       " tensor([-0.3304,  0.5946, -0.8020], device='cuda:0'),\n",
       " tensor([-0.3336,  0.5912, -0.7776], device='cuda:0'),\n",
       " tensor([-0.3261,  0.4302, -0.9411], device='cuda:0'),\n",
       " tensor([-0.4400,  0.8876, -0.4385], device='cuda:0'),\n",
       " tensor([-0.3064,  0.4848, -0.9480], device='cuda:0'),\n",
       " tensor([-0.4529,  0.6011, -0.7396], device='cuda:0'),\n",
       " tensor([-0.4353,  0.5906, -0.7515], device='cuda:0'),\n",
       " tensor([-0.3730,  0.6164, -0.7572], device='cuda:0'),\n",
       " tensor([-0.4254,  0.7221, -0.6150], device='cuda:0'),\n",
       " tensor([-0.4055,  0.5866, -0.7913], device='cuda:0'),\n",
       " tensor([-0.4675,  0.7677, -0.5727], device='cuda:0'),\n",
       " tensor([-0.0792,  0.5006, -0.9492], device='cuda:0'),\n",
       " tensor([-0.4128,  0.6623, -0.6866], device='cuda:0'),\n",
       " tensor([-0.2539,  0.5183, -0.8951], device='cuda:0'),\n",
       " tensor([-0.4510,  0.6524, -0.7236], device='cuda:0'),\n",
       " tensor([-0.3981,  0.4662, -0.8920], device='cuda:0'),\n",
       " tensor([-0.4062,  0.7264, -0.6149], device='cuda:0'),\n",
       " tensor([-0.3831,  0.4466, -0.9141], device='cuda:0'),\n",
       " tensor([-0.4875,  0.5937, -0.7521], device='cuda:0'),\n",
       " tensor([-0.3818,  0.6716, -0.6957], device='cuda:0'),\n",
       " tensor([-0.4459,  0.7079, -0.6311], device='cuda:0'),\n",
       " tensor([-0.4313,  0.7895, -0.5529], device='cuda:0'),\n",
       " tensor([-0.2211,  0.4459, -0.9897], device='cuda:0'),\n",
       " tensor([-0.3367,  0.5396, -0.8326], device='cuda:0'),\n",
       " tensor([-0.3465,  0.5988, -0.7823], device='cuda:0'),\n",
       " tensor([-0.4662,  0.5632, -0.7855], device='cuda:0'),\n",
       " tensor([-0.3561,  0.4522, -0.9449], device='cuda:0'),\n",
       " tensor([-0.3899,  0.6167, -0.7526], device='cuda:0'),\n",
       " tensor([-0.4403,  0.5262, -0.8261], device='cuda:0'),\n",
       " tensor([-0.3154,  0.5692, -0.8165], device='cuda:0'),\n",
       " tensor([-0.4526,  0.7747, -0.5666], device='cuda:0'),\n",
       " tensor([-0.2931,  0.5418, -0.8487], device='cuda:0'),\n",
       " tensor([-0.3844,  0.4466, -0.9135], device='cuda:0'),\n",
       " tensor([-0.3693,  0.6142, -0.7431], device='cuda:0'),\n",
       " tensor([-0.3691,  0.6446, -0.7087], device='cuda:0'),\n",
       " tensor([-0.4428,  0.5298, -0.8221], device='cuda:0'),\n",
       " tensor([-0.4165,  0.7111, -0.6357], device='cuda:0'),\n",
       " tensor([-0.3947,  0.5989, -0.7603], device='cuda:0'),\n",
       " tensor([-0.3775,  0.4552, -0.9128], device='cuda:0'),\n",
       " tensor([-0.4379,  0.5889, -0.7685], device='cuda:0'),\n",
       " tensor([-0.1842,  0.4157,  0.1019], device='cuda:0'),\n",
       " tensor([-0.4442,  0.5643, -0.7823], device='cuda:0'),\n",
       " tensor([-0.4273,  0.7613, -0.5826], device='cuda:0'),\n",
       " tensor([-0.4271,  0.5536, -0.7887], device='cuda:0'),\n",
       " tensor([-0.3870,  0.5327, -0.8510], device='cuda:0'),\n",
       " tensor([ 0.1701,  0.4502, -1.1806], device='cuda:0'),\n",
       " tensor([-0.3966,  0.5597, -0.8209], device='cuda:0'),\n",
       " tensor([-0.0140,  0.5320, -0.9626], device='cuda:0'),\n",
       " tensor([-0.4222,  0.6681, -0.6760], device='cuda:0'),\n",
       " tensor([-0.3617,  0.5690, -0.8461], device='cuda:0'),\n",
       " tensor([-0.3264,  0.4766,  0.1843], device='cuda:0'),\n",
       " tensor([-0.3425,  0.4389, -0.9240], device='cuda:0'),\n",
       " tensor([-0.3580,  0.4518, -0.9428], device='cuda:0'),\n",
       " tensor([-0.2905,  0.4530, -0.9743], device='cuda:0'),\n",
       " tensor([-0.4707,  0.7801, -0.5545], device='cuda:0'),\n",
       " tensor([-0.3776,  0.6449, -0.7403], device='cuda:0'),\n",
       " tensor([-0.3230,  0.6072, -0.7900], device='cuda:0'),\n",
       " tensor([-0.3222,  0.5388, -0.8626], device='cuda:0'),\n",
       " tensor([-0.3844,  0.4466, -0.9135], device='cuda:0'),\n",
       " tensor([-0.4195,  0.6975, -0.6569], device='cuda:0'),\n",
       " tensor([-0.4070,  0.6438, -0.7102], device='cuda:0'),\n",
       " tensor([-0.2356,  0.4779, -0.8997], device='cuda:0'),\n",
       " tensor([-0.4413,  0.5292, -0.8229], device='cuda:0'),\n",
       " tensor([-0.4636,  0.5595, -0.7896], device='cuda:0'),\n",
       " tensor([-0.1230,  0.4918, -0.9608], device='cuda:0'),\n",
       " tensor([-0.3844,  0.4466, -0.9135], device='cuda:0'),\n",
       " tensor([-0.3702,  0.6296, -0.7243], device='cuda:0'),\n",
       " tensor([-0.4824,  0.8698, -0.4653], device='cuda:0'),\n",
       " tensor([-0.2092,  0.3903, -0.9774], device='cuda:0'),\n",
       " tensor([-0.4355,  0.5912, -0.7509], device='cuda:0'),\n",
       " tensor([-0.1988,  0.2267, -0.0935], device='cuda:0'),\n",
       " tensor([-0.2683,  0.3841,  0.0824], device='cuda:0'),\n",
       " tensor([-0.1988,  0.2267, -0.0935], device='cuda:0'),\n",
       " tensor([-0.2414,  0.3239, -0.0013], device='cuda:0'),\n",
       " tensor([-0.3753,  0.4445, -0.9144], device='cuda:0'),\n",
       " tensor([-0.3615,  0.7429, -0.6071], device='cuda:0'),\n",
       " tensor([-0.1879,  0.4361, -1.0063], device='cuda:0'),\n",
       " tensor([-0.4777,  0.5603, -0.7575], device='cuda:0'),\n",
       " tensor([-0.4634,  0.5592, -0.7899], device='cuda:0'),\n",
       " tensor([-0.1622,  0.4359, -1.0510], device='cuda:0'),\n",
       " tensor([-0.3299,  0.6140, -0.7624], device='cuda:0'),\n",
       " tensor([-0.4311,  0.5789, -0.7647], device='cuda:0'),\n",
       " tensor([-0.2733,  0.4537, -0.9750], device='cuda:0'),\n",
       " tensor([-0.4761,  0.6359, -0.7040], device='cuda:0'),\n",
       " tensor([-0.2994,  0.5096, -0.8663], device='cuda:0'),\n",
       " tensor([-0.4442,  0.5180, -0.8127], device='cuda:0'),\n",
       " tensor([-0.4344,  0.5881, -0.7544], device='cuda:0'),\n",
       " tensor([-0.3673,  0.4444, -0.9193], device='cuda:0'),\n",
       " tensor([-0.4099,  0.5350, -0.8139], device='cuda:0'),\n",
       " tensor([-0.3577,  0.4484, -0.9317], device='cuda:0'),\n",
       " tensor([-0.3800,  0.5029, -0.8946], device='cuda:0'),\n",
       " tensor([-0.0032,  0.3326, -1.0649], device='cuda:0'),\n",
       " tensor([-0.3435,  0.4418, -0.9413], device='cuda:0'),\n",
       " tensor([-0.4648,  0.5612, -0.7877], device='cuda:0'),\n",
       " tensor([-0.3818,  0.5303, -0.8588], device='cuda:0'),\n",
       " tensor([-0.4894,  0.6523, -0.6847], device='cuda:0'),\n",
       " tensor([-0.3846,  0.7614, -0.5956], device='cuda:0'),\n",
       " tensor([-0.3668,  0.6741, -0.6782], device='cuda:0'),\n",
       " tensor([-0.3314,  0.5470, -0.8156], device='cuda:0'),\n",
       " tensor([-0.4286,  0.5096, -0.8444], device='cuda:0'),\n",
       " tensor([-0.4484,  0.5379, -0.8133], device='cuda:0'),\n",
       " tensor([-0.4863,  0.6514, -0.6864], device='cuda:0'),\n",
       " tensor([-0.4215,  0.4995, -0.8555], device='cuda:0'),\n",
       " tensor([-0.4183,  0.9281, -0.4005], device='cuda:0'),\n",
       " tensor([-0.2234,  0.4248, -0.9544], device='cuda:0'),\n",
       " tensor([-0.2222,  0.4332, -0.9435], device='cuda:0'),\n",
       " tensor([-0.2898,  0.4244, -0.8996], device='cuda:0'),\n",
       " tensor([-0.2913,  0.5429, -0.8057], device='cuda:0'),\n",
       " tensor([-0.4094,  1.0175, -0.3236], device='cuda:0'),\n",
       " tensor([-0.3720,  0.6074, -0.7472], device='cuda:0'),\n",
       " tensor([-0.3469,  0.4540, -0.9403], device='cuda:0'),\n",
       " tensor([-0.1294,  0.4888, -0.9077], device='cuda:0'),\n",
       " tensor([-0.3733,  0.6173, -0.7663], device='cuda:0'),\n",
       " tensor([-0.3624,  0.5069, -0.8817], device='cuda:0'),\n",
       " tensor([-0.4055,  0.6709, -0.6700], device='cuda:0'),\n",
       " tensor([-0.4112,  0.7576, -0.6221], device='cuda:0'),\n",
       " tensor([-0.4300,  0.6258, -0.7217], device='cuda:0'),\n",
       " tensor([-0.4074,  0.7549, -0.5851], device='cuda:0'),\n",
       " tensor([-0.4846,  0.5895, -0.7567], device='cuda:0'),\n",
       " tensor([-0.4727,  0.6350, -0.7033], device='cuda:0'),\n",
       " tensor([-0.4194,  0.6829, -0.6648], device='cuda:0'),\n",
       " tensor([-0.4273,  0.5681, -0.7768], device='cuda:0'),\n",
       " tensor([ 0.0481,  0.4099, -1.0614], device='cuda:0'),\n",
       " tensor([-0.3195,  0.6002, -0.7341], device='cuda:0'),\n",
       " tensor([-0.4167,  0.5207, -0.8316], device='cuda:0'),\n",
       " tensor([-0.3844,  0.4466, -0.9135], device='cuda:0'),\n",
       " tensor([-0.3922,  0.4735, -0.8677], device='cuda:0'),\n",
       " tensor([-0.5195,  1.0211, -0.2954], device='cuda:0'),\n",
       " tensor([-0.3583,  0.5684, -0.7933], device='cuda:0'),\n",
       " tensor([-0.3299,  0.4857, -0.8541], device='cuda:0'),\n",
       " tensor([-0.4069,  0.8255, -0.5289], device='cuda:0'),\n",
       " tensor([-0.3844,  0.4466, -0.9135], device='cuda:0'),\n",
       " tensor([-0.3594,  0.7695, -0.5796], device='cuda:0'),\n",
       " tensor([-0.4217,  0.5523, -0.7945], device='cuda:0'),\n",
       " tensor([-0.3802,  0.6251, -0.7430], device='cuda:0'),\n",
       " tensor([-0.3841,  0.6434, -0.7126], device='cuda:0'),\n",
       " tensor([-0.2270,  0.5902, -0.8342], device='cuda:0'),\n",
       " tensor([-0.4358,  0.8418, -0.4400], device='cuda:0'),\n",
       " tensor([-0.4962,  0.5899, -0.7302], device='cuda:0'),\n",
       " tensor([-0.3952,  0.5428, -0.8354], device='cuda:0'),\n",
       " tensor([-0.3952,  0.4672, -0.8871], device='cuda:0'),\n",
       " tensor([-0.2955,  0.4524, -0.9214], device='cuda:0'),\n",
       " tensor([-0.4363,  0.5936, -0.7481], device='cuda:0'),\n",
       " tensor([-0.1561,  0.3433, -1.0330], device='cuda:0'),\n",
       " tensor([-0.3659,  0.6733, -0.6975], device='cuda:0'),\n",
       " tensor([-0.3476,  0.5735, -0.7731], device='cuda:0'),\n",
       " tensor([-0.3602,  0.7599, -0.5895], device='cuda:0'),\n",
       " tensor([-0.3838,  0.5067, -0.8430], device='cuda:0'),\n",
       " tensor([ 0.2282,  0.3322, -1.2655], device='cuda:0'),\n",
       " tensor([-0.3584,  0.7828, -0.5658], device='cuda:0'),\n",
       " tensor([-0.0189,  0.3088, -1.0214], device='cuda:0'),\n",
       " tensor([-0.4229,  0.6410, -0.7121], device='cuda:0'),\n",
       " tensor([-0.4235,  0.6655, -0.6786], device='cuda:0'),\n",
       " tensor([-0.3936,  0.4975, -0.8782], device='cuda:0'),\n",
       " tensor([-0.1503,  0.3645,  0.0199], device='cuda:0'),\n",
       " tensor([-0.0537,  0.4474, -1.0856], device='cuda:0'),\n",
       " tensor([-0.4204,  0.7066, -0.6241], device='cuda:0'),\n",
       " tensor([-0.4945,  0.6762, -0.6575], device='cuda:0'),\n",
       " tensor([-0.3686,  0.4483, -0.9291], device='cuda:0'),\n",
       " tensor([-0.4097,  0.5610, -0.7929], device='cuda:0'),\n",
       " tensor([-0.4057,  0.4984, -0.8742], device='cuda:0'),\n",
       " tensor([-0.4214,  0.5588, -0.7906], device='cuda:0'),\n",
       " tensor([-0.2925,  0.5986, -0.8196], device='cuda:0'),\n",
       " tensor([-0.3996,  0.4746, -0.8781], device='cuda:0'),\n",
       " tensor([-0.5059,  0.9366, -0.3849], device='cuda:0'),\n",
       " tensor([-0.4199,  0.4907, -0.8546], device='cuda:0'),\n",
       " tensor([-0.2896,  0.3562,  0.0485], device='cuda:0'),\n",
       " tensor([-0.3658,  0.6871, -0.6647], device='cuda:0'),\n",
       " tensor([-0.2271,  0.5385,  0.2399], device='cuda:0'),\n",
       " tensor([-0.2731,  0.5796, -0.8159], device='cuda:0'),\n",
       " tensor([-0.1988,  0.2267, -0.0935], device='cuda:0'),\n",
       " tensor([-0.2419,  0.3858,  0.0718], device='cuda:0'),\n",
       " tensor([-0.2116,  0.4108,  0.0990], device='cuda:0'),\n",
       " tensor([-0.3658,  0.6870, -0.6648], device='cuda:0'),\n",
       " tensor([ 0.0502,  0.3844, -1.0355], device='cuda:0'),\n",
       " tensor([ 0.2610,  0.4958, -0.8979], device='cuda:0'),\n",
       " tensor([-0.3320,  0.4334, -0.9153], device='cuda:0'),\n",
       " tensor([-0.3700,  0.4803, -0.8826], device='cuda:0'),\n",
       " tensor([-0.3749,  0.5641, -0.7922], device='cuda:0'),\n",
       " tensor([-0.3392,  0.5130, -0.8322], device='cuda:0'),\n",
       " tensor([-0.4089,  0.6774, -0.6801], device='cuda:0'),\n",
       " tensor([-0.2215,  0.5300,  0.2354], device='cuda:0'),\n",
       " tensor([-0.4260,  0.5333, -0.8408], device='cuda:0'),\n",
       " tensor([-0.0488,  0.4906, -0.9404], device='cuda:0'),\n",
       " tensor([-0.3651,  0.4549, -0.9021], device='cuda:0'),\n",
       " tensor([-0.3341,  0.5131,  0.2258], device='cuda:0'),\n",
       " tensor([-0.4395,  0.5251, -0.8274], device='cuda:0'),\n",
       " tensor([-0.4297,  0.5218, -0.8396], device='cuda:0'),\n",
       " tensor([ 0.1004,  0.2222, -0.1029], device='cuda:0'),\n",
       " tensor([-0.4170,  0.7005, -0.6315], device='cuda:0'),\n",
       " tensor([-0.3756,  0.4807, -0.9082], device='cuda:0'),\n",
       " tensor([-0.3844,  0.4466, -0.9135], device='cuda:0'),\n",
       " tensor([-0.1825,  0.2159, -0.0914], device='cuda:0'),\n",
       " tensor([-0.1387,  0.5041, -0.9747], device='cuda:0'),\n",
       " tensor([-0.4323,  0.7904, -0.5392], device='cuda:0'),\n",
       " tensor([-0.4708,  0.6334, -0.7050], device='cuda:0'),\n",
       " tensor([-0.4891,  0.5959, -0.7497], device='cuda:0'),\n",
       " tensor([-0.3617,  0.5841, -0.7825], device='cuda:0'),\n",
       " tensor([-0.4296,  0.5110, -0.8428], device='cuda:0'),\n",
       " tensor([-0.4819,  0.7227, -0.6029], device='cuda:0'),\n",
       " tensor([-0.3084,  0.6485,  0.3620], device='cuda:0'),\n",
       " tensor([-0.2856,  0.5447, -0.8359], device='cuda:0'),\n",
       " tensor([-0.3955,  0.4728, -0.8831], device='cuda:0'),\n",
       " tensor([-0.1552,  0.2355, -0.1420], device='cuda:0'),\n",
       " tensor([-0.4125,  0.5463, -0.7975], device='cuda:0'),\n",
       " tensor([-0.4113,  0.6890, -0.6532], device='cuda:0'),\n",
       " tensor([-0.1988,  0.2267, -0.0935], device='cuda:0'),\n",
       " tensor([-0.3262,  0.4627, -0.9281], device='cuda:0'),\n",
       " tensor([-0.3851,  0.4932, -0.8660], device='cuda:0'),\n",
       " tensor([-0.4185,  0.7129, -0.6221], device='cuda:0'),\n",
       " tensor([-0.3759,  0.5939, -0.7697], device='cuda:0'),\n",
       " tensor([-0.4462,  0.7518, -0.5860], device='cuda:0'),\n",
       " tensor([-0.2314,  0.2818, -0.0341], device='cuda:0'),\n",
       " tensor([-0.2496,  0.3450,  0.0410], device='cuda:0'),\n",
       " tensor([-0.5820,  0.7284, -0.6043], device='cuda:0'),\n",
       " tensor([-0.3272,  0.4538, -0.9242], device='cuda:0'),\n",
       " tensor([-0.5195,  0.7003, -0.6318], device='cuda:0'),\n",
       " tensor([-0.2735,  0.3808,  0.0757], device='cuda:0'),\n",
       " tensor([-0.4101,  0.4943, -0.8654], device='cuda:0'),\n",
       " tensor([-0.2461,  0.5387, -0.8647], device='cuda:0'),\n",
       " tensor([-0.2307,  0.3878, -0.9776], device='cuda:0'),\n",
       " tensor([-0.0180,  0.3477, -1.2347], device='cuda:0'),\n",
       " tensor([-0.4674,  0.8153, -0.5166], device='cuda:0'),\n",
       " tensor([-0.2169,  0.6064,  0.2964], device='cuda:0'),\n",
       " tensor([-0.1687,  0.2098, -0.1051], device='cuda:0'),\n",
       " tensor([-0.1988,  0.2267, -0.0935], device='cuda:0'),\n",
       " tensor([-0.3336,  0.5146, -0.8256], device='cuda:0'),\n",
       " tensor([-0.3376,  0.8054,  0.5358], device='cuda:0'),\n",
       " tensor([-0.1879,  0.4641,  0.1169], device='cuda:0'),\n",
       " tensor([-0.2421,  0.5038,  0.1966], device='cuda:0'),\n",
       " tensor([-0.5720,  0.8149, -0.5039], device='cuda:0'),\n",
       " tensor([-0.1839,  0.2146, -0.0979], device='cuda:0'),\n",
       " tensor([ 0.1738,  0.3448, -1.1706], device='cuda:0'),\n",
       " tensor([-0.4422,  0.5291, -0.8230], device='cuda:0'),\n",
       " tensor([-0.4284,  0.5754, -0.7704], device='cuda:0'),\n",
       " tensor([-0.4577,  0.8767, -0.4526], device='cuda:0'),\n",
       " tensor([-0.3827,  0.4961, -0.8830], device='cuda:0'),\n",
       " tensor([-0.2635,  0.8076,  0.5348], device='cuda:0'),\n",
       " tensor([-0.1988,  0.2267, -0.0935], device='cuda:0'),\n",
       " tensor([-0.3273,  0.5026, -0.8749], device='cuda:0'),\n",
       " tensor([-0.4879,  0.6500, -0.6872], device='cuda:0'),\n",
       " tensor([-0.2022,  0.5050, -0.9414], device='cuda:0'),\n",
       " tensor([-0.3933,  0.4895, -0.8642], device='cuda:0'),\n",
       " tensor([-0.4272,  0.5077, -0.8465], device='cuda:0'),\n",
       " tensor([-0.4254,  0.5627, -0.7829], device='cuda:0'),\n",
       " tensor([-0.0848,  0.4558, -1.0550], device='cuda:0'),\n",
       " tensor([-0.4274,  0.5887, -0.7575], device='cuda:0'),\n",
       " tensor([-0.3939,  0.6043, -0.7460], device='cuda:0'),\n",
       " tensor([-0.3961,  0.8934,  0.6271], device='cuda:0'),\n",
       " tensor([-0.3844,  0.4466, -0.9135], device='cuda:0'),\n",
       " tensor([-0.4191,  0.7061, -0.6336], device='cuda:0'),\n",
       " tensor([-0.2429,  0.4809, -0.9662], device='cuda:0'),\n",
       " tensor([ 0.0228,  0.1864, -0.1376], device='cuda:0'),\n",
       " tensor([-0.1854,  0.4010,  0.0867], device='cuda:0'),\n",
       " tensor([-0.1077,  0.3130, -0.0278], device='cuda:0'),\n",
       " tensor([-0.4149,  0.5690, -0.7894], device='cuda:0'),\n",
       " tensor([-0.3500,  0.4806, -0.9325], device='cuda:0'),\n",
       " tensor([ 0.3387,  0.3334, -1.2526], device='cuda:0'),\n",
       " tensor([ 0.0924,  0.1747, -0.1303], device='cuda:0'),\n",
       " tensor([-0.3727,  0.5484, -0.8073], device='cuda:0'),\n",
       " tensor([-0.2050,  0.2968, -0.0130], device='cuda:0'),\n",
       " tensor([-0.4340,  0.5870, -0.7555], device='cuda:0'),\n",
       " tensor([-0.2815,  0.4590,  0.1697], device='cuda:0'),\n",
       " tensor([-0.3171,  0.7823,  0.5057], device='cuda:0'),\n",
       " tensor([-0.2781,  0.4513,  0.1590], device='cuda:0'),\n",
       " tensor([-0.4211,  0.5504, -0.7967], device='cuda:0'),\n",
       " tensor([-0.3017,  0.6666,  0.3815], device='cuda:0'),\n",
       " tensor([-0.3139,  0.4618,  0.1683], device='cuda:0'),\n",
       " tensor([-0.3469,  0.6049, -0.7715], device='cuda:0'),\n",
       " tensor([-0.3318,  0.4691, -0.9278], device='cuda:0'),\n",
       " tensor([-0.1000,  0.3117, -0.0331], device='cuda:0'),\n",
       " tensor([-0.3302,  0.4291, -0.9403], device='cuda:0'),\n",
       " tensor([-0.1859,  0.2996, -0.0312], device='cuda:0'),\n",
       " tensor([-0.2359,  0.3591, -1.0130], device='cuda:0'),\n",
       " tensor([-0.5566,  0.7934, -0.5274], device='cuda:0'),\n",
       " tensor([-0.4598,  0.5541, -0.7955], device='cuda:0'),\n",
       " tensor([-0.3695,  0.6400, -0.7134], device='cuda:0'),\n",
       " tensor([-0.1419,  0.2159, -0.1411], device='cuda:0'),\n",
       " tensor([ 0.0733,  0.4030, -1.0487], device='cuda:0'),\n",
       " tensor([-0.3461,  0.5608, -0.8241], device='cuda:0'),\n",
       " tensor([-0.3839,  0.4977, -0.8465], device='cuda:0'),\n",
       " tensor([-0.4270,  0.5821, -0.7931], device='cuda:0'),\n",
       " tensor([-0.3552,  0.4839, -0.8989], device='cuda:0'),\n",
       " tensor([-0.2697,  0.4044, -0.9598], device='cuda:0'),\n",
       " tensor([-0.2687,  0.3812, -1.0732], device='cuda:0'),\n",
       " tensor([-0.3626,  0.5780, -0.7759], device='cuda:0'),\n",
       " tensor([-0.4277,  0.8179, -0.5143], device='cuda:0'),\n",
       " tensor([-0.2394,  0.3416,  0.0357], device='cuda:0'),\n",
       " tensor([-0.4326,  0.5832, -0.7598], device='cuda:0'),\n",
       " tensor([-0.3542,  0.4341, -0.9199], device='cuda:0'),\n",
       " tensor([-0.4233,  0.8221, -0.5109], device='cuda:0'),\n",
       " tensor([-0.2798,  0.4429, -0.9482], device='cuda:0'),\n",
       " tensor([-0.4099,  0.7243, -0.6164], device='cuda:0'),\n",
       " tensor([-0.2801,  0.5696, -0.8681], device='cuda:0'),\n",
       " tensor([-0.4422,  0.5835, -0.7577], device='cuda:0'),\n",
       " tensor([-0.2743,  0.5396, -0.8673], device='cuda:0'),\n",
       " tensor([-0.1670,  0.5008, -0.8858], device='cuda:0'),\n",
       " tensor([-0.4334,  1.0248, -0.2958], device='cuda:0'),\n",
       " tensor([-0.3617,  0.5673, -0.7896], device='cuda:0'),\n",
       " tensor([-0.1113,  0.2794, -0.0604], device='cuda:0'),\n",
       " tensor([-0.2910,  0.4547, -0.9572], device='cuda:0'),\n",
       " tensor([-0.1975,  0.4735, -0.8966], device='cuda:0'),\n",
       " tensor([-0.4128,  0.7519, -0.5868], device='cuda:0'),\n",
       " tensor([-0.3088,  0.3836,  0.0786], device='cuda:0'),\n",
       " tensor([-0.3844,  0.4466, -0.9135], device='cuda:0'),\n",
       " tensor([-0.3801,  0.4777, -0.9081], device='cuda:0'),\n",
       " tensor([-0.5214,  0.7248, -0.6063], device='cuda:0'),\n",
       " tensor([-0.2991,  0.6311, -0.7712], device='cuda:0'),\n",
       " tensor([-0.4197,  0.5006, -0.8503], device='cuda:0'),\n",
       " tensor([-0.0746,  0.4942, -1.0619], device='cuda:0'),\n",
       " tensor([-0.3476,  0.5562, -0.7797], device='cuda:0'),\n",
       " tensor([-0.2292,  0.4154,  0.1053], device='cuda:0'),\n",
       " tensor([-0.4139,  0.5556, -0.7928], device='cuda:0'),\n",
       " tensor([-0.3844,  0.4466, -0.9135], device='cuda:0'),\n",
       " tensor([-0.4136,  0.7330, -0.6065], device='cuda:0'),\n",
       " tensor([ 0.0300,  0.3764, -1.0024], device='cuda:0'),\n",
       " tensor([-0.4293,  0.5151, -0.8420], device='cuda:0'),\n",
       " tensor([-0.3844,  0.4466, -0.9135], device='cuda:0'),\n",
       " tensor([-0.2940,  0.5578, -0.8495], device='cuda:0'),\n",
       " tensor([-0.2748,  0.3945, -0.9927], device='cuda:0'),\n",
       " tensor([-0.4022,  0.6472, -0.7187], device='cuda:0'),\n",
       " tensor([-0.3890,  0.6560, -0.7062], device='cuda:0'),\n",
       " tensor([-0.4459,  0.7503, -0.5858], device='cuda:0'),\n",
       " tensor([-0.3935,  0.6981, -0.6835], device='cuda:0'),\n",
       " tensor([-0.2989,  0.6145, -0.7847], device='cuda:0'),\n",
       " tensor([-0.4141,  0.5338, -0.8159], device='cuda:0'),\n",
       " tensor([-0.4326,  0.5831, -0.7599], device='cuda:0'),\n",
       " tensor([-0.3892,  0.5857, -0.7805], device='cuda:0'),\n",
       " tensor([-0.3528,  0.5078, -0.8377], device='cuda:0'),\n",
       " tensor([-0.3689,  0.4372, -0.9122], device='cuda:0'),\n",
       " tensor([-0.4070,  0.6344, -0.7145], device='cuda:0'),\n",
       " tensor([-0.3135,  0.5251, -0.8382], device='cuda:0'),\n",
       " tensor([-0.4496,  0.5711, -0.7793], device='cuda:0'),\n",
       " tensor([-0.3217,  0.5059, -0.8987], device='cuda:0'),\n",
       " tensor([ 0.2003,  0.1359, -1.2626], device='cuda:0'),\n",
       " tensor([-0.4355,  0.5326, -0.8298], device='cuda:0'),\n",
       " tensor([-0.3844,  0.4466, -0.9135], device='cuda:0'),\n",
       " tensor([-0.4940,  0.6103, -0.7257], device='cuda:0'),\n",
       " tensor([-0.2225,  0.4403, -0.9574], device='cuda:0'),\n",
       " tensor([-0.3181,  0.5243, -0.8519], device='cuda:0'),\n",
       " tensor([-0.3697,  0.6375, -0.7161], device='cuda:0'),\n",
       " tensor([-0.3692,  0.5651, -0.7716], device='cuda:0'),\n",
       " tensor([-0.3836,  0.6431, -0.7183], device='cuda:0'),\n",
       " tensor([-0.4241,  0.5591, -0.7869], device='cuda:0'),\n",
       " tensor([-0.3844,  0.4466, -0.9135], device='cuda:0'),\n",
       " tensor([-0.4288,  0.7406, -0.6040], device='cuda:0'),\n",
       " tensor([-0.2249,  0.5035, -0.9131], device='cuda:0'),\n",
       " tensor([-0.3820,  0.5149, -0.8345], device='cuda:0'),\n",
       " tensor([-0.4106,  0.6440, -0.7059], device='cuda:0'),\n",
       " tensor([-0.4372,  0.5223, -0.8301], device='cuda:0'),\n",
       " tensor([-0.3516,  0.4482, -0.9384], device='cuda:0'),\n",
       " tensor([-0.4158,  0.5356, -0.8134], device='cuda:0'),\n",
       " tensor([-0.5104,  0.7132, -0.6162], device='cuda:0'),\n",
       " tensor([-0.3844,  0.4466, -0.9135], device='cuda:0'),\n",
       " tensor([-0.4224,  0.5007, -0.8541], device='cuda:0'),\n",
       " tensor([-0.3916,  0.6286, -0.7243], device='cuda:0'),\n",
       " tensor([-0.2884,  0.4836, -0.8908], device='cuda:0'),\n",
       " tensor([-0.1558,  0.4447, -0.9835], device='cuda:0'),\n",
       " tensor([-0.4066,  0.7047, -0.6375], device='cuda:0'),\n",
       " tensor([-0.3147,  0.4825,  0.2147], device='cuda:0'),\n",
       " tensor([-0.5541,  0.7847, -0.5372], device='cuda:0'),\n",
       " tensor([-0.4063,  0.5194, -0.8271], device='cuda:0'),\n",
       " tensor([-0.2729,  0.4101, -0.9297], device='cuda:0'),\n",
       " tensor([-0.4981,  0.8426, -0.4857], device='cuda:0'),\n",
       " tensor([-0.3714,  0.6142, -0.7401], device='cuda:0'),\n",
       " tensor([-0.4393,  0.6020, -0.7386], device='cuda:0'),\n",
       " tensor([-0.5314,  1.0579, -0.2531], device='cuda:0'),\n",
       " tensor([-0.4271,  0.6479, -0.6990], device='cuda:0'),\n",
       " tensor([-0.2999,  0.5764, -0.7899], device='cuda:0'),\n",
       " tensor([-0.1320,  0.2100, -0.1172], device='cuda:0'),\n",
       " tensor([-0.3613,  0.5386, -0.8114], device='cuda:0'),\n",
       " tensor([-0.4166,  0.7761, -0.5605], device='cuda:0'),\n",
       " tensor([-0.4793,  0.5820, -0.7650], device='cuda:0'),\n",
       " tensor([-0.3609,  0.6415, -0.7663], device='cuda:0'),\n",
       " tensor([-0.3799,  0.5427, -0.8278], device='cuda:0'),\n",
       " tensor([-0.4109,  0.6870, -0.6554], device='cuda:0'),\n",
       " tensor([ 0.4347,  0.3330, -1.4006], device='cuda:0'),\n",
       " tensor([-0.3844,  0.4466, -0.9135], device='cuda:0'),\n",
       " tensor([-0.4109,  0.6841, -0.6665], device='cuda:0'),\n",
       " tensor([-0.3669,  0.6099, -0.7446], device='cuda:0'),\n",
       " tensor([-0.4228,  0.8016, -0.5683], device='cuda:0'),\n",
       " tensor([-0.4893,  0.6562, -0.6804], device='cuda:0'),\n",
       " tensor([-0.3523,  0.7843,  0.5088], device='cuda:0'),\n",
       " tensor([-0.1813,  0.4529,  0.1404], device='cuda:0'),\n",
       " tensor([-0.3943,  0.8004, -0.5571], device='cuda:0'),\n",
       " tensor([-0.4658,  0.7986, -0.5374], device='cuda:0'),\n",
       " tensor([-0.0621,  0.2504, -0.1571], device='cuda:0'),\n",
       " tensor([-0.0056,  0.3806, -1.0633], device='cuda:0'),\n",
       " tensor([-0.4944,  0.8911, -0.4352], device='cuda:0'),\n",
       " tensor([-0.3114,  0.4056, -0.9230], device='cuda:0'),\n",
       " tensor([-0.3844,  0.4466, -0.9135], device='cuda:0'),\n",
       " tensor([-0.3032,  0.4514, -0.9156], device='cuda:0'),\n",
       " tensor([-0.0978,  0.3399, -1.0609], device='cuda:0'),\n",
       " tensor([-0.3654,  0.4474, -0.9188], device='cuda:0'),\n",
       " tensor([-0.4414,  0.5279, -0.8243], device='cuda:0'),\n",
       " tensor([-0.3398,  0.5500, -0.8356], device='cuda:0'),\n",
       " tensor([-0.4788,  0.8677, -0.4677], device='cuda:0'),\n",
       " tensor([-0.4165,  0.5030, -0.8603], device='cuda:0'),\n",
       " tensor([-0.4536,  0.6426, -0.6931], device='cuda:0'),\n",
       " tensor([-0.4533,  0.7853, -0.5583], device='cuda:0'),\n",
       " tensor([-0.3563,  0.5607, -0.8029], device='cuda:0'),\n",
       " tensor([-0.0607,  0.3327, -0.0519], device='cuda:0'),\n",
       " tensor([-0.3684,  0.5344, -0.8182], device='cuda:0'),\n",
       " tensor([-0.4535,  0.5991, -0.7419], device='cuda:0'),\n",
       " tensor([-0.4328,  0.5643, -0.7856], device='cuda:0'),\n",
       " tensor([-0.5151,  0.6330, -0.7090], device='cuda:0'),\n",
       " tensor([-0.3496,  0.4536, -0.9237], device='cuda:0'),\n",
       " tensor([-0.4157,  0.8264, -0.5079], device='cuda:0'),\n",
       " tensor([-0.2705,  0.4482, -0.9367], device='cuda:0'),\n",
       " tensor([-0.3691,  0.4430, -0.9150], device='cuda:0'),\n",
       " tensor([-0.1711,  0.4437, -0.9609], device='cuda:0'),\n",
       " tensor([-0.3745,  0.6129, -0.7585], device='cuda:0'),\n",
       " tensor([-0.3559,  0.6043, -0.7584], device='cuda:0'),\n",
       " tensor([-0.4418,  0.5285, -0.8236], device='cuda:0'),\n",
       " tensor([-0.4722,  0.5690, -0.7747], device='cuda:0'),\n",
       " tensor([-0.2230,  0.4903,  0.1884], device='cuda:0'),\n",
       " tensor([-0.3149,  0.5866, -0.7572], device='cuda:0'),\n",
       " tensor([-0.3895,  0.7473, -0.6179], device='cuda:0'),\n",
       " tensor([-0.4736,  0.6368, -0.6895], device='cuda:0'),\n",
       " tensor([-0.2766,  0.4788, -0.9671], device='cuda:0'),\n",
       " tensor([-0.4978,  0.6866, -0.6458], device='cuda:0'),\n",
       " tensor([-0.3791,  0.4435, -0.9127], device='cuda:0'),\n",
       " tensor([-0.3738,  0.7058, -0.6801], device='cuda:0'),\n",
       " tensor([-0.3527,  0.6000, -0.7634], device='cuda:0'),\n",
       " tensor([-0.3722,  0.6039, -0.7508], device='cuda:0'),\n",
       " tensor([-0.3285,  0.6879, -0.6845], device='cuda:0'),\n",
       " tensor([-0.4280,  0.5087, -0.8453], device='cuda:0'),\n",
       " tensor([-0.2167,  0.5296, -0.9164], device='cuda:0'),\n",
       " tensor([-0.4418,  0.6090, -0.7308], device='cuda:0'),\n",
       " tensor([-0.3844,  0.4466, -0.9135], device='cuda:0'),\n",
       " tensor([-0.2043,  0.4789, -0.9913], device='cuda:0'),\n",
       " tensor([ 0.2403,  0.3079, -1.2283], device='cuda:0'),\n",
       " tensor([-0.2722,  0.5296, -0.8855], device='cuda:0'),\n",
       " tensor([-0.1868,  0.3828,  0.0678], device='cuda:0'),\n",
       " tensor([ 0.2973,  0.2168, -0.2089], device='cuda:0'),\n",
       " tensor([-0.3850,  0.4920, -0.8926], device='cuda:0'),\n",
       " tensor([-0.4026,  0.4910, -0.8510], device='cuda:0'),\n",
       " tensor([-0.4362,  0.5205, -0.8324], device='cuda:0'),\n",
       " tensor([-0.3653,  0.4496, -0.9351], device='cuda:0'),\n",
       " tensor([-0.2971,  0.5673, -0.8431], device='cuda:0'),\n",
       " tensor([-0.3187,  0.4483, -0.9691], device='cuda:0'),\n",
       " tensor([-0.3698,  0.6357, -0.7179], device='cuda:0'),\n",
       " tensor([-0.5153,  0.7126, -0.6215], device='cuda:0'),\n",
       " tensor([-0.3538,  0.4870, -0.8773], device='cuda:0'),\n",
       " tensor([ 0.0396,  0.5014, -0.9315], device='cuda:0'),\n",
       " tensor([-0.3825,  0.4453, -0.9132], device='cuda:0'),\n",
       " tensor([-0.0273,  0.3218, -1.0364], device='cuda:0'),\n",
       " tensor([-0.1753,  0.4645, -1.0045], device='cuda:0'),\n",
       " tensor([-0.4226,  0.6906, -0.6566], device='cuda:0'),\n",
       " tensor([-0.2323,  0.4998,  0.1933], device='cuda:0'),\n",
       " tensor([-0.3060,  0.5080, -0.9018], device='cuda:0'),\n",
       " tensor([-0.4245,  0.6928, -0.6563], device='cuda:0'),\n",
       " tensor([-0.4289,  0.5661, -0.7788], device='cuda:0'),\n",
       " tensor([-0.3889,  0.7791, -0.6025], device='cuda:0'),\n",
       " tensor([-0.3386,  0.5565, -0.7893], device='cuda:0'),\n",
       " tensor([-0.4389,  0.5421, -0.8141], device='cuda:0'),\n",
       " tensor([-0.3619,  0.6540, -0.7076], device='cuda:0'),\n",
       " tensor([-0.3844,  0.4466, -0.9135], device='cuda:0'),\n",
       " tensor([-0.4381,  0.5232, -0.8295], device='cuda:0'),\n",
       " tensor([-0.4226,  0.5572, -0.7886], device='cuda:0'),\n",
       " tensor([-0.3361,  0.4450, -0.9248], device='cuda:0'),\n",
       " tensor([-0.4579,  0.6251, -0.7212], device='cuda:0'),\n",
       " tensor([-0.2828,  0.4945, -0.8585], device='cuda:0'),\n",
       " tensor([-0.3673,  0.6682, -0.6843], device='cuda:0'),\n",
       " tensor([-0.2355,  0.5946,  0.3005], device='cuda:0'),\n",
       " tensor([-0.4478,  0.7765, -0.5744], device='cuda:0'),\n",
       " tensor([-0.4604,  0.7726, -0.5348], device='cuda:0'),\n",
       " tensor([-0.3985,  0.6795, -0.6700], device='cuda:0'),\n",
       " tensor([-0.4297,  0.9106, -0.4166], device='cuda:0'),\n",
       " tensor([-0.0564,  0.4114, -1.0402], device='cuda:0'),\n",
       " tensor([-0.3838,  0.6253, -0.7408], device='cuda:0'),\n",
       " tensor([-0.1909,  0.2283, -0.1024], device='cuda:0'),\n",
       " tensor([-0.4137,  0.4884, -0.8676], device='cuda:0'),\n",
       " tensor([-0.3844,  0.4466, -0.9135], device='cuda:0'),\n",
       " tensor([-0.4202,  0.4976, -0.8575], device='cuda:0'),\n",
       " tensor([-0.4335,  0.7894, -0.5449], device='cuda:0'),\n",
       " tensor([-0.3845,  0.4847, -0.8645], device='cuda:0'),\n",
       " tensor([-0.3916,  0.6171, -0.7260], device='cuda:0'),\n",
       " tensor([-0.5716,  0.8182, -0.5000], device='cuda:0'),\n",
       " tensor([-0.3844,  0.4466, -0.9135], device='cuda:0'),\n",
       " tensor([-0.1705,  0.3094, -0.0221], device='cuda:0'),\n",
       " tensor([-0.3464,  0.4349, -0.9158], device='cuda:0'),\n",
       " tensor([-0.4806,  0.8686, -0.4601], device='cuda:0'),\n",
       " tensor([-0.3538,  0.5666, -0.8176], device='cuda:0'),\n",
       " tensor([-0.2914,  0.4271, -0.9942], device='cuda:0'),\n",
       " tensor([-0.2746,  0.4736, -0.9055], device='cuda:0'),\n",
       " tensor([-0.3844,  0.4466, -0.9135], device='cuda:0'),\n",
       " tensor([-0.4579,  0.6548, -0.6793], device='cuda:0'),\n",
       " tensor([-0.4200,  0.7102, -0.6444], device='cuda:0'),\n",
       " tensor([-0.1417,  0.4107, -1.0824], device='cuda:0'),\n",
       " tensor([-0.4128,  0.7035, -0.6584], device='cuda:0'),\n",
       " tensor([-0.3748,  0.5841, -0.7381], device='cuda:0'),\n",
       " tensor([-0.2622,  0.4997, -0.9372], device='cuda:0'),\n",
       " tensor([-0.4243,  0.5766, -0.7662], device='cuda:0'),\n",
       " tensor([-0.4068,  0.4785, -0.8785], device='cuda:0'),\n",
       " tensor([-0.2162,  0.4356, -0.9795], device='cuda:0'),\n",
       " tensor([-0.3844,  0.4466, -0.9135], device='cuda:0'),\n",
       " tensor([ 0.0747,  0.4378, -1.2075], device='cuda:0'),\n",
       " tensor([-0.0733,  0.3418, -1.0226], device='cuda:0'),\n",
       " tensor([-0.0194,  0.1468, -0.1151], device='cuda:0'),\n",
       " tensor([-0.3351,  0.5477, -0.7824], device='cuda:0'),\n",
       " tensor([-0.2313,  0.3590,  0.0282], device='cuda:0'),\n",
       " tensor([-0.4592,  0.7682, -0.5681], device='cuda:0'),\n",
       " tensor([-0.4584,  0.6415, -0.6790], device='cuda:0'),\n",
       " tensor([-0.3564,  0.5203, -0.8517], device='cuda:0'),\n",
       " tensor([-0.4175,  0.7919, -0.5515], device='cuda:0'),\n",
       " tensor([-0.5003,  0.6892, -0.6430], device='cuda:0'),\n",
       " tensor([-0.3857,  0.5686, -0.8044], device='cuda:0'),\n",
       " tensor([-0.2543,  0.4093, -1.0019], device='cuda:0'),\n",
       " tensor([-0.0293,  0.4359, -0.9061], device='cuda:0'),\n",
       " tensor([-0.3712,  0.5518, -0.8098], device='cuda:0'),\n",
       " tensor([-0.4020,  0.5269, -0.8220], device='cuda:0'),\n",
       " tensor([-0.3083,  0.4140, -0.9255], device='cuda:0'),\n",
       " tensor([-0.4559,  0.7663, -0.5695], device='cuda:0'),\n",
       " tensor([-0.4124,  0.5271, -0.8583], device='cuda:0'),\n",
       " tensor([-0.4118,  0.6662, -0.6828], device='cuda:0'),\n",
       " tensor([-0.1849,  0.4067,  0.0926], device='cuda:0'),\n",
       " tensor([-0.5043,  0.9443, -0.3775], device='cuda:0'),\n",
       " tensor([-0.4190,  0.6502, -0.6902], device='cuda:0'),\n",
       " tensor([-0.5085,  1.0234, -0.2908], device='cuda:0'),\n",
       " tensor([-0.3683,  0.5817, -0.7762], device='cuda:0'),\n",
       " tensor([-0.3017,  0.5202, -0.8391], device='cuda:0'),\n",
       " tensor([-0.1981,  0.3905, -0.9987], device='cuda:0'),\n",
       " tensor([-0.4371,  0.5735, -0.7649], device='cuda:0'),\n",
       " tensor([-0.3257,  0.6170, -0.7747], device='cuda:0'),\n",
       " tensor([-0.2196,  0.4925, -0.9762], device='cuda:0'),\n",
       " tensor([-0.3676,  0.6645, -0.6881], device='cuda:0'),\n",
       " tensor([-0.4203,  0.5658, -0.7761], device='cuda:0'),\n",
       " tensor([-0.3413,  0.5178, -0.8461], device='cuda:0'),\n",
       " tensor([-0.4487,  0.5865, -0.7570], device='cuda:0'),\n",
       " tensor([-0.4401,  0.6043, -0.7361], device='cuda:0'),\n",
       " tensor([-0.3129,  0.4736, -0.9201], device='cuda:0'),\n",
       " tensor([-0.4129,  0.8710, -0.4687], device='cuda:0'),\n",
       " tensor([-0.3844,  0.4466, -0.9135], device='cuda:0'),\n",
       " tensor([-0.4819,  0.6469, -0.6881], device='cuda:0'),\n",
       " tensor([-0.4536,  0.5909, -0.7526], device='cuda:0'),\n",
       " tensor([-0.3800,  0.4474, -0.9183], device='cuda:0'),\n",
       " tensor([-0.4000,  0.6948, -0.6618], device='cuda:0'),\n",
       " tensor([-0.3781,  0.6721, -0.7264], device='cuda:0'),\n",
       " tensor([-0.4001,  0.4690, -0.8889], device='cuda:0'),\n",
       " tensor([-0.5103,  0.7111, -0.6186], device='cuda:0'),\n",
       " tensor([-0.4770,  0.6266, -0.7133], device='cuda:0'),\n",
       " tensor([ 0.8576,  0.2856, -1.4667], device='cuda:0'),\n",
       " tensor([-0.5086,  0.7983, -0.5179], device='cuda:0'),\n",
       " tensor([-0.3799,  0.4466, -0.9183], device='cuda:0'),\n",
       " tensor([-0.2256,  0.5213, -0.8876], device='cuda:0'),\n",
       " tensor([-0.3840,  0.5904, -0.7565], device='cuda:0'),\n",
       " tensor([-0.3013,  0.5040, -0.8836], device='cuda:0'),\n",
       " tensor([-0.4429,  0.5300, -0.8219], device='cuda:0'),\n",
       " tensor([-0.3989,  0.7104, -0.6644], device='cuda:0'),\n",
       " tensor([-0.2594,  0.4823, -0.9158], device='cuda:0'),\n",
       " tensor([-0.4610,  0.5451, -0.7792], device='cuda:0'),\n",
       " tensor([-0.3693,  0.4442, -0.9176], device='cuda:0'),\n",
       " tensor([-0.2990,  0.4551,  0.1721], device='cuda:0'),\n",
       " tensor([-0.1951,  0.3657,  0.0652], device='cuda:0'),\n",
       " tensor([-0.3844,  0.4466, -0.9135], device='cuda:0'),\n",
       " tensor([-0.2537,  0.6319,  0.3436], device='cuda:0'),\n",
       " tensor([-0.3213,  0.5623, -0.7752], device='cuda:0'),\n",
       " tensor([-0.0780,  0.4500, -0.9840], device='cuda:0'),\n",
       " tensor([ 0.1501,  0.1786, -0.3262], device='cuda:0'),\n",
       " tensor([-0.3550,  0.4989, -0.8689], device='cuda:0'),\n",
       " tensor([-0.0553,  0.2352, -0.1182], device='cuda:0'),\n",
       " tensor([-0.1931,  0.2708, -0.0795], device='cuda:0'),\n",
       " tensor([-0.1698,  0.3578,  0.0268], device='cuda:0'),\n",
       " tensor([-0.2347,  0.3543,  0.0291], device='cuda:0'),\n",
       " tensor([-0.1774,  0.2742, -0.0179], device='cuda:0'),\n",
       " tensor([-0.3818,  0.6944, -0.6456], device='cuda:0'),\n",
       " tensor([-0.3733,  0.5309, -0.8474], device='cuda:0'),\n",
       " tensor([-0.3844,  0.4466, -0.9135], device='cuda:0'),\n",
       " tensor([-0.1337,  0.3676,  0.0960], device='cuda:0'),\n",
       " tensor([-0.3364,  0.4557, -0.9307], device='cuda:0'),\n",
       " tensor([-0.4363,  0.5935, -0.7483], device='cuda:0'),\n",
       " tensor([-0.1030,  0.4707, -0.8920], device='cuda:0'),\n",
       " tensor([ 0.3011,  0.1706, -0.3613], device='cuda:0'),\n",
       " tensor([ 0.1323,  0.1801, -0.3647], device='cuda:0'),\n",
       " tensor([-0.3840,  0.5862, -0.7491], device='cuda:0'),\n",
       " tensor([-0.3414,  0.6520, -0.7222], device='cuda:0'),\n",
       " tensor([-0.4211,  0.5506, -0.7965], device='cuda:0'),\n",
       " tensor([-0.4268,  0.5667, -0.7783], device='cuda:0'),\n",
       " tensor([-0.4105,  0.4837, -0.8727], device='cuda:0'),\n",
       " tensor([-0.5197,  0.7253, -0.6005], device='cuda:0'),\n",
       " tensor([-0.2759,  0.4418, -0.9872], device='cuda:0'),\n",
       " tensor([-0.1729,  0.2395, -0.1049], device='cuda:0'),\n",
       " tensor([-0.1700,  0.3842,  0.0791], device='cuda:0'),\n",
       " tensor([-0.3350,  0.5942, -0.7808], device='cuda:0'),\n",
       " tensor([-0.1683,  0.3937,  0.0630], device='cuda:0'),\n",
       " tensor([-0.1387,  0.3985,  0.0498], device='cuda:0'),\n",
       " tensor([-0.3447,  0.6162, -0.7457], device='cuda:0'),\n",
       " tensor([-0.3844,  0.4466, -0.9135], device='cuda:0'),\n",
       " tensor([-0.3086,  0.6640,  0.3778], device='cuda:0'),\n",
       " tensor([-0.4033,  0.7010, -0.6397], device='cuda:0'),\n",
       " tensor([-0.1669,  0.2346, -0.1040], device='cuda:0'),\n",
       " tensor([-0.4012,  0.4864, -0.8735], device='cuda:0'),\n",
       " tensor([-0.4038,  0.5236, -0.8316], device='cuda:0'),\n",
       " tensor([-0.2745,  0.5378, -0.8338], device='cuda:0'),\n",
       " tensor([-0.3730,  0.6605, -0.7147], device='cuda:0'),\n",
       " tensor([-0.4496,  0.5426, -0.8077], device='cuda:0'),\n",
       " tensor([-0.4400,  0.5259, -0.8264], device='cuda:0'),\n",
       " tensor([-0.3844,  0.4466, -0.9135], device='cuda:0'),\n",
       " tensor([-0.2283,  0.4778,  0.1587], device='cuda:0'),\n",
       " tensor([-0.4172,  0.5090, -0.8484], device='cuda:0'),\n",
       " tensor([-0.2579,  0.4781, -0.9227], device='cuda:0'),\n",
       " tensor([-0.3313,  0.4482, -0.9621], device='cuda:0'),\n",
       " tensor([-0.2633,  0.4224, -1.0094], device='cuda:0'),\n",
       " tensor([-0.3405,  0.4946, -0.8932], device='cuda:0'),\n",
       " tensor([-0.3875,  0.6734, -0.6996], device='cuda:0'),\n",
       " tensor([-0.3618,  0.8866,  0.6182], device='cuda:0'),\n",
       " tensor([-0.5344,  0.7380, -0.5895], device='cuda:0'),\n",
       " tensor([-0.4538,  0.6386, -0.6928], device='cuda:0'),\n",
       " tensor([-0.4987,  0.6684, -0.6669], device='cuda:0'),\n",
       " tensor([-0.3344,  0.4499, -0.9534], device='cuda:0'),\n",
       " tensor([-0.1570,  0.3387, -1.0677], device='cuda:0'),\n",
       " tensor([-0.3936,  0.5054, -0.8725], device='cuda:0'),\n",
       " tensor([-0.4860,  0.6360, -0.7023], device='cuda:0'),\n",
       " tensor([-0.3944,  0.6314, -0.7277], device='cuda:0'),\n",
       " tensor([-0.4183,  0.5747, -0.7759], device='cuda:0'),\n",
       " tensor([-0.3228,  0.6397, -0.7848], device='cuda:0'),\n",
       " tensor([-0.3941,  0.7340, -0.6358], device='cuda:0'),\n",
       " tensor([-0.3037,  0.5487, -0.8514], device='cuda:0'),\n",
       " tensor([-0.3844,  0.4466, -0.9135], device='cuda:0'),\n",
       " tensor([-0.3096,  0.5216, -0.8548], device='cuda:0'),\n",
       " tensor([-0.4639,  0.8281, -0.5049], device='cuda:0'),\n",
       " tensor([-0.4220,  0.6535, -0.6952], device='cuda:0'),\n",
       " tensor([-0.4101,  0.5856, -0.7674], device='cuda:0'),\n",
       " tensor([-0.3545,  0.5921, -0.7835], device='cuda:0'),\n",
       " tensor([-0.4337,  0.7045, -0.6358], device='cuda:0'),\n",
       " tensor([-0.4159,  0.7497, -0.5885], device='cuda:0'),\n",
       " tensor([-0.2941,  0.4451, -0.9607], device='cuda:0'),\n",
       " tensor([-0.3425,  0.4976, -0.8961], device='cuda:0'),\n",
       " tensor([-0.1863,  0.5250, -0.9606], device='cuda:0'),\n",
       " tensor([-0.4218,  0.6901, -0.6551], device='cuda:0'),\n",
       " tensor([-0.3759,  0.5115, -0.8671], device='cuda:0'),\n",
       " tensor([-0.2841,  0.4191, -0.9943], device='cuda:0'),\n",
       " tensor([-0.3844,  0.4466, -0.9135], device='cuda:0'),\n",
       " tensor([-0.3779,  0.4435, -0.9171], device='cuda:0'),\n",
       " tensor([-0.3671,  0.7236, -0.6448], device='cuda:0'),\n",
       " tensor([-0.4708,  0.7654, -0.5748], device='cuda:0'),\n",
       " tensor([-0.3923,  0.5263, -0.8412], device='cuda:0'),\n",
       " tensor([-0.4309,  0.5900, -0.7594], device='cuda:0'),\n",
       " tensor([-0.4156,  0.5571, -0.7802], device='cuda:0'),\n",
       " tensor([-0.4078,  0.4800, -0.8768], device='cuda:0'),\n",
       " tensor([ 0.0358,  0.2806, -1.0397], device='cuda:0'),\n",
       " tensor([-0.4558,  0.6489, -0.6859], device='cuda:0'),\n",
       " tensor([-0.3428,  0.4172, -0.9243], device='cuda:0'),\n",
       " tensor([-0.3917,  0.6343, -0.7109], device='cuda:0'),\n",
       " tensor([-0.0909,  0.4239, -1.0182], device='cuda:0'),\n",
       " tensor([-0.3338,  0.4509, -0.9335], device='cuda:0'),\n",
       " tensor([-0.5191,  0.8750, -0.4483], device='cuda:0'),\n",
       " tensor([-0.2679,  0.3252,  0.0145], device='cuda:0'),\n",
       " tensor([-0.5037,  0.9684, -0.3525], device='cuda:0'),\n",
       " tensor([-0.2412,  0.3685,  0.0563], device='cuda:0'),\n",
       " tensor([-0.3628,  0.6177, -0.7357], device='cuda:0'),\n",
       " tensor([-0.3918,  0.6797, -0.6653], device='cuda:0'),\n",
       " tensor([-0.4714,  0.8535, -0.4831], device='cuda:0'),\n",
       " tensor([-0.2324,  0.4200, -0.9935], device='cuda:0'),\n",
       " tensor([-0.1323,  0.3535, -0.0027], device='cuda:0'),\n",
       " tensor([-0.0916,  0.2607, -0.0790], device='cuda:0'),\n",
       " tensor([-0.2521,  0.5054,  0.2116], device='cuda:0'),\n",
       " tensor([-0.1860,  0.3922,  0.0776], device='cuda:0'),\n",
       " tensor([-0.2704,  0.3675,  0.0631], device='cuda:0'),\n",
       " tensor([-0.1744,  0.3877, -0.9927], device='cuda:0'),\n",
       " tensor([-0.4596,  0.7848, -0.5555], device='cuda:0'),\n",
       " tensor([-0.3166,  0.4416, -0.9354], device='cuda:0'),\n",
       " tensor([-0.4200,  0.5474, -0.8001], device='cuda:0'),\n",
       " tensor([-0.3615,  0.5854, -0.7670], device='cuda:0'),\n",
       " tensor([-0.3268,  0.5433, -0.8032], device='cuda:0'),\n",
       " tensor([-0.3542,  0.6018, -0.7659], device='cuda:0'),\n",
       " tensor([-0.6230,  1.2380, -0.0585], device='cuda:0'),\n",
       " tensor([-0.3844,  0.4466, -0.9135], device='cuda:0'),\n",
       " tensor([-0.5008,  0.8792, -0.4479], device='cuda:0'),\n",
       " tensor([-0.4399,  0.5339, -0.8085], device='cuda:0'),\n",
       " tensor([-0.3323,  0.4919, -0.8725], device='cuda:0'),\n",
       " tensor([-0.4380,  0.5984, -0.7428], device='cuda:0'),\n",
       " tensor([-0.4123,  0.5286, -0.8224], device='cuda:0'),\n",
       " tensor([-0.3844,  0.4466, -0.9135], device='cuda:0'),\n",
       " tensor([-0.3965,  0.5837, -0.7740], device='cuda:0'),\n",
       " tensor([-0.3609,  0.4481, -0.9308], device='cuda:0'),\n",
       " tensor([-0.5825,  0.8439, -0.4566], device='cuda:0'),\n",
       " tensor([-0.1566,  0.4461, -0.9328], device='cuda:0'),\n",
       " tensor([-0.3731,  0.5930, -0.7621], device='cuda:0'),\n",
       " tensor([-0.4146,  0.6527, -0.6946], device='cuda:0'),\n",
       " tensor([-0.3348,  0.5807, -0.7641], device='cuda:0'),\n",
       " tensor([-0.3928,  0.4716, -0.8846], device='cuda:0'),\n",
       " tensor([-0.3776,  0.6132, -0.7113], device='cuda:0'),\n",
       " tensor([-0.1290,  0.4087, -1.0291], device='cuda:0'),\n",
       " tensor([-0.0281,  0.4537, -0.9717], device='cuda:0'),\n",
       " tensor([-0.1650,  0.4694, -0.9637], device='cuda:0'),\n",
       " tensor([-0.3730,  0.4474, -0.9213], device='cuda:0'),\n",
       " tensor([-0.3117,  0.4455, -0.9579], device='cuda:0'),\n",
       " tensor([-0.3604,  0.5471, -0.8055], device='cuda:0'),\n",
       " tensor([-0.3551,  0.5064, -0.9091], device='cuda:0'),\n",
       " tensor([-0.3980,  0.6622, -0.6801], device='cuda:0'),\n",
       " tensor([-0.3479,  0.5875, -0.8001], device='cuda:0'),\n",
       " tensor([-0.3844,  0.4466, -0.9135], device='cuda:0'),\n",
       " tensor([-0.3644,  0.6684, -0.6875], device='cuda:0'),\n",
       " tensor([-0.5037,  0.6820, -0.6516], device='cuda:0'),\n",
       " tensor([-0.3598,  0.5111, -0.8550], device='cuda:0'),\n",
       " tensor([-0.4745,  0.6351, -0.7033], device='cuda:0'),\n",
       " tensor([-0.4525,  0.7529, -0.5839], device='cuda:0'),\n",
       " tensor([-0.3311,  0.4429, -0.9369], device='cuda:0'),\n",
       " tensor([-0.3212,  0.5452, -0.8025], device='cuda:0'),\n",
       " tensor([-0.4845,  0.9834, -0.3362], device='cuda:0'),\n",
       " tensor([-0.4719,  0.8467, -0.4843], device='cuda:0'),\n",
       " tensor([-0.4430,  0.7418, -0.6016], device='cuda:0'),\n",
       " tensor([-0.1817,  0.3388,  0.0278], device='cuda:0'),\n",
       " tensor([-0.3142,  0.4625, -0.9122], device='cuda:0'),\n",
       " tensor([-0.4190,  0.4976, -0.8628], device='cuda:0'),\n",
       " tensor([-0.3812,  0.4472, -0.9170], device='cuda:0'),\n",
       " tensor([-0.3445,  0.5879, -0.8015], device='cuda:0'),\n",
       " tensor([-0.4292,  0.5896, -0.7597], device='cuda:0'),\n",
       " tensor([-0.1225,  0.3577, -1.0775], device='cuda:0'),\n",
       " tensor([-0.3141,  0.4532, -0.9469], device='cuda:0'),\n",
       " tensor([-0.4754,  0.8828, -0.4439], device='cuda:0'),\n",
       " tensor([-0.4462,  0.5751, -0.7702], device='cuda:0'),\n",
       " tensor([-0.4344,  0.6157, -0.7348], device='cuda:0'),\n",
       " tensor([-0.2677,  0.5562, -0.8591], device='cuda:0'),\n",
       " tensor([-0.3844,  0.4466, -0.9135], device='cuda:0'),\n",
       " tensor([-0.3244,  0.4914, -0.8875], device='cuda:0'),\n",
       " tensor([-0.4330,  0.5204, -0.8292], device='cuda:0'),\n",
       " tensor([-0.3805,  0.5314, -0.8455], device='cuda:0'),\n",
       " tensor([-0.4696,  0.8070, -0.5334], device='cuda:0'),\n",
       " tensor([-0.1631,  0.4662, -0.9756], device='cuda:0'),\n",
       " tensor([-0.3922,  0.5202, -0.8315], device='cuda:0'),\n",
       " tensor([-0.3848,  0.5210, -0.8436], device='cuda:0'),\n",
       " tensor([-0.2533,  0.5791, -0.8632], device='cuda:0'),\n",
       " tensor([-0.1853,  0.3152, -0.0040], device='cuda:0'),\n",
       " tensor([-0.1901,  0.2285, -0.1032], device='cuda:0'),\n",
       " tensor([-0.1413,  0.4073, -0.9517], device='cuda:0'),\n",
       " tensor([ 0.0396,  0.2058, -0.2269], device='cuda:0'),\n",
       " tensor([-0.0611,  0.2493, -0.0810], device='cuda:0'),\n",
       " tensor([-0.4077,  0.5210, -0.8655], device='cuda:0'),\n",
       " tensor([-0.1872,  0.4790,  0.1592], device='cuda:0'),\n",
       " tensor([-0.1972,  0.4648,  0.1256], device='cuda:0'),\n",
       " tensor([-0.2443,  0.7256,  0.4381], device='cuda:0'),\n",
       " tensor([-0.2382,  0.3171, -0.0224], device='cuda:0'),\n",
       " tensor([-0.2266,  0.5633, -0.8085], device='cuda:0'),\n",
       " tensor([-0.1216,  0.3418,  0.0168], device='cuda:0'),\n",
       " tensor([ 0.0985,  0.2149, -0.1355], device='cuda:0'),\n",
       " tensor([-0.1183,  0.3725, -0.0039], device='cuda:0'),\n",
       " tensor([-0.4164,  0.4922, -0.8634], device='cuda:0'),\n",
       " tensor([-0.2115,  0.4131,  0.0904], device='cuda:0'),\n",
       " tensor([-0.1370,  0.3992,  0.0188], device='cuda:0'),\n",
       " tensor([-0.4172,  0.5281, -0.8343], device='cuda:0'),\n",
       " tensor([-0.0512,  0.1192, -0.1623], device='cuda:0'),\n",
       " tensor([-0.3942,  0.4772, -0.8845], device='cuda:0'),\n",
       " tensor([-0.3729,  0.5957, -0.7593], device='cuda:0'),\n",
       " tensor([-0.2817,  0.4144,  0.1127], device='cuda:0'),\n",
       " tensor([-0.2733,  0.6041,  0.3117], device='cuda:0'),\n",
       " tensor([-0.2758,  0.3916,  0.0904], device='cuda:0'),\n",
       " tensor([-0.2193,  0.4267,  0.1162], device='cuda:0'),\n",
       " tensor([-0.0790,  0.2505, -0.0925], device='cuda:0'),\n",
       " tensor([-0.2095,  0.4862,  0.1875], device='cuda:0'),\n",
       " tensor([-0.1739,  0.3882,  0.0824], device='cuda:0'),\n",
       " tensor([-0.1229,  0.3933,  0.0288], device='cuda:0'),\n",
       " tensor([-0.1749,  0.2315, -0.1201], device='cuda:0'),\n",
       " tensor([-0.2354,  0.3303,  0.0230], device='cuda:0'),\n",
       " tensor([-0.1875,  0.3936,  0.0784], device='cuda:0'),\n",
       " tensor([-0.2041,  0.2343, -0.0853], device='cuda:0'),\n",
       " tensor([-0.1988,  0.2267, -0.0935], device='cuda:0'),\n",
       " tensor([-0.2387,  0.2837, -0.0311], device='cuda:0'),\n",
       " tensor([-0.2021,  0.5376,  0.2341], device='cuda:0'),\n",
       " tensor([-0.1777,  0.2304, -0.1083], device='cuda:0'),\n",
       " tensor([-0.1967,  0.4118,  0.1024], device='cuda:0'),\n",
       " tensor([-0.1867,  0.2879, -0.0424], device='cuda:0'),\n",
       " tensor([-0.3677,  0.6624, -0.6903], device='cuda:0'),\n",
       " tensor([-0.3105,  0.4694,  0.1774], device='cuda:0'),\n",
       " tensor([-0.1901,  0.2656, -0.0904], device='cuda:0'),\n",
       " tensor([-0.3153,  0.5667, -0.8357], device='cuda:0'),\n",
       " tensor([-0.4211,  0.7951, -0.5397], device='cuda:0'),\n",
       " ...]"
      ]
     },
     "execution_count": 59,
     "metadata": {},
     "output_type": "execute_result"
    }
   ],
   "source": [
    "y_pred = merge2networks.run(test_data, modelPath_predict='checkpoints/prediction.pth')"
   ]
  },
  {
   "cell_type": "code",
   "execution_count": 61,
   "metadata": {},
   "outputs": [
    {
     "data": {
      "text/plain": [
       "[1,\n",
       " 1,\n",
       " 1,\n",
       " 1,\n",
       " 0,\n",
       " 0,\n",
       " 0,\n",
       " 0,\n",
       " 0,\n",
       " 1,\n",
       " 0,\n",
       " 2,\n",
       " 0,\n",
       " 0,\n",
       " 1,\n",
       " 1,\n",
       " 2,\n",
       " 1,\n",
       " 2,\n",
       " 2,\n",
       " 2,\n",
       " 2,\n",
       " 0,\n",
       " 0,\n",
       " 0,\n",
       " 1,\n",
       " 0,\n",
       " 0,\n",
       " 0,\n",
       " 0,\n",
       " 0,\n",
       " 1,\n",
       " 2,\n",
       " 2,\n",
       " 2,\n",
       " 2,\n",
       " 1,\n",
       " 0,\n",
       " 1,\n",
       " 0,\n",
       " 1,\n",
       " 1,\n",
       " 1,\n",
       " 1,\n",
       " 0,\n",
       " 0,\n",
       " 1,\n",
       " 1,\n",
       " 1,\n",
       " 0,\n",
       " 1,\n",
       " 1,\n",
       " 1,\n",
       " 1,\n",
       " 0,\n",
       " 0,\n",
       " 1,\n",
       " 1,\n",
       " 0,\n",
       " 1,\n",
       " 1,\n",
       " 0,\n",
       " 1,\n",
       " 1,\n",
       " 0,\n",
       " 0,\n",
       " 0,\n",
       " 0,\n",
       " 0,\n",
       " 1,\n",
       " 0,\n",
       " 0,\n",
       " 0,\n",
       " 1,\n",
       " 1,\n",
       " 1,\n",
       " 2,\n",
       " 0,\n",
       " 2,\n",
       " 0,\n",
       " 0,\n",
       " 0,\n",
       " 0,\n",
       " 2,\n",
       " 0,\n",
       " 2,\n",
       " 1,\n",
       " 0,\n",
       " 2,\n",
       " 0,\n",
       " 2,\n",
       " 1,\n",
       " 1,\n",
       " 1,\n",
       " 1,\n",
       " 1,\n",
       " 1,\n",
       " 1,\n",
       " 1,\n",
       " 1,\n",
       " 1,\n",
       " 1,\n",
       " 1,\n",
       " 1,\n",
       " 0,\n",
       " 2,\n",
       " 2,\n",
       " 0,\n",
       " 0,\n",
       " 0,\n",
       " 0,\n",
       " 2,\n",
       " 2,\n",
       " 0,\n",
       " 0,\n",
       " 1,\n",
       " 2,\n",
       " 2,\n",
       " 1,\n",
       " 2,\n",
       " 2,\n",
       " 2,\n",
       " 2,\n",
       " 0,\n",
       " 0,\n",
       " 0,\n",
       " 0,\n",
       " 0,\n",
       " 2,\n",
       " 0,\n",
       " 2,\n",
       " 1,\n",
       " 1,\n",
       " 1,\n",
       " 0,\n",
       " 0,\n",
       " 1,\n",
       " 1,\n",
       " 1,\n",
       " 1,\n",
       " 1,\n",
       " 1,\n",
       " 2,\n",
       " 1,\n",
       " 0,\n",
       " 2,\n",
       " 1,\n",
       " 1,\n",
       " 0,\n",
       " 0,\n",
       " 1,\n",
       " 1,\n",
       " 0,\n",
       " 1,\n",
       " 2,\n",
       " 2,\n",
       " 2,\n",
       " 1,\n",
       " 1,\n",
       " 1,\n",
       " 2,\n",
       " 1,\n",
       " 1,\n",
       " 1,\n",
       " 0,\n",
       " 1,\n",
       " 1,\n",
       " 0,\n",
       " 0,\n",
       " 2,\n",
       " 1,\n",
       " 2,\n",
       " 1,\n",
       " 0,\n",
       " 2,\n",
       " 2,\n",
       " 1,\n",
       " 2,\n",
       " 2,\n",
       " 1,\n",
       " 1,\n",
       " 1,\n",
       " 0,\n",
       " 2,\n",
       " 1,\n",
       " 0,\n",
       " 0,\n",
       " 1,\n",
       " 2,\n",
       " 2,\n",
       " 1,\n",
       " 2,\n",
       " 1,\n",
       " 1,\n",
       " 1,\n",
       " 2,\n",
       " 1,\n",
       " 1,\n",
       " 1,\n",
       " 1,\n",
       " 1,\n",
       " 2,\n",
       " 2,\n",
       " 2,\n",
       " 2,\n",
       " 2,\n",
       " 1,\n",
       " 1,\n",
       " 1,\n",
       " 1,\n",
       " 1,\n",
       " 2,\n",
       " 0,\n",
       " 1,\n",
       " 1,\n",
       " 1,\n",
       " 2,\n",
       " 2,\n",
       " 1,\n",
       " 1,\n",
       " 1,\n",
       " 1,\n",
       " 2,\n",
       " 0,\n",
       " 0,\n",
       " 1,\n",
       " 1,\n",
       " 0,\n",
       " 2,\n",
       " 2,\n",
       " 2,\n",
       " 1,\n",
       " 1,\n",
       " 2,\n",
       " 2,\n",
       " 1,\n",
       " 0,\n",
       " 1,\n",
       " 2,\n",
       " 2,\n",
       " 2,\n",
       " 1,\n",
       " 1,\n",
       " 0,\n",
       " 0,\n",
       " 1,\n",
       " 2,\n",
       " 1,\n",
       " 1,\n",
       " 1,\n",
       " 1,\n",
       " 1,\n",
       " 1,\n",
       " 1,\n",
       " 1,\n",
       " 2,\n",
       " 2,\n",
       " 2,\n",
       " 2,\n",
       " 2,\n",
       " 0,\n",
       " 2,\n",
       " 0,\n",
       " 1,\n",
       " 2,\n",
       " 2,\n",
       " 2,\n",
       " 1,\n",
       " 2,\n",
       " 2,\n",
       " 1,\n",
       " 1,\n",
       " 1,\n",
       " 0,\n",
       " 1,\n",
       " 2,\n",
       " 1,\n",
       " 0,\n",
       " 0,\n",
       " 1,\n",
       " 1,\n",
       " 1,\n",
       " 1,\n",
       " 1,\n",
       " 1,\n",
       " 1,\n",
       " 0,\n",
       " 0,\n",
       " 0,\n",
       " 2,\n",
       " 0,\n",
       " 0,\n",
       " 2,\n",
       " 2,\n",
       " 1,\n",
       " 0,\n",
       " 0,\n",
       " 0,\n",
       " 1,\n",
       " 1,\n",
       " 0,\n",
       " 0,\n",
       " 0,\n",
       " 0,\n",
       " 0,\n",
       " 1,\n",
       " 2,\n",
       " 2,\n",
       " 2,\n",
       " 2,\n",
       " 1,\n",
       " 1,\n",
       " 2,\n",
       " 0,\n",
       " 2,\n",
       " 2,\n",
       " 2,\n",
       " 2,\n",
       " 2,\n",
       " 0,\n",
       " 0,\n",
       " 0,\n",
       " 2,\n",
       " 0,\n",
       " 0,\n",
       " 1,\n",
       " 2,\n",
       " 0,\n",
       " 0,\n",
       " 1,\n",
       " 0,\n",
       " 0,\n",
       " 0,\n",
       " 0,\n",
       " 2,\n",
       " 2,\n",
       " 2,\n",
       " 1,\n",
       " 1,\n",
       " 2,\n",
       " 2,\n",
       " 0,\n",
       " 0,\n",
       " 1,\n",
       " 1,\n",
       " 2,\n",
       " 2,\n",
       " 2,\n",
       " 2,\n",
       " 1,\n",
       " 1,\n",
       " 2,\n",
       " 2,\n",
       " 2,\n",
       " 2,\n",
       " 2,\n",
       " 2,\n",
       " 2,\n",
       " 2,\n",
       " 2,\n",
       " 2,\n",
       " 1,\n",
       " 1,\n",
       " 2,\n",
       " 2,\n",
       " 2,\n",
       " 1,\n",
       " 2,\n",
       " 2,\n",
       " 2,\n",
       " 2,\n",
       " 2,\n",
       " 0,\n",
       " 0,\n",
       " 0,\n",
       " 0,\n",
       " 1,\n",
       " 1,\n",
       " 0,\n",
       " 1,\n",
       " 0,\n",
       " 0,\n",
       " 2,\n",
       " 2,\n",
       " 2,\n",
       " 0,\n",
       " 2,\n",
       " 0,\n",
       " 2,\n",
       " 0,\n",
       " 2,\n",
       " 1,\n",
       " 1,\n",
       " 0,\n",
       " 1,\n",
       " 0,\n",
       " 0,\n",
       " 0,\n",
       " 0,\n",
       " 0,\n",
       " 2,\n",
       " 2,\n",
       " 2,\n",
       " 0,\n",
       " 2,\n",
       " 2,\n",
       " 0,\n",
       " 1,\n",
       " 1,\n",
       " 1,\n",
       " 1,\n",
       " 2,\n",
       " 1,\n",
       " 1,\n",
       " 1,\n",
       " 1,\n",
       " 2,\n",
       " 1,\n",
       " 1,\n",
       " 1,\n",
       " 1,\n",
       " 2,\n",
       " 1,\n",
       " 1,\n",
       " 1,\n",
       " 1,\n",
       " 0,\n",
       " 1,\n",
       " 1,\n",
       " 1,\n",
       " 0,\n",
       " 0,\n",
       " 1,\n",
       " 0,\n",
       " 2,\n",
       " 1,\n",
       " 0,\n",
       " 1,\n",
       " 1,\n",
       " 1,\n",
       " 1,\n",
       " 1,\n",
       " 2,\n",
       " 1,\n",
       " 1,\n",
       " 1,\n",
       " 1,\n",
       " 1,\n",
       " 1,\n",
       " 0,\n",
       " 1,\n",
       " 1,\n",
       " 0,\n",
       " 1,\n",
       " 0,\n",
       " 2,\n",
       " 1,\n",
       " 0,\n",
       " 0,\n",
       " 0,\n",
       " 0,\n",
       " 0,\n",
       " 0,\n",
       " 2,\n",
       " 0,\n",
       " 0,\n",
       " 1,\n",
       " 2,\n",
       " 2,\n",
       " 2,\n",
       " 1,\n",
       " 1,\n",
       " 2,\n",
       " 2,\n",
       " 2,\n",
       " 2,\n",
       " 2,\n",
       " 2,\n",
       " 0,\n",
       " 0,\n",
       " 1,\n",
       " 0,\n",
       " 0,\n",
       " 1,\n",
       " 1,\n",
       " 2,\n",
       " 2,\n",
       " 2,\n",
       " 0,\n",
       " 0,\n",
       " 1,\n",
       " 1,\n",
       " 1,\n",
       " 1,\n",
       " 1,\n",
       " 1,\n",
       " 0,\n",
       " 0,\n",
       " 0,\n",
       " 1,\n",
       " 0,\n",
       " 1,\n",
       " 1,\n",
       " 0,\n",
       " 2,\n",
       " 2,\n",
       " 0,\n",
       " 2,\n",
       " 0,\n",
       " 0,\n",
       " 1,\n",
       " 2,\n",
       " 1,\n",
       " 1,\n",
       " 2,\n",
       " 0,\n",
       " 0,\n",
       " 0,\n",
       " 0,\n",
       " 0,\n",
       " 0,\n",
       " 1,\n",
       " 0,\n",
       " 2,\n",
       " 2,\n",
       " 2,\n",
       " 0,\n",
       " 0,\n",
       " 0,\n",
       " 0,\n",
       " 2,\n",
       " 2,\n",
       " 2,\n",
       " 2,\n",
       " 2,\n",
       " 2,\n",
       " 2,\n",
       " 1,\n",
       " 2,\n",
       " 0,\n",
       " 0,\n",
       " 0,\n",
       " 2,\n",
       " 2,\n",
       " 1,\n",
       " 0,\n",
       " 1,\n",
       " 0,\n",
       " 0,\n",
       " 2,\n",
       " 1,\n",
       " 0,\n",
       " 0,\n",
       " 2,\n",
       " 0,\n",
       " 2,\n",
       " 1,\n",
       " 1,\n",
       " 1,\n",
       " 0,\n",
       " 0,\n",
       " 0,\n",
       " 2,\n",
       " 2,\n",
       " 0,\n",
       " 0,\n",
       " 2,\n",
       " 2,\n",
       " 2,\n",
       " 1,\n",
       " 1,\n",
       " 2,\n",
       " 1,\n",
       " 1,\n",
       " 2,\n",
       " 2,\n",
       " 2,\n",
       " 1,\n",
       " 1,\n",
       " 1,\n",
       " 2,\n",
       " 2,\n",
       " 1,\n",
       " 1,\n",
       " 2,\n",
       " 1,\n",
       " 2,\n",
       " 0,\n",
       " 2,\n",
       " 2,\n",
       " 0,\n",
       " 0,\n",
       " 0,\n",
       " 2,\n",
       " 1,\n",
       " 0,\n",
       " 0,\n",
       " 2,\n",
       " 0,\n",
       " 0,\n",
       " 0,\n",
       " 2,\n",
       " 0,\n",
       " 0,\n",
       " 1,\n",
       " 1,\n",
       " 1,\n",
       " 0,\n",
       " 0,\n",
       " 0,\n",
       " 0,\n",
       " 0,\n",
       " 0,\n",
       " 0,\n",
       " 0,\n",
       " 0,\n",
       " 0,\n",
       " 0,\n",
       " 0,\n",
       " 0,\n",
       " 2,\n",
       " 2,\n",
       " 2,\n",
       " 1,\n",
       " 0,\n",
       " 1,\n",
       " 0,\n",
       " 0,\n",
       " 0,\n",
       " 0,\n",
       " 0,\n",
       " 2,\n",
       " 0,\n",
       " 2,\n",
       " 0,\n",
       " 2,\n",
       " 1,\n",
       " 1,\n",
       " 0,\n",
       " 2,\n",
       " 0,\n",
       " 0,\n",
       " 1,\n",
       " 2,\n",
       " 2,\n",
       " 2,\n",
       " 0,\n",
       " 1,\n",
       " 1,\n",
       " 2,\n",
       " 0,\n",
       " 0,\n",
       " 1,\n",
       " 0,\n",
       " 0,\n",
       " 0,\n",
       " 0,\n",
       " 0,\n",
       " 0,\n",
       " 0,\n",
       " 0,\n",
       " 0,\n",
       " 0,\n",
       " 0,\n",
       " 1,\n",
       " 2,\n",
       " 0,\n",
       " 0,\n",
       " 0,\n",
       " 0,\n",
       " 0,\n",
       " 1,\n",
       " 0,\n",
       " 0,\n",
       " 2,\n",
       " 0,\n",
       " 0,\n",
       " 0,\n",
       " 1,\n",
       " 1,\n",
       " 0,\n",
       " 0,\n",
       " 0,\n",
       " 0,\n",
       " 0,\n",
       " 0,\n",
       " 0,\n",
       " 2,\n",
       " 0,\n",
       " 0,\n",
       " 0,\n",
       " 0,\n",
       " 0,\n",
       " 1,\n",
       " 1,\n",
       " 1,\n",
       " 1,\n",
       " 0,\n",
       " 0,\n",
       " 0,\n",
       " 0,\n",
       " 2,\n",
       " 0,\n",
       " 1,\n",
       " 0,\n",
       " 0,\n",
       " 0,\n",
       " 0,\n",
       " 0,\n",
       " 1,\n",
       " 0,\n",
       " 0,\n",
       " 0,\n",
       " 0,\n",
       " 0,\n",
       " 0,\n",
       " 0,\n",
       " 0,\n",
       " 0,\n",
       " 0,\n",
       " 0,\n",
       " 0,\n",
       " 0,\n",
       " 0,\n",
       " 0,\n",
       " 0,\n",
       " 0,\n",
       " 0,\n",
       " 1,\n",
       " 0,\n",
       " 0,\n",
       " 0,\n",
       " 0,\n",
       " 0,\n",
       " 0,\n",
       " 1,\n",
       " 1,\n",
       " 1,\n",
       " 0,\n",
       " 1,\n",
       " 0,\n",
       " 2,\n",
       " 1,\n",
       " 0,\n",
       " 1,\n",
       " 0,\n",
       " 0,\n",
       " 0,\n",
       " 0,\n",
       " 0,\n",
       " 2,\n",
       " 2,\n",
       " 0,\n",
       " 0,\n",
       " 0,\n",
       " 0,\n",
       " 0,\n",
       " 0,\n",
       " 0,\n",
       " 0,\n",
       " 0,\n",
       " 0,\n",
       " 1,\n",
       " 0,\n",
       " 1,\n",
       " 1,\n",
       " 1,\n",
       " 0,\n",
       " 1,\n",
       " 1,\n",
       " 1,\n",
       " 2,\n",
       " 0,\n",
       " 0,\n",
       " 2,\n",
       " 2,\n",
       " 0,\n",
       " 1,\n",
       " 0,\n",
       " 1,\n",
       " 1,\n",
       " 1,\n",
       " 0,\n",
       " 0,\n",
       " 2,\n",
       " 2,\n",
       " 2,\n",
       " 1,\n",
       " 1,\n",
       " 1,\n",
       " 1,\n",
       " 1,\n",
       " 1,\n",
       " 1,\n",
       " 2,\n",
       " 1,\n",
       " 0,\n",
       " 1,\n",
       " 1,\n",
       " 1,\n",
       " 2,\n",
       " 0,\n",
       " 1,\n",
       " 2,\n",
       " 0,\n",
       " 0,\n",
       " 0,\n",
       " 1,\n",
       " 1,\n",
       " 1,\n",
       " 0,\n",
       " 0,\n",
       " 2,\n",
       " 1,\n",
       " 2,\n",
       " 0,\n",
       " 0,\n",
       " 1,\n",
       " 1,\n",
       " 1,\n",
       " 1,\n",
       " 1,\n",
       " 0,\n",
       " 1,\n",
       " 0,\n",
       " 1,\n",
       " 1,\n",
       " 2,\n",
       " 1,\n",
       " 2,\n",
       " 0,\n",
       " 1,\n",
       " 1,\n",
       " 1,\n",
       " 2,\n",
       " 2,\n",
       " 0,\n",
       " 0,\n",
       " 0,\n",
       " 0,\n",
       " 0,\n",
       " 0,\n",
       " 0,\n",
       " 0,\n",
       " 2,\n",
       " 2,\n",
       " 2,\n",
       " 0,\n",
       " 0,\n",
       " 1,\n",
       " 0,\n",
       " 1,\n",
       " 0,\n",
       " 1,\n",
       " 0,\n",
       " 0,\n",
       " 0,\n",
       " 0,\n",
       " 0,\n",
       " 1,\n",
       " 0,\n",
       " 0,\n",
       " 0,\n",
       " 0,\n",
       " 0,\n",
       " 1,\n",
       " 1,\n",
       " 1,\n",
       " 1,\n",
       " 0,\n",
       " 0,\n",
       " 0,\n",
       " 0,\n",
       " 0,\n",
       " 0,\n",
       " 1,\n",
       " 0,\n",
       " 0,\n",
       " 0,\n",
       " 0,\n",
       " 0,\n",
       " 0,\n",
       " 1,\n",
       " 1,\n",
       " 0,\n",
       " 2,\n",
       " 1,\n",
       " 1,\n",
       " 1,\n",
       " 1,\n",
       " 1,\n",
       " 2,\n",
       " 2,\n",
       " 2,\n",
       " 2,\n",
       " 2,\n",
       " 2,\n",
       " 1,\n",
       " 2,\n",
       " 2,\n",
       " 2,\n",
       " 2,\n",
       " 2,\n",
       " 2,\n",
       " 2,\n",
       " 2,\n",
       " 2,\n",
       " 2,\n",
       " 1,\n",
       " 0,\n",
       " 1,\n",
       " 1,\n",
       " 1,\n",
       " 0,\n",
       " 0,\n",
       " 0,\n",
       " 0,\n",
       " 0,\n",
       " 0,\n",
       " 0,\n",
       " 0,\n",
       " 1,\n",
       " 1,\n",
       " 0,\n",
       " 2,\n",
       " 1,\n",
       " 2,\n",
       " 2,\n",
       " 2,\n",
       " 2,\n",
       " 2,\n",
       " 0,\n",
       " 0,\n",
       " 0,\n",
       " 2,\n",
       " 2,\n",
       " 2,\n",
       " 2,\n",
       " 2,\n",
       " 2,\n",
       " 2,\n",
       " 2,\n",
       " 2,\n",
       " 0,\n",
       " 0,\n",
       " 0,\n",
       " 2,\n",
       " 2,\n",
       " 2,\n",
       " 2,\n",
       " 2,\n",
       " 0,\n",
       " 0,\n",
       " 0,\n",
       " 0,\n",
       " 0,\n",
       " 2,\n",
       " 2,\n",
       " 2,\n",
       " 0,\n",
       " 2,\n",
       " 1,\n",
       " 2,\n",
       " 2,\n",
       " 2,\n",
       " 1,\n",
       " 2,\n",
       " 2,\n",
       " 0,\n",
       " 0,\n",
       " 0,\n",
       " 0,\n",
       " 0,\n",
       " 0,\n",
       " 0,\n",
       " 0,\n",
       " 0,\n",
       " 0,\n",
       " 0,\n",
       " 0,\n",
       " 1,\n",
       " 0,\n",
       " 0,\n",
       " 1,\n",
       " 0,\n",
       " 0,\n",
       " 0,\n",
       " 0,\n",
       " 0,\n",
       " 2,\n",
       " 2,\n",
       " 2,\n",
       " 0,\n",
       " 2,\n",
       " 2,\n",
       " 0,\n",
       " 0,\n",
       " 2,\n",
       " 2,\n",
       " 2,\n",
       " ...]"
      ]
     },
     "execution_count": 61,
     "metadata": {},
     "output_type": "execute_result"
    }
   ],
   "source": [
    "y_true = list(map(int,test_data.sentiment))"
   ]
  },
  {
   "cell_type": "code",
   "execution_count": null,
   "metadata": {},
   "outputs": [],
   "source": [
    "print(classification_report(y_true=y_true, y_pred=y_pred, target_names=['neutral','negative','positive']))"
   ]
  },
  {
   "cell_type": "code",
   "execution_count": null,
   "metadata": {},
   "outputs": [],
   "source": [
    "cf_matrix = confusion_matrix(y_true=y_true, y_pred=y_pred)\n",
    "\n",
    "sb.heatmap(cf_matrix,\n",
    "           annot=True,\n",
    "           fmt='d',\n",
    "           cmap='viridis',\n",
    "           xticklabels=['neutral','negative','positive'],\n",
    "           yticklabels=['neutral','negative','positive'])\n",
    "plt.xlabel('Predicted label')\n",
    "plt.ylabel('True label')\n",
    "plt.show()"
   ]
  }
 ],
 "metadata": {
  "kernelspec": {
   "display_name": "Python 3",
   "language": "python",
   "name": "python3"
  },
  "language_info": {
   "codemirror_mode": {
    "name": "ipython",
    "version": 3
   },
   "file_extension": ".py",
   "mimetype": "text/x-python",
   "name": "python",
   "nbconvert_exporter": "python",
   "pygments_lexer": "ipython3",
   "version": "3.10.6"
  },
  "orig_nbformat": 4,
  "vscode": {
   "interpreter": {
    "hash": "916dbcbb3f70747c44a77c7bcd40155683ae19c65e1c03b4aa3499c5328201f1"
   }
  }
 },
 "nbformat": 4,
 "nbformat_minor": 2
}
