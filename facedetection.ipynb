{
  "cells": [
    {
      "attachments": {},
      "cell_type": "markdown",
      "metadata": {
        "id": "cUuPsRwzhsCe"
      },
      "source": [
        "# Prepairation"
      ]
    },
    {
      "cell_type": "code",
      "execution_count": null,
      "metadata": {
        "colab": {
          "base_uri": "https://localhost:8080/"
        },
        "id": "QRZdJFtEwAqt",
        "outputId": "a6682c75-ee78-45fd-9abc-49cd71e04482"
      },
      "outputs": [],
      "source": [
        "from google.colab import drive\n",
        "drive.mount('/content/drive/')\n",
        "\n",
        "rootDir = '/content/drive/MyDrive/deepLearningProject/*'\n",
        "!cp -r $rootDir .\n",
        "\n"
      ]
    },
    {
      "cell_type": "code",
      "execution_count": null,
      "metadata": {
        "id": "KCyCH8OcvaiB"
      },
      "outputs": [],
      "source": [
        "!pip install --upgrade --no-cache-dir gdown \n",
        "! pip install insightface\n",
        "! pip install onnxruntime-gpu"
      ]
    },
    {
      "attachments": {},
      "cell_type": "markdown",
      "metadata": {
        "id": "aTVu33WzDDDu"
      },
      "source": [
        "# 1-1 face detection "
      ]
    },
    {
      "cell_type": "code",
      "execution_count": 1,
      "metadata": {
        "id": "RUb7_Qx864Re"
      },
      "outputs": [],
      "source": [
        "import torch\n",
        "import torch.nn as nn\n",
        "from torch.utils.data import Dataset, DataLoader\n",
        "from torchvision.transforms import ToTensor, Resize, Compose\n",
        "from torchvision.models import resnet50, ResNet50_Weights\n",
        "\n",
        "from libs.MSCTDdataset import MSCTD\n",
        "from libs.transforms import Compose,toTensor,resize\n",
        "\n",
        "import insightface\n",
        "from insightface.app import FaceAnalysis\n",
        "from insightface.data import get_image as ins_get_image\n",
        "from libs.faceExtractor import faceExtractor\n",
        "import seaborn as sb\n",
        "import numpy as np\n",
        "import matplotlib.pyplot as plt\n",
        "import cv2\n",
        "import pickle \n",
        "from sklearn.metrics import confusion_matrix\n",
        "from sklearn.metrics import classification_report\n",
        "\n",
        "\n",
        "\n"
      ]
    },
    {
      "cell_type": "code",
      "execution_count": null,
      "metadata": {
        "id": "QoH5yhiuhy5E"
      },
      "outputs": [],
      "source": [
        "data_transforms =Compose([ToTensor(),Resize((640, 640)),])\n",
        "training_data = MSCTD(\n",
        "        mode='train', \n",
        "        transformer=data_transforms,\n",
        "        download=True,\n",
        "        root_dir=\".\",\n",
        "        read_mode=\"single\")\n",
        "\n",
        "valid_data = MSCTD(\n",
        "        mode='validation',\n",
        "        transformer=data_transforms,\n",
        "        download=True,\n",
        "        root_dir=\".\",\n",
        "        read_mode=\"single\")\n",
        "\n",
        "test_data = MSCTD(\n",
        "        mode='test',\n",
        "        transformer=data_transforms,\n",
        "        download=True,\n",
        "        root_dir=\".\",\n",
        "        read_mode=\"single\")"
      ]
    },
    {
      "attachments": {},
      "cell_type": "markdown",
      "metadata": {},
      "source": [
        " ابولفصل تمام سلول های این بخش بدون آگمنتیشن هستند"
      ]
    },
    {
      "cell_type": "code",
      "execution_count": null,
      "metadata": {
        "colab": {
          "base_uri": "https://localhost:8080/",
          "height": 689
        },
        "id": "DhqtK6NbgH74",
        "outputId": "0fee4ad2-bf05-4bc2-f9a8-af95a041331c"
      },
      "outputs": [],
      "source": [
        "face_train=faceExtractor(rootDir=\".\",mode=\"train\")\n",
        "face_train.run(training_data)\n",
        "print(f\"[train] number of images that has no detected face in it :{face_train.fault}\")"
      ]
    },
    {
      "cell_type": "code",
      "execution_count": null,
      "metadata": {
        "colab": {
          "base_uri": "https://localhost:8080/",
          "height": 581
        },
        "id": "oAdnp4tB-RQP",
        "outputId": "4db7a398-3c99-408e-bc67-ebb5cf9fbe49"
      },
      "outputs": [],
      "source": [
        "face_validation=faceExtractor(rootDir=\".\",mode=\"validation\")\n",
        "face_validation.run(valid_data)\n",
        "print(f\"[validation] number of images that has no detected face in it :{face_validation.fault}\")"
      ]
    },
    {
      "cell_type": "code",
      "execution_count": null,
      "metadata": {
        "id": "YvY-O8Z1-Rs1"
      },
      "outputs": [],
      "source": [
        "face_test=faceExtractor(rootDir=\".\",mode=\"test\")\n",
        "face_test.run(test_data)\n",
        "print(f\"[test] number of images that has no detected face in it :{face_validation.fault}\")"
      ]
    },
    {
      "attachments": {},
      "cell_type": "markdown",
      "metadata": {
        "id": "X5I-HWeV-mdL"
      },
      "source": [
        "# 1-2 Learning an Network on face (DAN)"
      ]
    },
    {
      "cell_type": "code",
      "execution_count": null,
      "metadata": {
        "id": "lp9ymh73-6eF"
      },
      "outputs": [],
      "source": [
        "# get image from Drive (ابولفصل باید این رو دانلود کنند به نظرم کد دانلود را همین جا بگذار که دانلود و از زیپ خارج کنند)\n",
        "rootDir = '/content/drive/MyDrive/FaceDataset.zip'\n",
        "!unzip $rootDir -d .\n"
      ]
    },
    {
      "cell_type": "code",
      "execution_count": null,
      "metadata": {
        "id": "Ef_OZLnEAn1m"
      },
      "outputs": [],
      "source": [
        "# training\n",
        "!python faceSentiment.py \"--Facedataset_path=.\"  \"--workers=2\"  \"--num_head=4\" \"--Test=0\" \"--model_path=/content/checkpoints/rafdb_epoch12_acc0.3844_bacc0.3561.pth\""
      ]
    },
    {
      "cell_type": "code",
      "execution_count": null,
      "metadata": {
        "id": "6SLjiusxbTO2"
      },
      "outputs": [],
      "source": [
        "# test\n",
        "!python faceSentiment.py \"--Facedataset_path=.\"  \"--workers=2\"  \"--num_head=4\" \"--Test=1\" \"--model_path=/content/checkpoints/rafdb_epoch12_acc0.3844_bacc0.3561.pth\""
      ]
    },
    {
      "attachments": {},
      "cell_type": "markdown",
      "metadata": {},
      "source": [
        "# 1-3 Join Networks and get final result "
      ]
    },
    {
      "cell_type": "code",
      "execution_count": null,
      "metadata": {},
      "outputs": [],
      "source": [
        "tf = Compose([]) \n",
        "training_data = MSCTD(\n",
        "        mode='train', \n",
        "        transformer=tf,\n",
        "        download=True,\n",
        "        root_dir=\".\",\n",
        "        read_mode=\"scene\")\n",
        "\n",
        "valid_data = MSCTD(\n",
        "        mode='validation',\n",
        "        transformer=tf,\n",
        "        download=True,\n",
        "        root_dir=\".\",\n",
        "        read_mode=\"scene\")\n",
        "\n",
        "test_data = MSCTD(\n",
        "        mode='test',\n",
        "        transformer=tf,\n",
        "        download=True,\n",
        "        root_dir=\".\",\n",
        "        read_mode=\"scene\")\n"
      ]
    },
    {
      "attachments": {},
      "cell_type": "markdown",
      "metadata": {},
      "source": [
        "ابولفضل تمام این قسمت احتیاج به دیتا ست دارد و البته تمام تصاویر تولید شده از قبل البته بدون آگمنیشن"
      ]
    },
    {
      "cell_type": "code",
      "execution_count": null,
      "metadata": {},
      "outputs": [],
      "source": [
        "# train\n",
        "!python ModelPip.py \"--FaceDataset_path=.\" \"--Test=0\" \"--lr=1e-3\" \"--workers=2\" \"--batch_size=256\" \"--epochs=40\" \"--num_head=4\" \"--Model_path=/content/checkpoints/rafdb_epoch18_acc0.3992_bacc0.3682.pth\""
      ]
    },
    {
      "cell_type": "code",
      "execution_count": null,
      "metadata": {},
      "outputs": [],
      "source": [
        "# test\n",
        "!python ModelPip.py \"--FaceDataset_path=.\" \"--Test=1\" \"--lr=1e-3\" \"--workers=2\" \"--batch_size=256\" \"--epochs=40\" \"--num_head=4\" \"--Model_path=/content/checkpoints/rafdb_epoch18_acc0.3992_bacc0.3682.pth\""
      ]
    }
  ],
  "metadata": {
    "accelerator": "GPU",
    "colab": {
      "collapsed_sections": [
        "cUuPsRwzhsCe",
        "aTVu33WzDDDu",
        "dgNEYnl6GYS_"
      ],
      "provenance": []
    },
    "gpuClass": "standard",
    "kernelspec": {
      "display_name": "Python 3",
      "language": "python",
      "name": "python3"
    },
    "language_info": {
      "codemirror_mode": {
        "name": "ipython",
        "version": 3
      },
      "file_extension": ".py",
      "mimetype": "text/x-python",
      "name": "python",
      "nbconvert_exporter": "python",
      "pygments_lexer": "ipython3",
      "version": "3.8.10"
    },
    "vscode": {
      "interpreter": {
        "hash": "570feb405e2e27c949193ac68f46852414290d515b0ba6e5d90d076ed2284471"
      }
    },
    "widgets": {
      "application/vnd.jupyter.widget-state+json": {
        "2d75e3ac5afd436ab98cee379def5246": {
          "model_module": "@jupyter-widgets/controls",
          "model_module_version": "1.5.0",
          "model_name": "DescriptionStyleModel",
          "state": {
            "_model_module": "@jupyter-widgets/controls",
            "_model_module_version": "1.5.0",
            "_model_name": "DescriptionStyleModel",
            "_view_count": null,
            "_view_module": "@jupyter-widgets/base",
            "_view_module_version": "1.2.0",
            "_view_name": "StyleView",
            "description_width": ""
          }
        },
        "30d68ba465a545a7ad16586516a953fb": {
          "model_module": "@jupyter-widgets/base",
          "model_module_version": "1.2.0",
          "model_name": "LayoutModel",
          "state": {
            "_model_module": "@jupyter-widgets/base",
            "_model_module_version": "1.2.0",
            "_model_name": "LayoutModel",
            "_view_count": null,
            "_view_module": "@jupyter-widgets/base",
            "_view_module_version": "1.2.0",
            "_view_name": "LayoutView",
            "align_content": null,
            "align_items": null,
            "align_self": null,
            "border": null,
            "bottom": null,
            "display": null,
            "flex": null,
            "flex_flow": null,
            "grid_area": null,
            "grid_auto_columns": null,
            "grid_auto_flow": null,
            "grid_auto_rows": null,
            "grid_column": null,
            "grid_gap": null,
            "grid_row": null,
            "grid_template_areas": null,
            "grid_template_columns": null,
            "grid_template_rows": null,
            "height": null,
            "justify_content": null,
            "justify_items": null,
            "left": null,
            "margin": null,
            "max_height": null,
            "max_width": null,
            "min_height": null,
            "min_width": null,
            "object_fit": null,
            "object_position": null,
            "order": null,
            "overflow": null,
            "overflow_x": null,
            "overflow_y": null,
            "padding": null,
            "right": null,
            "top": null,
            "visibility": null,
            "width": null
          }
        },
        "4a946f815836454eb8f489e6f981aae1": {
          "model_module": "@jupyter-widgets/controls",
          "model_module_version": "1.5.0",
          "model_name": "DescriptionStyleModel",
          "state": {
            "_model_module": "@jupyter-widgets/controls",
            "_model_module_version": "1.5.0",
            "_model_name": "DescriptionStyleModel",
            "_view_count": null,
            "_view_module": "@jupyter-widgets/base",
            "_view_module_version": "1.2.0",
            "_view_name": "StyleView",
            "description_width": ""
          }
        },
        "4c8f5ca4502745b1a0401839b5b4e438": {
          "model_module": "@jupyter-widgets/base",
          "model_module_version": "1.2.0",
          "model_name": "LayoutModel",
          "state": {
            "_model_module": "@jupyter-widgets/base",
            "_model_module_version": "1.2.0",
            "_model_name": "LayoutModel",
            "_view_count": null,
            "_view_module": "@jupyter-widgets/base",
            "_view_module_version": "1.2.0",
            "_view_name": "LayoutView",
            "align_content": null,
            "align_items": null,
            "align_self": null,
            "border": null,
            "bottom": null,
            "display": null,
            "flex": null,
            "flex_flow": null,
            "grid_area": null,
            "grid_auto_columns": null,
            "grid_auto_flow": null,
            "grid_auto_rows": null,
            "grid_column": null,
            "grid_gap": null,
            "grid_row": null,
            "grid_template_areas": null,
            "grid_template_columns": null,
            "grid_template_rows": null,
            "height": null,
            "justify_content": null,
            "justify_items": null,
            "left": null,
            "margin": null,
            "max_height": null,
            "max_width": null,
            "min_height": null,
            "min_width": null,
            "object_fit": null,
            "object_position": null,
            "order": null,
            "overflow": null,
            "overflow_x": null,
            "overflow_y": null,
            "padding": null,
            "right": null,
            "top": null,
            "visibility": null,
            "width": null
          }
        },
        "9f928a912d0946438d38feb585100547": {
          "model_module": "@jupyter-widgets/base",
          "model_module_version": "1.2.0",
          "model_name": "LayoutModel",
          "state": {
            "_model_module": "@jupyter-widgets/base",
            "_model_module_version": "1.2.0",
            "_model_name": "LayoutModel",
            "_view_count": null,
            "_view_module": "@jupyter-widgets/base",
            "_view_module_version": "1.2.0",
            "_view_name": "LayoutView",
            "align_content": null,
            "align_items": null,
            "align_self": null,
            "border": null,
            "bottom": null,
            "display": null,
            "flex": null,
            "flex_flow": null,
            "grid_area": null,
            "grid_auto_columns": null,
            "grid_auto_flow": null,
            "grid_auto_rows": null,
            "grid_column": null,
            "grid_gap": null,
            "grid_row": null,
            "grid_template_areas": null,
            "grid_template_columns": null,
            "grid_template_rows": null,
            "height": null,
            "justify_content": null,
            "justify_items": null,
            "left": null,
            "margin": null,
            "max_height": null,
            "max_width": null,
            "min_height": null,
            "min_width": null,
            "object_fit": null,
            "object_position": null,
            "order": null,
            "overflow": null,
            "overflow_x": null,
            "overflow_y": null,
            "padding": null,
            "right": null,
            "top": null,
            "visibility": null,
            "width": null
          }
        },
        "b844fc77bb9d49e98f60f99d9981a3d0": {
          "model_module": "@jupyter-widgets/controls",
          "model_module_version": "1.5.0",
          "model_name": "HBoxModel",
          "state": {
            "_dom_classes": [],
            "_model_module": "@jupyter-widgets/controls",
            "_model_module_version": "1.5.0",
            "_model_name": "HBoxModel",
            "_view_count": null,
            "_view_module": "@jupyter-widgets/controls",
            "_view_module_version": "1.5.0",
            "_view_name": "HBoxView",
            "box_style": "",
            "children": [
              "IPY_MODEL_bb2b923584684415baa3aa4ba112f666",
              "IPY_MODEL_cb4803415d504532a12ef38a625bf1fe",
              "IPY_MODEL_cd644b23f98b469f8e50d28b7f21fba2"
            ],
            "layout": "IPY_MODEL_30d68ba465a545a7ad16586516a953fb"
          }
        },
        "bb2b923584684415baa3aa4ba112f666": {
          "model_module": "@jupyter-widgets/controls",
          "model_module_version": "1.5.0",
          "model_name": "HTMLModel",
          "state": {
            "_dom_classes": [],
            "_model_module": "@jupyter-widgets/controls",
            "_model_module_version": "1.5.0",
            "_model_name": "HTMLModel",
            "_view_count": null,
            "_view_module": "@jupyter-widgets/controls",
            "_view_module_version": "1.5.0",
            "_view_name": "HTMLView",
            "description": "",
            "description_tooltip": null,
            "layout": "IPY_MODEL_4c8f5ca4502745b1a0401839b5b4e438",
            "placeholder": "​",
            "style": "IPY_MODEL_4a946f815836454eb8f489e6f981aae1",
            "value": "100%"
          }
        },
        "cb4803415d504532a12ef38a625bf1fe": {
          "model_module": "@jupyter-widgets/controls",
          "model_module_version": "1.5.0",
          "model_name": "FloatProgressModel",
          "state": {
            "_dom_classes": [],
            "_model_module": "@jupyter-widgets/controls",
            "_model_module_version": "1.5.0",
            "_model_name": "FloatProgressModel",
            "_view_count": null,
            "_view_module": "@jupyter-widgets/controls",
            "_view_module_version": "1.5.0",
            "_view_name": "ProgressView",
            "bar_style": "success",
            "description": "",
            "description_tooltip": null,
            "layout": "IPY_MODEL_f8a03a7b5f1441ec8a681c0feccaaff2",
            "max": 102540417,
            "min": 0,
            "orientation": "horizontal",
            "style": "IPY_MODEL_e4f9f7d11cd54acf94f97e996d3ed765",
            "value": 102540417
          }
        },
        "cd644b23f98b469f8e50d28b7f21fba2": {
          "model_module": "@jupyter-widgets/controls",
          "model_module_version": "1.5.0",
          "model_name": "HTMLModel",
          "state": {
            "_dom_classes": [],
            "_model_module": "@jupyter-widgets/controls",
            "_model_module_version": "1.5.0",
            "_model_name": "HTMLModel",
            "_view_count": null,
            "_view_module": "@jupyter-widgets/controls",
            "_view_module_version": "1.5.0",
            "_view_name": "HTMLView",
            "description": "",
            "description_tooltip": null,
            "layout": "IPY_MODEL_9f928a912d0946438d38feb585100547",
            "placeholder": "​",
            "style": "IPY_MODEL_2d75e3ac5afd436ab98cee379def5246",
            "value": " 97.8M/97.8M [00:00&lt;00:00, 221MB/s]"
          }
        },
        "e4f9f7d11cd54acf94f97e996d3ed765": {
          "model_module": "@jupyter-widgets/controls",
          "model_module_version": "1.5.0",
          "model_name": "ProgressStyleModel",
          "state": {
            "_model_module": "@jupyter-widgets/controls",
            "_model_module_version": "1.5.0",
            "_model_name": "ProgressStyleModel",
            "_view_count": null,
            "_view_module": "@jupyter-widgets/base",
            "_view_module_version": "1.2.0",
            "_view_name": "StyleView",
            "bar_color": null,
            "description_width": ""
          }
        },
        "f8a03a7b5f1441ec8a681c0feccaaff2": {
          "model_module": "@jupyter-widgets/base",
          "model_module_version": "1.2.0",
          "model_name": "LayoutModel",
          "state": {
            "_model_module": "@jupyter-widgets/base",
            "_model_module_version": "1.2.0",
            "_model_name": "LayoutModel",
            "_view_count": null,
            "_view_module": "@jupyter-widgets/base",
            "_view_module_version": "1.2.0",
            "_view_name": "LayoutView",
            "align_content": null,
            "align_items": null,
            "align_self": null,
            "border": null,
            "bottom": null,
            "display": null,
            "flex": null,
            "flex_flow": null,
            "grid_area": null,
            "grid_auto_columns": null,
            "grid_auto_flow": null,
            "grid_auto_rows": null,
            "grid_column": null,
            "grid_gap": null,
            "grid_row": null,
            "grid_template_areas": null,
            "grid_template_columns": null,
            "grid_template_rows": null,
            "height": null,
            "justify_content": null,
            "justify_items": null,
            "left": null,
            "margin": null,
            "max_height": null,
            "max_width": null,
            "min_height": null,
            "min_width": null,
            "object_fit": null,
            "object_position": null,
            "order": null,
            "overflow": null,
            "overflow_x": null,
            "overflow_y": null,
            "padding": null,
            "right": null,
            "top": null,
            "visibility": null,
            "width": null
          }
        }
      }
    }
  },
  "nbformat": 4,
  "nbformat_minor": 0
}
